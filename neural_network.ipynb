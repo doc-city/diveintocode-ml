{
 "cells": [
  {
   "cell_type": "code",
   "execution_count": 51,
   "id": "4b8a0427",
   "metadata": {},
   "outputs": [],
   "source": [
    "import numpy as np\n",
    "import pandas as pd\n",
    "import matplotlib.pyplot as plt\n",
    "%matplotlib inline\n",
    "\n",
    "from sklearn.model_selection import train_test_split\n",
    "from sklearn.metrics import accuracy_score"
   ]
  },
  {
   "cell_type": "markdown",
   "id": "1e7837cc",
   "metadata": {},
   "source": [
    "# MNIST Dataset"
   ]
  },
  {
   "cell_type": "code",
   "execution_count": 52,
   "id": "816f3215",
   "metadata": {},
   "outputs": [],
   "source": [
    "from keras.datasets import mnist\n",
    "(X_train, y_train), (X_test, y_test) = mnist.load_data()"
   ]
  },
  {
   "cell_type": "code",
   "execution_count": 53,
   "id": "a04fdbed",
   "metadata": {},
   "outputs": [
    {
     "name": "stdout",
     "output_type": "stream",
     "text": [
      "(60000, 28, 28)\n",
      "(10000, 28, 28)\n",
      "uint8\n",
      "[[  0   0   0   0   0   0   0   0   0   0   0   0   0   0   0   0   0   0\n",
      "    0   0   0   0   0   0   0   0   0   0]\n",
      " [  0   0   0   0   0   0   0   0   0   0   0   0   0   0   0   0   0   0\n",
      "    0   0   0   0   0   0   0   0   0   0]\n",
      " [  0   0   0   0   0   0   0   0   0   0   0   0   0   0   0   0   0   0\n",
      "    0   0   0   0   0   0   0   0   0   0]\n",
      " [  0   0   0   0   0   0   0   0   0   0   0   0   0   0   0   0   0   0\n",
      "    0   0   0   0   0   0   0   0   0   0]\n",
      " [  0   0   0   0   0   0   0   0   0   0   0   0   0   0   0   0   0   0\n",
      "    0   0   0   0   0   0   0   0   0   0]\n",
      " [  0   0   0   0   0   0   0   0   0   0   0   0   3  18  18  18 126 136\n",
      "  175  26 166 255 247 127   0   0   0   0]\n",
      " [  0   0   0   0   0   0   0   0  30  36  94 154 170 253 253 253 253 253\n",
      "  225 172 253 242 195  64   0   0   0   0]\n",
      " [  0   0   0   0   0   0   0  49 238 253 253 253 253 253 253 253 253 251\n",
      "   93  82  82  56  39   0   0   0   0   0]\n",
      " [  0   0   0   0   0   0   0  18 219 253 253 253 253 253 198 182 247 241\n",
      "    0   0   0   0   0   0   0   0   0   0]\n",
      " [  0   0   0   0   0   0   0   0  80 156 107 253 253 205  11   0  43 154\n",
      "    0   0   0   0   0   0   0   0   0   0]\n",
      " [  0   0   0   0   0   0   0   0   0  14   1 154 253  90   0   0   0   0\n",
      "    0   0   0   0   0   0   0   0   0   0]\n",
      " [  0   0   0   0   0   0   0   0   0   0   0 139 253 190   2   0   0   0\n",
      "    0   0   0   0   0   0   0   0   0   0]\n",
      " [  0   0   0   0   0   0   0   0   0   0   0  11 190 253  70   0   0   0\n",
      "    0   0   0   0   0   0   0   0   0   0]\n",
      " [  0   0   0   0   0   0   0   0   0   0   0   0  35 241 225 160 108   1\n",
      "    0   0   0   0   0   0   0   0   0   0]\n",
      " [  0   0   0   0   0   0   0   0   0   0   0   0   0  81 240 253 253 119\n",
      "   25   0   0   0   0   0   0   0   0   0]\n",
      " [  0   0   0   0   0   0   0   0   0   0   0   0   0   0  45 186 253 253\n",
      "  150  27   0   0   0   0   0   0   0   0]\n",
      " [  0   0   0   0   0   0   0   0   0   0   0   0   0   0   0  16  93 252\n",
      "  253 187   0   0   0   0   0   0   0   0]\n",
      " [  0   0   0   0   0   0   0   0   0   0   0   0   0   0   0   0   0 249\n",
      "  253 249  64   0   0   0   0   0   0   0]\n",
      " [  0   0   0   0   0   0   0   0   0   0   0   0   0   0  46 130 183 253\n",
      "  253 207   2   0   0   0   0   0   0   0]\n",
      " [  0   0   0   0   0   0   0   0   0   0   0   0  39 148 229 253 253 253\n",
      "  250 182   0   0   0   0   0   0   0   0]\n",
      " [  0   0   0   0   0   0   0   0   0   0  24 114 221 253 253 253 253 201\n",
      "   78   0   0   0   0   0   0   0   0   0]\n",
      " [  0   0   0   0   0   0   0   0  23  66 213 253 253 253 253 198  81   2\n",
      "    0   0   0   0   0   0   0   0   0   0]\n",
      " [  0   0   0   0   0   0  18 171 219 253 253 253 253 195  80   9   0   0\n",
      "    0   0   0   0   0   0   0   0   0   0]\n",
      " [  0   0   0   0  55 172 226 253 253 253 253 244 133  11   0   0   0   0\n",
      "    0   0   0   0   0   0   0   0   0   0]\n",
      " [  0   0   0   0 136 253 253 253 212 135 132  16   0   0   0   0   0   0\n",
      "    0   0   0   0   0   0   0   0   0   0]\n",
      " [  0   0   0   0   0   0   0   0   0   0   0   0   0   0   0   0   0   0\n",
      "    0   0   0   0   0   0   0   0   0   0]\n",
      " [  0   0   0   0   0   0   0   0   0   0   0   0   0   0   0   0   0   0\n",
      "    0   0   0   0   0   0   0   0   0   0]\n",
      " [  0   0   0   0   0   0   0   0   0   0   0   0   0   0   0   0   0   0\n",
      "    0   0   0   0   0   0   0   0   0   0]]\n"
     ]
    }
   ],
   "source": [
    "print(X_train.shape) # (60000, 28, 28)\n",
    "print(X_test.shape) # (10000, 28, 28)\n",
    "print(X_train[0].dtype) # uint8\n",
    "print(X_train[0])"
   ]
  },
  {
   "cell_type": "markdown",
   "id": "1c4ff028",
   "metadata": {},
   "source": [
    "# Smoothing"
   ]
  },
  {
   "cell_type": "code",
   "execution_count": 54,
   "id": "c1166834",
   "metadata": {},
   "outputs": [],
   "source": [
    "X_train = X_train.reshape(-1, 784)\n",
    "X_test = X_test.reshape(-1, 784)"
   ]
  },
  {
   "cell_type": "code",
   "execution_count": 55,
   "id": "28e4d743",
   "metadata": {},
   "outputs": [
    {
     "data": {
      "image/png": "[encoded data removed]",
      "text/plain": [
       "<Figure size 432x288 with 1 Axes>"
      ]
     },
     "metadata": {
      "needs_background": "light"
     },
     "output_type": "display_data"
    }
   ],
   "source": [
    "import matplotlib.pyplot as plt\n",
    "%matplotlib inline\n",
    "index = 0\n",
    "image = X_train[index].reshape(28,28)\n",
    "# X_train[index]: (784,)\n",
    "# image: (28, 28)\n",
    "plt.imshow(image, 'gray')\n",
    "plt.title('label : {}'.format(y_train[index]))\n",
    "plt.show()"
   ]
  },
  {
   "cell_type": "code",
   "execution_count": 56,
   "id": "b3282a57",
   "metadata": {},
   "outputs": [
    {
     "name": "stderr",
     "output_type": "stream",
     "text": [
      "<ipython-input-56-73a8eaf8c572>:3: DeprecationWarning: `np.float` is a deprecated alias for the builtin `float`. To silence this warning, use `float` by itself. Doing this will not modify any behavior and is safe. If you specifically wanted the numpy scalar type, use `np.float64` here.\n",
      "Deprecated in NumPy 1.20; for more details and guidance: https://numpy.org/devdocs/release/1.20.0-notes.html#deprecations\n",
      "  image = image.astype(np.float) ## Convert to float type\n"
     ]
    },
    {
     "data": {
      "image/png": "[encoded data removed]",
      "text/plain": [
       "<Figure size 432x288 with 1 Axes>"
      ]
     },
     "metadata": {
      "needs_background": "light"
     },
     "output_type": "display_data"
    },
    {
     "name": "stdout",
     "output_type": "stream",
     "text": [
      "[[-105.35 -105.35 -105.35 -105.35 -105.35 -105.35 -105.35 -105.35 -105.35\n",
      "  -105.35 -105.35 -105.35 -105.35 -105.35 -105.35 -105.35 -105.35 -105.35\n",
      "  -105.35 -105.35 -105.35 -105.35 -105.35 -105.35 -105.35 -105.35 -105.35\n",
      "  -105.35]\n",
      " [-105.35 -105.35 -105.35 -105.35 -105.35 -105.35 -105.35 -105.35 -105.35\n",
      "  -105.35 -105.35 -105.35 -105.35 -105.35 -105.35 -105.35 -105.35 -105.35\n",
      "  -105.35 -105.35 -105.35 -105.35 -105.35 -105.35 -105.35 -105.35 -105.35\n",
      "  -105.35]\n",
      " [-105.35 -105.35 -105.35 -105.35 -105.35 -105.35 -105.35 -105.35 -105.35\n",
      "  -105.35 -105.35 -105.35 -105.35 -105.35 -105.35 -105.35 -105.35 -105.35\n",
      "  -105.35 -105.35 -105.35 -105.35 -105.35 -105.35 -105.35 -105.35 -105.35\n",
      "  -105.35]\n",
      " [-105.35 -105.35 -105.35 -105.35 -105.35 -105.35 -105.35 -105.35 -105.35\n",
      "  -105.35 -105.35 -105.35 -105.35 -105.35 -105.35 -105.35 -105.35 -105.35\n",
      "  -105.35 -105.35 -105.35 -105.35 -105.35 -105.35 -105.35 -105.35 -105.35\n",
      "  -105.35]\n",
      " [-105.35 -105.35 -105.35 -105.35 -105.35 -105.35 -105.35 -105.35 -105.35\n",
      "  -105.35 -105.35 -105.35 -105.35 -105.35 -105.35 -105.35 -105.35 -105.35\n",
      "  -105.35 -105.35 -105.35 -105.35 -105.35 -105.35 -105.35 -105.35 -105.35\n",
      "  -105.35]\n",
      " [-105.35 -105.35 -105.35 -105.35 -105.35 -105.35 -105.35 -105.35 -105.35\n",
      "  -105.35 -105.35 -105.35 -102.35  -87.35  -87.35  -87.35   20.65   30.65\n",
      "    69.65  -79.35   60.65  149.65  141.65   21.65 -105.35 -105.35 -105.35\n",
      "  -105.35]\n",
      " [-105.35 -105.35 -105.35 -105.35 -105.35 -105.35 -105.35 -105.35  -75.35\n",
      "   -69.35  -11.35   48.65   64.65  147.65  147.65  147.65  147.65  147.65\n",
      "   119.65   66.65  147.65  136.65   89.65  -41.35 -105.35 -105.35 -105.35\n",
      "  -105.35]\n",
      " [-105.35 -105.35 -105.35 -105.35 -105.35 -105.35 -105.35  -56.35  132.65\n",
      "   147.65  147.65  147.65  147.65  147.65  147.65  147.65  147.65  145.65\n",
      "   -12.35  -23.35  -23.35  -49.35  -66.35 -105.35 -105.35 -105.35 -105.35\n",
      "  -105.35]\n",
      " [-105.35 -105.35 -105.35 -105.35 -105.35 -105.35 -105.35  -87.35  113.65\n",
      "   147.65  147.65  147.65  147.65  147.65   92.65   76.65  141.65  135.65\n",
      "  -105.35 -105.35 -105.35 -105.35 -105.35 -105.35 -105.35 -105.35 -105.35\n",
      "  -105.35]\n",
      " [-105.35 -105.35 -105.35 -105.35 -105.35 -105.35 -105.35 -105.35  -25.35\n",
      "    50.65    1.65  147.65  147.65   99.65  -94.35 -105.35  -62.35   48.65\n",
      "  -105.35 -105.35 -105.35 -105.35 -105.35 -105.35 -105.35 -105.35 -105.35\n",
      "  -105.35]\n",
      " [-105.35 -105.35 -105.35 -105.35 -105.35 -105.35 -105.35 -105.35 -105.35\n",
      "   -91.35 -104.35   48.65  147.65  -15.35 -105.35 -105.35 -105.35 -105.35\n",
      "  -105.35 -105.35 -105.35 -105.35 -105.35 -105.35 -105.35 -105.35 -105.35\n",
      "  -105.35]\n",
      " [-105.35 -105.35 -105.35 -105.35 -105.35 -105.35 -105.35 -105.35 -105.35\n",
      "  -105.35 -105.35   33.65  147.65   84.65 -103.35 -105.35 -105.35 -105.35\n",
      "  -105.35 -105.35 -105.35 -105.35 -105.35 -105.35 -105.35 -105.35 -105.35\n",
      "  -105.35]\n",
      " [-105.35 -105.35 -105.35 -105.35 -105.35 -105.35 -105.35 -105.35 -105.35\n",
      "  -105.35 -105.35  -94.35   84.65  147.65  -35.35 -105.35 -105.35 -105.35\n",
      "  -105.35 -105.35 -105.35 -105.35 -105.35 -105.35 -105.35 -105.35 -105.35\n",
      "  -105.35]\n",
      " [-105.35 -105.35 -105.35 -105.35 -105.35 -105.35 -105.35 -105.35 -105.35\n",
      "  -105.35 -105.35 -105.35  -70.35  135.65  119.65   54.65    2.65 -104.35\n",
      "  -105.35 -105.35 -105.35 -105.35 -105.35 -105.35 -105.35 -105.35 -105.35\n",
      "  -105.35]\n",
      " [-105.35 -105.35 -105.35 -105.35 -105.35 -105.35 -105.35 -105.35 -105.35\n",
      "  -105.35 -105.35 -105.35 -105.35  -24.35  134.65  147.65  147.65   13.65\n",
      "   -80.35 -105.35 -105.35 -105.35 -105.35 -105.35 -105.35 -105.35 -105.35\n",
      "  -105.35]\n",
      " [-105.35 -105.35 -105.35 -105.35 -105.35 -105.35 -105.35 -105.35 -105.35\n",
      "  -105.35 -105.35 -105.35 -105.35 -105.35  -60.35   80.65  147.65  147.65\n",
      "    44.65  -78.35 -105.35 -105.35 -105.35 -105.35 -105.35 -105.35 -105.35\n",
      "  -105.35]\n",
      " [-105.35 -105.35 -105.35 -105.35 -105.35 -105.35 -105.35 -105.35 -105.35\n",
      "  -105.35 -105.35 -105.35 -105.35 -105.35 -105.35  -89.35  -12.35  146.65\n",
      "   147.65   81.65 -105.35 -105.35 -105.35 -105.35 -105.35 -105.35 -105.35\n",
      "  -105.35]\n",
      " [-105.35 -105.35 -105.35 -105.35 -105.35 -105.35 -105.35 -105.35 -105.35\n",
      "  -105.35 -105.35 -105.35 -105.35 -105.35 -105.35 -105.35 -105.35  143.65\n",
      "   147.65  143.65  -41.35 -105.35 -105.35 -105.35 -105.35 -105.35 -105.35\n",
      "  -105.35]\n",
      " [-105.35 -105.35 -105.35 -105.35 -105.35 -105.35 -105.35 -105.35 -105.35\n",
      "  -105.35 -105.35 -105.35 -105.35 -105.35  -59.35   24.65   77.65  147.65\n",
      "   147.65  101.65 -103.35 -105.35 -105.35 -105.35 -105.35 -105.35 -105.35\n",
      "  -105.35]\n",
      " [-105.35 -105.35 -105.35 -105.35 -105.35 -105.35 -105.35 -105.35 -105.35\n",
      "  -105.35 -105.35 -105.35  -66.35   42.65  123.65  147.65  147.65  147.65\n",
      "   144.65   76.65 -105.35 -105.35 -105.35 -105.35 -105.35 -105.35 -105.35\n",
      "  -105.35]\n",
      " [-105.35 -105.35 -105.35 -105.35 -105.35 -105.35 -105.35 -105.35 -105.35\n",
      "  -105.35  -81.35    8.65  115.65  147.65  147.65  147.65  147.65   95.65\n",
      "   -27.35 -105.35 -105.35 -105.35 -105.35 -105.35 -105.35 -105.35 -105.35\n",
      "  -105.35]\n",
      " [-105.35 -105.35 -105.35 -105.35 -105.35 -105.35 -105.35 -105.35  -82.35\n",
      "   -39.35  107.65  147.65  147.65  147.65  147.65   92.65  -24.35 -103.35\n",
      "  -105.35 -105.35 -105.35 -105.35 -105.35 -105.35 -105.35 -105.35 -105.35\n",
      "  -105.35]\n",
      " [-105.35 -105.35 -105.35 -105.35 -105.35 -105.35  -87.35   65.65  113.65\n",
      "   147.65  147.65  147.65  147.65   89.65  -25.35  -96.35 -105.35 -105.35\n",
      "  -105.35 -105.35 -105.35 -105.35 -105.35 -105.35 -105.35 -105.35 -105.35\n",
      "  -105.35]\n",
      " [-105.35 -105.35 -105.35 -105.35  -50.35   66.65  120.65  147.65  147.65\n",
      "   147.65  147.65  138.65   27.65  -94.35 -105.35 -105.35 -105.35 -105.35\n",
      "  -105.35 -105.35 -105.35 -105.35 -105.35 -105.35 -105.35 -105.35 -105.35\n",
      "  -105.35]\n",
      " [-105.35 -105.35 -105.35 -105.35   30.65  147.65  147.65  147.65  106.65\n",
      "    29.65   26.65  -89.35 -105.35 -105.35 -105.35 -105.35 -105.35 -105.35\n",
      "  -105.35 -105.35 -105.35 -105.35 -105.35 -105.35 -105.35 -105.35 -105.35\n",
      "  -105.35]\n",
      " [-105.35 -105.35 -105.35 -105.35 -105.35 -105.35 -105.35 -105.35 -105.35\n",
      "  -105.35 -105.35 -105.35 -105.35 -105.35 -105.35 -105.35 -105.35 -105.35\n",
      "  -105.35 -105.35 -105.35 -105.35 -105.35 -105.35 -105.35 -105.35 -105.35\n",
      "  -105.35]\n",
      " [-105.35 -105.35 -105.35 -105.35 -105.35 -105.35 -105.35 -105.35 -105.35\n",
      "  -105.35 -105.35 -105.35 -105.35 -105.35 -105.35 -105.35 -105.35 -105.35\n",
      "  -105.35 -105.35 -105.35 -105.35 -105.35 -105.35 -105.35 -105.35 -105.35\n",
      "  -105.35]\n",
      " [-105.35 -105.35 -105.35 -105.35 -105.35 -105.35 -105.35 -105.35 -105.35\n",
      "  -105.35 -105.35 -105.35 -105.35 -105.35 -105.35 -105.35 -105.35 -105.35\n",
      "  -105.35 -105.35 -105.35 -105.35 -105.35 -105.35 -105.35 -105.35 -105.35\n",
      "  -105.35]]\n"
     ]
    }
   ],
   "source": [
    "index = 0\n",
    "image = X_train[index].reshape(28,28)\n",
    "image = image.astype(np.float) ## Convert to float type\n",
    "image -= 105.35 ## Intentionally try to create a negative decimal value\n",
    "plt.imshow(image, 'gray')\n",
    "plt.title('label : {}'.format(y_train[index]))\n",
    "plt.show()\n",
    "print(image) ## Check the value"
   ]
  },
  {
   "cell_type": "code",
   "execution_count": 57,
   "id": "113cd947",
   "metadata": {},
   "outputs": [
    {
     "data": {
      "text/plain": [
       "<matplotlib.image.AxesImage at 0x148b1fe9250>"
      ]
     },
     "execution_count": 57,
     "metadata": {},
     "output_type": "execute_result"
    },
    {
     "data": {
      "image/png": "[encoded data removed]",
      "text/plain": [
       "<Figure size 432x288 with 1 Axes>"
      ]
     },
     "metadata": {
      "needs_background": "light"
     },
     "output_type": "display_data"
    }
   ],
   "source": [
    "plt.imshow(image, 'gray', vmin = 0, vmax = 255)"
   ]
  },
  {
   "cell_type": "markdown",
   "id": "dd0924ea",
   "metadata": {},
   "source": [
    "# Preprocessing"
   ]
  },
  {
   "cell_type": "code",
   "execution_count": 58,
   "id": "e39954a0",
   "metadata": {},
   "outputs": [
    {
     "name": "stderr",
     "output_type": "stream",
     "text": [
      "<ipython-input-58-c6e824832d96>:1: DeprecationWarning: `np.float` is a deprecated alias for the builtin `float`. To silence this warning, use `float` by itself. Doing this will not modify any behavior and is safe. If you specifically wanted the numpy scalar type, use `np.float64` here.\n",
      "Deprecated in NumPy 1.20; for more details and guidance: https://numpy.org/devdocs/release/1.20.0-notes.html#deprecations\n",
      "  X_train = X_train.astype(np.float)\n",
      "<ipython-input-58-c6e824832d96>:2: DeprecationWarning: `np.float` is a deprecated alias for the builtin `float`. To silence this warning, use `float` by itself. Doing this will not modify any behavior and is safe. If you specifically wanted the numpy scalar type, use `np.float64` here.\n",
      "Deprecated in NumPy 1.20; for more details and guidance: https://numpy.org/devdocs/release/1.20.0-notes.html#deprecations\n",
      "  X_test = X_test.astype(np.float)\n"
     ]
    },
    {
     "name": "stdout",
     "output_type": "stream",
     "text": [
      "1.0\n",
      "0.0\n"
     ]
    }
   ],
   "source": [
    "X_train = X_train.astype(np.float)\n",
    "X_test = X_test.astype(np.float)\n",
    "X_train /= 255\n",
    "X_test /= 255\n",
    "print(X_train.max()) # 1.0\n",
    "print(X_train.min()) # 0.0"
   ]
  },
  {
   "cell_type": "code",
   "execution_count": 59,
   "id": "492c319e",
   "metadata": {},
   "outputs": [
    {
     "name": "stdout",
     "output_type": "stream",
     "text": [
      "(60000,)\n",
      "(60000, 10)\n",
      "float64\n"
     ]
    }
   ],
   "source": [
    "from sklearn.preprocessing import OneHotEncoder\n",
    "enc = OneHotEncoder(handle_unknown='ignore', sparse=False)\n",
    "y_train_one_hot = enc.fit_transform(y_train[:, np.newaxis])\n",
    "y_test_one_hot = enc.transform(y_test[:, np.newaxis])\n",
    "print(y_train.shape) # (60000,)\n",
    "print(y_train_one_hot.shape) # (60000, 10)\n",
    "print(y_train_one_hot.dtype) # float64"
   ]
  },
  {
   "cell_type": "code",
   "execution_count": 60,
   "id": "ccee141e",
   "metadata": {},
   "outputs": [
    {
     "name": "stdout",
     "output_type": "stream",
     "text": [
      "(48000, 784)\n",
      "(12000, 784)\n"
     ]
    }
   ],
   "source": [
    "X_train, X_val, y_train, y_val = train_test_split(X_train, y_train, test_size=0.2)\n",
    "print(X_train.shape) # (48000, 784)\n",
    "print(X_val.shape) # (12000, 784)"
   ]
  },
  {
   "cell_type": "markdown",
   "id": "1af623be",
   "metadata": {},
   "source": [
    "# Neural Network Scratch"
   ]
  },
  {
   "cell_type": "code",
   "execution_count": 61,
   "id": "334c6cff",
   "metadata": {},
   "outputs": [],
   "source": [
    "from sklearn.preprocessing import OneHotEncoder\n",
    "class ScratchSimpleNeuralNetrowkClassifier():\n",
    "    \"\"\"\n",
    "    Simple three-layer neural network classifier\n",
    "\n",
    "    Parameters\n",
    "    ----------\n",
    "\n",
    "    Attributes\n",
    "    ----------\n",
    "    \"\"\"\n",
    "    def __init__(self, n_nodes1, n_nodes2, lr=0.1, epoch=5, batch_size=20, sigma=0.01, activation_func=\"sigmoid\", verbose = True):\n",
    "        self.verbose = verbose\n",
    "        self.params = {}\n",
    "        self.bias = {}\n",
    "        \n",
    "        self.n_nodes1 = n_nodes1\n",
    "        self.n_nodes2 = n_nodes2\n",
    "        self.lr = lr\n",
    "        self.epoch = epoch\n",
    "        self.batch_size = batch_size\n",
    "        self.sigma = sigma\n",
    "        \n",
    "        self.train_loss = []\n",
    "        self.val_loss = []\n",
    "        \n",
    "        if activation_func == \"sigmoid\":\n",
    "            self.forward_activation_func = self._sigmoid_forward\n",
    "            self.backward_activation_func = self._sigmoid_backward\n",
    "        elif activation_func == \"tanh\":\n",
    "            self.forward_activation_func = self._tanh_forward\n",
    "            self.backward_activation_func = self._tanh_backward\n",
    "        else:\n",
    "            raise ValueError(\"No exists such activation function !!\")\n",
    "        \n",
    "    \n",
    "    def fit(self, X, y, X_val=None, y_val=None):\n",
    "        \n",
    "       ## Whether to record the loss function of verification data\n",
    "        calc_val = (X_val is not None) & (y_val is not None)\n",
    "        \n",
    "        ## One_hot conversion of objective variable\n",
    "        y = self._one_hot_encoding(y) \n",
    "        if calc_val:\n",
    "            y_val = self._one_hot_encoding(y_val) \n",
    "        \n",
    "        ## Initial value parameter set\n",
    "        self._set_parameters(X, y)\n",
    "        \n",
    "        ## Mini batch object definition\n",
    "        get_mini_batch = GetMiniBatch(X, y, batch_size=self.batch_size)\n",
    "        \n",
    "        ## Learning\n",
    "        for ep in range(self.epoch):\n",
    "            for mini_X, mini_y in get_mini_batch:\n",
    "                ## Forward propagation\n",
    "                ## ① Hierarchy＝＝＝＝＝＝＝＝＝＝＝＝＝＝＝＝＝＝\n",
    "                A1 = mini_X @ self.params[\"W1\"] + self.bias[\"b1\"]\n",
    "                Z1 = self.forward_activation_func(A1)\n",
    "                ## ② Hierarchy＝＝＝＝＝＝＝＝＝＝＝＝＝＝＝＝＝＝\n",
    "                A2 = Z1 @ self.params[\"W2\"] + self.bias[\"b2\"]\n",
    "                Z2 = self.forward_activation_func(A2)\n",
    "                ## ③ Hierarchy＝＝＝＝＝＝＝＝＝＝＝＝＝＝＝＝＝＝\n",
    "                A3 = Z2 @ self.params[\"W3\"] + self.bias[\"b3\"]\n",
    "                Z3 = self._softmax(A3)\n",
    "                #＝＝＝＝＝＝＝＝＝＝＝＝＝＝＝＝＝＝＝＝＝＝\n",
    "\n",
    "               ## Backpropagation\n",
    "                ## ③ Layer＝＝＝＝＝＝＝＝＝＝＝＝＝＝＝＝＝＝\n",
    "                deltaA3 = Z3 - mini_y\n",
    "                deltaB3 = np.sum(deltaA3, axis=0)\n",
    "                deltaW3 = Z2.T @ deltaA3\n",
    "\n",
    "                self.params[\"W3\"] -= self.lr * deltaW3\n",
    "                self.bias[\"b3\"] -= self.lr * deltaB3\n",
    "                \n",
    "                deltaZ2 = deltaA3 @ self.params[\"W3\"].T\n",
    "\n",
    "                ## ② Layer＝＝＝＝＝＝＝＝＝＝＝＝＝＝＝＝＝＝\n",
    "                deltaA2 = deltaZ2 * self.backward_activation_func(A2) \n",
    "                deltaB2 = np.sum(deltaA2, axis=0)\n",
    "                deltaW2 = Z1.T @ deltaA2\n",
    "\n",
    "                self.params[\"W2\"] -= self.lr * deltaW2\n",
    "                self.bias[\"b2\"] -= self.lr * deltaB2\n",
    "                \n",
    "                deltaZ1 = deltaA2 @ self.params[\"W2\"].T\n",
    "                ## ① Layer＝＝＝＝＝＝＝＝＝＝＝＝＝＝＝＝＝＝\n",
    "                deltaA1 = deltaZ1 * self.backward_activation_func(A1) \n",
    "                deltaB1 = np.sum(deltaA1, axis=0)\n",
    "                deltaW1 = mini_X.T @ deltaA1\n",
    "\n",
    "                self.params[\"W1\"] -= self.lr * deltaW1\n",
    "                self.bias[\"b1\"] -= self.lr * deltaB1\n",
    "                #＝＝＝＝＝＝＝＝＝＝＝＝＝＝＝＝＝＝＝＝＝\n",
    "\n",
    "            ## Record of loss\n",
    "            tr_loss = self._cross_entropy(self.predict_prob(X), y)\n",
    "            self.train_loss.append(tr_loss)\n",
    "            \n",
    "            if self.verbose:\n",
    "                    print(\"Train loss of epoch {}: {}\".format(ep, tr_loss))\n",
    "            \n",
    "            if calc_val:\n",
    "                va_loss = self._cross_entropy(self.predict_prob(X_val), y_val)\n",
    "                self.val_loss.append(va_loss)\n",
    "                \n",
    "                \n",
    "    def predict_prob(self, X):\n",
    "        ## Forward propagation\n",
    "        ## ① Hierarchy＝＝＝＝＝＝＝＝＝＝＝＝＝＝＝＝＝＝\n",
    "        A1 = X @ self.params[\"W1\"] + self.bias[\"b1\"]\n",
    "        Z1 = self.forward_activation_func(A1)\n",
    "        ## ② Hierarchy＝＝＝＝＝＝＝＝＝＝＝＝＝＝＝＝＝＝\n",
    "        A2 = Z1 @ self.params[\"W2\"] + self.bias[\"b2\"]\n",
    "        Z2 = self.forward_activation_func(A2)\n",
    "        ## ③ Hierarchy＝＝＝＝＝＝＝＝＝＝＝＝＝＝＝＝＝＝\n",
    "        A3 = Z2 @ self.params[\"W3\"] + self.bias[\"b3\"]\n",
    "        y = self._softmax(A3)\n",
    "        ##＝＝＝＝＝＝＝＝＝＝＝＝＝＝＝＝＝＝＝＝＝＝\n",
    "        \n",
    "        return y\n",
    "                \n",
    "    def predict(self, X):\n",
    "        y = np.argmax(self.predict_prob(X), axis=1)\n",
    "        \n",
    "        return y\n",
    "    \n",
    "    def _set_parameters(self, X, y):\n",
    "        ## Set the number of features and the number of classes\n",
    "        self.n_features = X.shape[1] \n",
    "        self.n_output = y.shape[1]\n",
    "        \n",
    "        ## Initial weight\n",
    "        self.params[\"W1\"] = self.sigma * np.random.randn(self.n_features, self.n_nodes1)\n",
    "        self.params[\"W2\"] = self.sigma * np.random.randn(self.n_nodes1, self.n_nodes2)\n",
    "        self.params[\"W3\"] = self.sigma * np.random.randn(self.n_nodes2, self.n_output)\n",
    "        \n",
    "       ## Bias initial value\n",
    "        self.bias[\"b1\"] = self.sigma * np.random.randn(self.n_nodes1, )\n",
    "        self.bias[\"b2\"] = self.sigma * np.random.randn(self.n_nodes2, )\n",
    "        self.bias[\"b3\"] = self.sigma * np.random.randn(self.n_output, )\n",
    "    \n",
    "    def _sigmoid_forward(self, X):\n",
    "        return 1 / (1 + np.exp(-X))\n",
    "    \n",
    "    def _tanh_forward(self, X):\n",
    "        return np.tanh(X)\n",
    "    \n",
    "    def _sigmoid_backward(self, X):\n",
    "        return (1-self._sigmoid_forward(X)) * self._sigmoid_forward(X)\n",
    "    \n",
    "    def _tanh_backward(self, X):\n",
    "        return (1 - self._tanh_forward(X)**2)\n",
    "    \n",
    "    def _softmax(self, X):\n",
    "        X = X - np.max(X)\n",
    "        return np.exp(X) / np.sum(np.exp(X), axis=1, keepdims=True)\n",
    "    \n",
    "    def _one_hot_encoding(self, y):\n",
    "        enc = OneHotEncoder(handle_unknown='ignore', sparse=False)\n",
    "        y_one_hot = enc.fit_transform(y[:, np.newaxis])\n",
    "        return y_one_hot\n",
    "\n",
    "    def _cross_entropy(self, X, y):\n",
    "        batch_size = len(X)\n",
    "        delta = 1e-7\n",
    "        return -np.sum(y * np.log(X+delta)) / batch_size"
   ]
  },
  {
   "cell_type": "code",
   "execution_count": 63,
   "id": "be6757b5",
   "metadata": {},
   "outputs": [],
   "source": [
    "class GetMiniBatch:\n",
    "    \"\"\"\n",
    "    Iterator to get a mini-batch\n",
    "\n",
    "    Parameters\n",
    "    ----------\n",
    "    X :The following form ndarray, shape (n_samples, n_features)\n",
    "      Training data\n",
    "    y : The following form ndarray, shape (n_samples, 1)\n",
    "      Correct answer value\n",
    "    batch_size : int\n",
    "      Batch size\n",
    "    seed : int\n",
    "      NumPy random number seed\n",
    "    \"\"\"\n",
    "    def __init__(self, X, y, batch_size = 20, seed=0):\n",
    "        self.batch_size = batch_size\n",
    "        np.random.seed(seed)\n",
    "        shuffle_index = np.random.permutation(np.arange(X.shape[0]))\n",
    "        self._X = X[shuffle_index]\n",
    "        self._y = y[shuffle_index]\n",
    "        self._stop = np.ceil(X.shape[0]/self.batch_size).astype(np.int)\n",
    "    def __len__(self):\n",
    "        return self._stop\n",
    "    def __getitem__(self,item):\n",
    "        p0 = item*self.batch_size\n",
    "        p1 = item*self.batch_size + self.batch_size\n",
    "        return self._X[p0:p1], self._y[p0:p1]        \n",
    "    def __iter__(self):\n",
    "        self._counter = 0\n",
    "        return self\n",
    "    def __next__(self):\n",
    "        if self._counter >= self._stop:\n",
    "            raise StopIteration()\n",
    "        p0 = self._counter*self.batch_size\n",
    "        p1 = self._counter*self.batch_size + self.batch_size\n",
    "        self._counter += 1\n",
    "        return self._X[p0:p1], self._y[p0:p1]\n"
   ]
  },
  {
   "cell_type": "markdown",
   "id": "f3146b91",
   "metadata": {},
   "source": [
    "# Problem 6 \n",
    "## Learning and estimation"
   ]
  },
  {
   "cell_type": "code",
   "execution_count": 64,
   "id": "5b1ea7b2",
   "metadata": {},
   "outputs": [
    {
     "name": "stderr",
     "output_type": "stream",
     "text": [
      "<ipython-input-63-1d8616ca4282>:22: DeprecationWarning: `np.int` is a deprecated alias for the builtin `int`. To silence this warning, use `int` by itself. Doing this will not modify any behavior and is safe. When replacing `np.int`, you may wish to use e.g. `np.int64` or `np.int32` to specify the precision. If you wish to review your current use, check the release note link for additional information.\n",
      "Deprecated in NumPy 1.20; for more details and guidance: https://numpy.org/devdocs/release/1.20.0-notes.html#deprecations\n",
      "  self._stop = np.ceil(X.shape[0]/self.batch_size).astype(np.int)\n"
     ]
    },
    {
     "name": "stdout",
     "output_type": "stream",
     "text": [
      "Train loss of epoch 0: 2.321446171816317\n",
      "Train loss of epoch 1: 2.326002838462358\n",
      "Train loss of epoch 2: 2.3284189646742157\n",
      "Train loss of epoch 3: 2.2828928048857153\n",
      "Train loss of epoch 4: 1.6142994230313998\n",
      "Train loss of epoch 5: 1.176154298636984\n",
      "Train loss of epoch 6: 0.830203569353142\n",
      "Train loss of epoch 7: 0.7207670790732811\n",
      "Train loss of epoch 8: 0.6465830572142462\n",
      "Train loss of epoch 9: 0.5768271811397495\n",
      "Train loss of epoch 10: 0.5219023563277866\n",
      "Train loss of epoch 11: 0.48055894263678517\n",
      "Train loss of epoch 12: 0.44439099652654634\n",
      "Train loss of epoch 13: 0.40983846537324553\n",
      "Train loss of epoch 14: 0.3802368525729105\n",
      "Train loss of epoch 15: 0.35769869631424284\n",
      "Train loss of epoch 16: 0.3401477039326962\n",
      "Train loss of epoch 17: 0.32571693117763306\n",
      "Train loss of epoch 18: 0.31337970296782697\n",
      "Train loss of epoch 19: 0.30248424403910545\n",
      "Train loss of epoch 20: 0.29256321325527795\n",
      "Train loss of epoch 21: 0.28328029594604726\n",
      "Train loss of epoch 22: 0.2744068423647841\n",
      "Train loss of epoch 23: 0.26580092568797203\n",
      "Train loss of epoch 24: 0.25738652255830186\n",
      "Train loss of epoch 25: 0.2491350067797522\n",
      "Train loss of epoch 26: 0.24105000957510764\n",
      "Train loss of epoch 27: 0.23315524189654077\n",
      "Train loss of epoch 28: 0.22548451357971183\n",
      "Train loss of epoch 29: 0.21807361150977758\n",
      "Train loss of epoch 30: 0.21095413634263271\n",
      "Train loss of epoch 31: 0.204149473014172\n",
      "Train loss of epoch 32: 0.1976728961469132\n",
      "Train loss of epoch 33: 0.19152755662819948\n",
      "Train loss of epoch 34: 0.18570785040659168\n",
      "Train loss of epoch 35: 0.1802015382774286\n",
      "Train loss of epoch 36: 0.17499202637226519\n",
      "Train loss of epoch 37: 0.17006038747943802\n",
      "Train loss of epoch 38: 0.1653869117395987\n",
      "Train loss of epoch 39: 0.1609521497805611\n",
      "Train loss of epoch 40: 0.15673752101709804\n",
      "Train loss of epoch 41: 0.15272560601256457\n",
      "Train loss of epoch 42: 0.14890024215000838\n",
      "Train loss of epoch 43: 0.14524651807588188\n",
      "Train loss of epoch 44: 0.1417507316004551\n",
      "Train loss of epoch 45: 0.13840034729138842\n",
      "Train loss of epoch 46: 0.13518396768582502\n",
      "Train loss of epoch 47: 0.13209131722157189\n",
      "Train loss of epoch 48: 0.1291132303069603\n",
      "Train loss of epoch 49: 0.12624163239481875\n"
     ]
    }
   ],
   "source": [
    "nn = ScratchSimpleNeuralNetrowkClassifier(400,200, epoch=50,lr=1e-3)\n",
    "nn.fit(X_train, y_train, X_test, y_test)"
   ]
  },
  {
   "cell_type": "code",
   "execution_count": 65,
   "id": "74572675",
   "metadata": {},
   "outputs": [
    {
     "name": "stdout",
     "output_type": "stream",
     "text": [
      "pred: [7 2 1 ... 4 5 6]\n",
      "ans: [7 2 1 ... 4 5 6]\n",
      "accuracy score: 0.9576\n"
     ]
    }
   ],
   "source": [
    "y_pred = nn.predict(X_test)\n",
    "print(\"pred:\", y_pred)\n",
    "print(\"ans:\", y_test)\n",
    "print(\"accuracy score:\", accuracy_score(y_test, y_pred))"
   ]
  },
  {
   "cell_type": "markdown",
   "id": "a2131450",
   "metadata": {},
   "source": [
    "# Problem 7\n",
    "## Plot of learning curve"
   ]
  },
  {
   "cell_type": "code",
   "execution_count": 66,
   "id": "1389fccd",
   "metadata": {},
   "outputs": [
    {
     "data": {
      "image/png": "[encoded data removed]",
      "text/plain": [
       "<Figure size 432x288 with 1 Axes>"
      ]
     },
     "metadata": {
      "needs_background": "light"
     },
     "output_type": "display_data"
    }
   ],
   "source": [
    "plt.plot(nn.train_loss, marker=\"o\", label=\"train_loss\")\n",
    "plt.plot(nn.val_loss, marker=\"^\", label=\"val_loss\")\n",
    "plt.title(\"Loss transition by learning\")\n",
    "plt.xlabel(\"epoch\")\n",
    "plt.ylabel(\"loss\")\n",
    "plt.show()"
   ]
  },
  {
   "cell_type": "code",
   "execution_count": 67,
   "id": "33f07b7f",
   "metadata": {},
   "outputs": [
    {
     "data": {
      "text/plain": [
       "[2.321446171816317,\n",
       " 2.326002838462358,\n",
       " 2.3284189646742157,\n",
       " 2.2828928048857153,\n",
       " 1.6142994230313998,\n",
       " 1.176154298636984,\n",
       " 0.830203569353142,\n",
       " 0.7207670790732811,\n",
       " 0.6465830572142462,\n",
       " 0.5768271811397495,\n",
       " 0.5219023563277866,\n",
       " 0.48055894263678517,\n",
       " 0.44439099652654634,\n",
       " 0.40983846537324553,\n",
       " 0.3802368525729105,\n",
       " 0.35769869631424284,\n",
       " 0.3401477039326962,\n",
       " 0.32571693117763306,\n",
       " 0.31337970296782697,\n",
       " 0.30248424403910545,\n",
       " 0.29256321325527795,\n",
       " 0.28328029594604726,\n",
       " 0.2744068423647841,\n",
       " 0.26580092568797203,\n",
       " 0.25738652255830186,\n",
       " 0.2491350067797522,\n",
       " 0.24105000957510764,\n",
       " 0.23315524189654077,\n",
       " 0.22548451357971183,\n",
       " 0.21807361150977758,\n",
       " 0.21095413634263271,\n",
       " 0.204149473014172,\n",
       " 0.1976728961469132,\n",
       " 0.19152755662819948,\n",
       " 0.18570785040659168,\n",
       " 0.1802015382774286,\n",
       " 0.17499202637226519,\n",
       " 0.17006038747943802,\n",
       " 0.1653869117395987,\n",
       " 0.1609521497805611,\n",
       " 0.15673752101709804,\n",
       " 0.15272560601256457,\n",
       " 0.14890024215000838,\n",
       " 0.14524651807588188,\n",
       " 0.1417507316004551,\n",
       " 0.13840034729138842,\n",
       " 0.13518396768582502,\n",
       " 0.13209131722157189,\n",
       " 0.1291132303069603,\n",
       " 0.12624163239481875]"
      ]
     },
     "execution_count": 67,
     "metadata": {},
     "output_type": "execute_result"
    }
   ],
   "source": [
    "nn.train_loss"
   ]
  },
  {
   "cell_type": "code",
   "execution_count": 68,
   "id": "655afcbe",
   "metadata": {},
   "outputs": [
    {
     "data": {
      "text/plain": [
       "[2.322106482664761,\n",
       " 2.326557410466436,\n",
       " 2.328759610574702,\n",
       " 2.2814456541988974,\n",
       " 1.6008229379853274,\n",
       " 1.1723928482435295,\n",
       " 0.824137852532457,\n",
       " 0.7141015653095067,\n",
       " 0.6402338707293953,\n",
       " 0.5708570682915161,\n",
       " 0.5168091403767108,\n",
       " 0.4766299172705342,\n",
       " 0.4414480721093166,\n",
       " 0.40765524933072433,\n",
       " 0.37880062033556355,\n",
       " 0.35706134480474355,\n",
       " 0.3403115625689519,\n",
       " 0.3265600307900593,\n",
       " 0.31474421439204237,\n",
       " 0.3042603706807827,\n",
       " 0.29470644909204957,\n",
       " 0.28579161375487727,\n",
       " 0.2773073364121438,\n",
       " 0.2691143930894932,\n",
       " 0.26113162085670016,\n",
       " 0.253324275101281,\n",
       " 0.2456923479461089,\n",
       " 0.23825911400996547,\n",
       " 0.2310602132064471,\n",
       " 0.22413395621925733,\n",
       " 0.21751375734807307,\n",
       " 0.2112233720063078,\n",
       " 0.20527503687559812,\n",
       " 0.19966997945119336,\n",
       " 0.19440038570477883,\n",
       " 0.18945192173944975,\n",
       " 0.18480616877138595,\n",
       " 0.18044263361300325,\n",
       " 0.17634022411886302,\n",
       " 0.17247821875455935,\n",
       " 0.16883683193203733,\n",
       " 0.1653975010811563,\n",
       " 0.16214301238825127,\n",
       " 0.15905755315957107,\n",
       " 0.15612674144866862,\n",
       " 0.15333764752307436,\n",
       " 0.15067879620320268,\n",
       " 0.14814013097025963,\n",
       " 0.14571292885844905,\n",
       " 0.14338966958870583]"
      ]
     },
     "execution_count": 68,
     "metadata": {},
     "output_type": "execute_result"
    }
   ],
   "source": [
    "nn.val_loss"
   ]
  },
  {
   "cell_type": "markdown",
   "id": "3cdc5fe9",
   "metadata": {},
   "source": [
    "# Problem 8 (Advance task)\n",
    "## Confirmation of misclassification"
   ]
  },
  {
   "cell_type": "code",
   "execution_count": 69,
   "id": "59fb2ed2",
   "metadata": {},
   "outputs": [
    {
     "name": "stderr",
     "output_type": "stream",
     "text": [
      "<ipython-input-69-f0f81ca33d3e>:16: DeprecationWarning: `np.int` is a deprecated alias for the builtin `int`. To silence this warning, use `int` by itself. Doing this will not modify any behavior and is safe. When replacing `np.int`, you may wish to use e.g. `np.int64` or `np.int32` to specify the precision. If you wish to review your current use, check the release note link for additional information.\n",
      "Deprecated in NumPy 1.20; for more details and guidance: https://numpy.org/devdocs/release/1.20.0-notes.html#deprecations\n",
      "  false_list = np.where(true_false==False)[0].astype(np.int)\n"
     ]
    },
    {
     "data": {
      "image/png": "[encoded data removed]",
      "text/plain": [
       "<Figure size 432x432 with 36 Axes>"
      ]
     },
     "metadata": {},
     "output_type": "display_data"
    }
   ],
   "source": [
    "y_val = y_test\n",
    "\n",
    "\"\"\"\n",
    "Display word classification results side by side. The display above the image is \"estimated result / correct answer\".\n",
    "\n",
    "Parameters:\n",
    "----------\n",
    "y_pred : Estimated value ndarray (n_samples,)\n",
    "y_val : Correct label for validation data (n_samples,)\n",
    "X_val : Features of verification data（n_samples, n_features)\n",
    "\"\"\"\n",
    "import numpy as np\n",
    "import matplotlib.pyplot as plt\n",
    "num = 36 # How many to display\n",
    "true_false = y_pred==y_test\n",
    "false_list = np.where(true_false==False)[0].astype(np.int)\n",
    "if false_list.shape[0] < num:\n",
    "    num = false_list.shape[0]\n",
    "fig = plt.figure(figsize=(6, 6))\n",
    "fig.subplots_adjust(left=0, right=0.8,  bottom=0, top=0.8, hspace=1, wspace=0.5)\n",
    "for i in range(num):\n",
    "    ax = fig.add_subplot(6, 6, i + 1, xticks=[], yticks=[])\n",
    "    ax.set_title(\"{} / {}\".format(y_pred[false_list[i]],y_test[false_list[i]]))\n",
    "    ax.imshow(X_test.reshape(-1,28,28)[false_list[i]], cmap='gray')\n"
   ]
  },
  {
   "cell_type": "markdown",
   "id": "27e42c9b",
   "metadata": {},
   "source": [
    "# Test"
   ]
  },
  {
   "cell_type": "code",
   "execution_count": 70,
   "id": "160d1781",
   "metadata": {},
   "outputs": [],
   "source": [
    "def sigmoid_forwarrd(X):\n",
    "    return 1 / (1 + np.exp(-X))\n",
    "\n",
    "def tanh_forwarrd(X):\n",
    "    return np.tanh(X)\n",
    "\n",
    "def sigmoid_backward(X):\n",
    "    return (1- sigmoid_forwarrd(X)) * sigmoid_forwarrd(X)\n",
    "\n",
    "def tanh_backward(X):\n",
    "    return (1 - tanh_forwarrd(X)**2)\n",
    "\n",
    "def softmax(X):\n",
    "    return np.exp(X) / np.sum(np.exp(X), axis=1, keepdims=True)\n",
    "\n",
    "def cross_entropy(X, y):\n",
    "    batch_size = len(X)\n",
    "    delta = 1e-7\n",
    "    return -np.sum(y * np.log(X+delta)) / batch_size"
   ]
  },
  {
   "cell_type": "code",
   "execution_count": 71,
   "id": "951a00c6",
   "metadata": {},
   "outputs": [
    {
     "data": {
      "text/plain": [
       "array([[-3.90000609,  2.80152655, -2.9501822 ,  5.04866174],\n",
       "       [-5.90000009,  0.7000001 , -1.9       ,  2.09999999]])"
      ]
     },
     "execution_count": 71,
     "metadata": {},
     "output_type": "execute_result"
    }
   ],
   "source": [
    "XX = np.array([[1,2],[3,4],[5,6],[7,8]])\n",
    "yy = np.array([0,1,2,3])\n",
    "\n",
    "enc = OneHotEncoder(handle_unknown='ignore', sparse=False)\n",
    "yy_one_hot = enc.fit_transform(yy[:, np.newaxis])\n",
    "    \n",
    "n_nodes1 = 3\n",
    "n_nodes2 = 2\n",
    "n_output = yy_one_hot.shape[1]\n",
    "n_features = XX.shape[1]\n",
    "\n",
    "bias1 = np.array([-20, -10, -12])\n",
    "bias2 = np.array([10, 15])\n",
    "bias3 = np.array([10, 15, -10, -5])\n",
    "\n",
    "w1 = np.array([[5, 3, 1], [4, 2, 0]])\n",
    "w2 = np.array([[-4, 3], [-6, 1], [-8, 5]])\n",
    "w3 = np.array([[-4, 3, -3, 5], [-6, 1, -2, 2]])\n",
    "\n",
    "A1 = XX @ w1 + bias1\n",
    "Z1 = sigmoid_forwarrd(A1)\n",
    "\n",
    "A2 = Z1 @ w2 + bias2\n",
    "Z2 = sigmoid_forwarrd(A2)\n",
    "\n",
    "A3 = Z2 @ w3 + bias3\n",
    "Z3 = softmax(A3)\n",
    "\n",
    "Z2.T @ (Z3 - yy_one_hot)\n",
    "\n",
    "w3 - 0.1 *(Z2.T @ (Z3 - yy_one_hot))"
   ]
  },
  {
   "cell_type": "code",
   "execution_count": 73,
   "id": "a266a1c9",
   "metadata": {},
   "outputs": [],
   "source": [
    "## 1st layer\n",
    "deltaA3 = Z3 - yy_one_hot\n",
    "deltaB3 = np.sum(deltaA3, axis=0)\n",
    "deltaW3 = Z2.T @ deltaA3\n",
    "deltaZ2 = deltaA3 @ w3.T\n",
    "\n",
    "## 2nd layer\n",
    "deltaA2 = deltaZ2 * sigmoid_backward(A2) \n",
    "deltaB2 = np.sum(deltaA2, axis=0)\n",
    "deltaW2 = Z1.T @ deltaA2\n",
    "deltaZ1 = deltaA2 @ w2.T\n",
    "\n",
    "## 3rd layer\n",
    "deltaA1 = deltaZ1 * sigmoid_backward(A1) \n",
    "deltaB1 = np.sum(deltaA1, axis=0)\n",
    "deltaW1 = XX.T @ deltaA1"
   ]
  },
  {
   "cell_type": "code",
   "execution_count": 75,
   "id": "e87f1d98",
   "metadata": {},
   "outputs": [
    {
     "name": "stdout",
     "output_type": "stream",
     "text": [
      "1st layer\n",
      "(4, 4)\n",
      "(4,)\n",
      "(2, 4)\n",
      "(4, 2)\n",
      "[[-3.90000609  2.80152655 -2.9501822   5.04866174]\n",
      " [-5.90000009  0.7000001  -1.9         2.09999999]]\n",
      "\n",
      "Second layer\n",
      "(4, 2)\n",
      "(2,)\n",
      "(3, 2)\n",
      "(4, 3)\n",
      "\n",
      "Third layer\n",
      "(4, 3)\n",
      "(3,)\n",
      "(2, 3)\n"
     ]
    }
   ],
   "source": [
    "print(\"1st layer\")\n",
    "print(deltaA3.shape)\n",
    "print(deltaB3.shape)\n",
    "print(deltaW3.shape)\n",
    "print(deltaZ2.shape)\n",
    "print(w3 - 0.1 * deltaW3)\n",
    "print()\n",
    "print(\"Second layer\")\n",
    "print(deltaA2.shape)\n",
    "print(deltaB2.shape)\n",
    "print(deltaW2.shape)\n",
    "print(deltaZ1.shape)\n",
    "print()\n",
    "print(\"Third layer\")\n",
    "print(deltaA1.shape)\n",
    "print(deltaB1.shape)\n",
    "print(deltaW1.shape)\n"
   ]
  },
  {
   "cell_type": "code",
   "execution_count": null,
   "id": "55c6fa5b",
   "metadata": {},
   "outputs": [],
   "source": []
  }
 ],
 "metadata": {
  "kernelspec": {
   "display_name": "Python 3",
   "language": "python",
   "name": "python3"
  },
  "language_info": {
   "codemirror_mode": {
    "name": "ipython",
    "version": 3
   },
   "file_extension": ".py",
   "mimetype": "text/x-python",
   "name": "python",
   "nbconvert_exporter": "python",
   "pygments_lexer": "ipython3",
   "version": "3.8.8"
  }
 },
 "nbformat": 4,
 "nbformat_minor": 5
}
