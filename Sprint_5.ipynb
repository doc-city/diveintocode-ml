{
 "cells": [
  {
   "cell_type": "code",
   "execution_count": 33,
   "metadata": {},
   "outputs": [],
   "source": [
    "import numpy as np\n",
    "import pandas as pd\n",
    "import matplotlib.pyplot as plt\n",
    "%matplotlib inline\n",
    "from sklearn.svm import SVC\n",
    "from sklearn.model_selection import train_test_split\n",
    "from sklearn.metrics import accuracy_score, recall_score, precision_score\n",
    "from matplotlib.colors import ListedColormap\n",
    "import matplotlib.patches as mpatches\n",
    "from sklearn.datasets import make_moons\n",
    "from mlxtend.plotting import plot_decision_regions"
   ]
  },
  {
   "cell_type": "markdown",
   "metadata": {},
   "source": [
    "# SVM "
   ]
  },
  {
   "cell_type": "code",
   "execution_count": 17,
   "metadata": {},
   "outputs": [],
   "source": [
    "class ScratchSVMClassifier():\n",
    "    \"\"\"\n",
    "    Scratch implementation of SVM classifier\n",
    "\n",
    "    Parameters\n",
    "    ----------\n",
    "    num_iter : int\n",
    "      Number of iterations\n",
    "    lr : float\n",
    "      Learning rate\n",
    "    kernel : str\n",
    "      Kernel type. Linear kernel (linear) or polynomial kernel (polly)\n",
    "    threshold : float\n",
    "      Threshold for choosing a support vector\n",
    "    verbose : bool\n",
    "      True to output the learning process\n",
    "\n",
    "    Attributes\n",
    "    ----------\n",
    "    self.n_support_vectors : int\n",
    "      Number of support vectors\n",
    "    self.index_support_vectors : The following form ndarray, shape (n_support_vectors,)\n",
    "      Support vector index\n",
    "    self.X_sv :  The following form ndarray, shape(n_support_vectors, n_features)\n",
    "      Support vector features\n",
    "    self.lam_sv :  The following form ndarray, shape(n_support_vectors, 1)\n",
    "      Support vector undetermined multiplier\n",
    "    self.y_sv :  The following form ndarray, shape(n_support_vectors, 1)\n",
    "      Support vector label\n",
    "\n",
    "    \"\"\"\n",
    "    def __init__(self, num_iter, lr, kernel='linear', gamma=1, theta=0, d=1, threshold=1e-5, verbose=False, debug=False):\n",
    "        ## Record hyperparameters as attributes\n",
    "        self.iter = num_iter\n",
    "        self.lr = lr\n",
    "        self.kernel = kernel\n",
    "        self.threshold = threshold\n",
    "        self.verbose = verbose\n",
    "        self.gamma = gamma\n",
    "        self.theta = theta\n",
    "        self.d = d\n",
    "        \n",
    "        self.n_support_vectors = 0\n",
    "        self.index_support_vectors = None\n",
    "        self.X_sv = None\n",
    "        self.lam_sv = None\n",
    "        self.y_sv  = None\n",
    "        \n",
    "        ## Debug data\n",
    "        self.debug = debug\n",
    "        self.my_lambda = np.array([0.3, 0.2, 0.6]).reshape(-1, 1)\n",
    "        \n",
    "    def fit(self, X, y, X_val=None, y_val=None):\n",
    "        \"\"\"\n",
    "        Learn the SVM classifier. If verification data is input, the accuracy for it is also calculated for each iteration.\n",
    "\n",
    "        Parameters\n",
    "        ----------\n",
    "        X : The following form ndarray, shape (n_samples, n_features)\n",
    "            Features of training data\n",
    "        y : The following form ndarray, shape (n_samples, )\n",
    "            Correct answer value of training data\n",
    "        X_val : The following form ndarray, shape (n_samples, n_features)\n",
    "            Features of verification data\n",
    "        y_val : The following form ndarray, shape (n_samples, )\n",
    "            Correct value of verification data\n",
    "        \"\"\"\n",
    "        \n",
    "        ## Whether to calculate validation data\n",
    "        is_val_calc = (X_val is not None) and (y_val is not None)\n",
    "        \n",
    "        ## Processing and shaping data\n",
    "        X, y = self._data_processing(X, y)\n",
    "        \n",
    "        if is_val_calc:\n",
    "            X_val, y_val  = self._data_processing(X_val, y_val)\n",
    "        \n",
    "        ## Randomly set the initial value of λ according to the number of samples\n",
    "        if self.debug:\n",
    "            self._lambda = self.my_lambda\n",
    "        else:\n",
    "            self._lambda = np.random.rand(len(X), 1)\n",
    "        \n",
    "        ## Learning for the number of iterators\n",
    "        for _iter in range(num_iter):\n",
    "            self._lagrange(X, y)\n",
    "        \n",
    "            ## Output the learning process when verbose is set to True\n",
    "            if self.verbose:\n",
    "                print(self._lambda)\n",
    "        \n",
    "        ## Determining support vector\n",
    "        self.index_support_vectors = np.where(self._lambda > self.threshold)[0]\n",
    "        self.n_support_vectors = len(self.index_support_vectors)\n",
    "\n",
    "        self.X_sv = X[self.index_support_vectors]\n",
    "        self.lam_sv = self._lambda[self.index_support_vectors]\n",
    "        self.y_sv  = y[self.index_support_vectors]\n",
    "        \n",
    "        print(\"number of support_vector is {}\".format(self.n_support_vectors))\n",
    "        \n",
    "    def predict(self, X):\n",
    "        \"\"\"\n",
    "        Estimate the label using the SVM classifier.\n",
    "\n",
    "        Parameters\n",
    "        ----------\n",
    "        X : The following form ndarray, shape (n_samples, n_features)\n",
    "            sample\n",
    "\n",
    "        Returns\n",
    "        -------\n",
    "            The following form ndarray, shape (n_samples, 1)\n",
    "            Estimated result by SVM classifier\n",
    "        \"\"\"\n",
    "        \n",
    "        X, _ = self._data_processing(X)\n",
    "        \n",
    "        pred = np.sum(self.lam_sv * self.y_sv * self._kernel(self.X_sv, X), axis=0).reshape(-1, 1)\n",
    "        pred = np.where(pred >= 0, self.y_true, self.y_false)\n",
    "        \n",
    "        return pred\n",
    "    \n",
    "    def _kernel(self, Xi, Xj):\n",
    "        if self.kernel == \"linear\":\n",
    "            K = Xi @ Xj.T\n",
    "            return K\n",
    "        \n",
    "        elif self.kernel == \"poly\":\n",
    "            K = (self.gamma * (Xi @ Xj.T) + self.theta)**self.d\n",
    "            return K\n",
    "        \n",
    "        else:\n",
    "            raise ValueError(\"not exist {}\".format(self.kernel))\n",
    "            \n",
    "    def _lagrange(self, X, y):\n",
    "        sigma = np.sum(self._lambda.T * y * y.T * self._kernel(X, X), axis=1).reshape(-1, 1)\n",
    "        self._lambda += self.lr * (1 - sigma)\n",
    "\n",
    "        self._lambda = np.where(self._lambda < 0, 0, self._lambda)\n",
    "        \n",
    "    def _data_processing(self, X, y=None):\n",
    "        ## If the dataset is DataFrame, Series, convert to ndarray\n",
    "        if isinstance(X, (pd.DataFrame, pd.Series)):\n",
    "            X = X.values\n",
    "        if isinstance(y, (pd.DataFrame, pd.Series)):\n",
    "            y = y.values\n",
    "        \n",
    "        ## If the dataset is one-dimensional, convert it to two-dimensional\n",
    "        if X.shape[0] == X.size:\n",
    "            X = X.reshape(-1, 1)\n",
    "        \n",
    "        if y is not None:\n",
    "            y = y.reshape(-1, 1)\n",
    "        \n",
    "            ## Convert the value of  y to 1, -1\n",
    "            self.y_true = y.max()\n",
    "            self.y_false = y.min()\n",
    "\n",
    "            y = np.where(y == self.y_true, 1, -1)\n",
    "\n",
    "        return X, y"
   ]
  },
  {
   "cell_type": "markdown",
   "metadata": {},
   "source": [
    "# Problem 1 \n",
    "## Lagrange's Steepest Descent by the Undetermined Multiplier Method"
   ]
  },
  {
   "cell_type": "markdown",
   "metadata": {},
   "source": [
    "SVM learning uses Lagrange's undetermined multiplier method. Prepare the Lagrange multiplier λ for the number of samples, It will be updated by the following formula. Implement the method that does this calculation in the ScratchSVMClassifier class.\n",
    "\n",
    "$ \\ lambda_i ^ {new} = \\ lambda_i + \\ alpha (1-\\ sum_ {j = 1} ^ {n} {\\ lambda_j y_i y_j k (x_i, x_j)}) $\n",
    "\n",
    "Where $ k (x_i, x_j) = x_ {i} ^ {T} x_j $ is a kernel function. For a linear kernel:\n",
    "\n",
    "Let's keep this part as a separate method so that it can handle other kernel functions.\n",
    "\n",
    "$ k (x_i, x_j) = x_ {i} ^ {T} x_j $\n",
    "\n",
    "We will calculate the relationship between all the samples for one sample."
   ]
  },
  {
   "cell_type": "markdown",
   "metadata": {},
   "source": [
    "# Problem 2\n",
    "## Determination of Support Vector"
   ]
  },
  {
   "cell_type": "markdown",
   "metadata": {},
   "source": [
    "A sample whose calculated Lagrange multiplier λ is larger than the set threshold is treated as a support vector.\n",
    "\n",
    "You will need a support vector when estimating. Write the code to determine the support vector and keep it as an instance variable.\n",
    "\n",
    "The threshold is a hyperparameter, but it is a good idea to start with about 1e-5.\n",
    "\n",
    "If you can output the number of support vectors, you can check whether the learning is done well."
   ]
  },
  {
   "cell_type": "markdown",
   "metadata": {},
   "source": [
    "# Problem 3\n",
    "\n",
    "## Estimate"
   ]
  },
  {
   "cell_type": "markdown",
   "metadata": {},
   "source": [
    "At the time of estimation, the features of the data to be estimated and the features of the support vector are calculated by the kernel function. The obtained sign of $ f (x) $ is the classification result."
   ]
  },
  {
   "cell_type": "code",
   "execution_count": 18,
   "metadata": {},
   "outputs": [
    {
     "name": "stdout",
     "output_type": "stream",
     "text": [
      "[[0.3204]\n",
      " [0.2492]\n",
      " [0.524 ]]\n",
      "[[0.33514  ]\n",
      " [0.2846868]\n",
      " [0.4697664]]\n",
      "[[0.34582638]\n",
      " [0.31035294]\n",
      " [0.43112051]]\n",
      "[[0.35360954]\n",
      " [0.32898602]\n",
      " [0.40363751]]\n",
      "[[0.35931333]\n",
      " [0.34258237]\n",
      " [0.3841486 ]]\n",
      "[[0.36352774]\n",
      " [0.35257163]\n",
      " [0.37038449]]\n",
      "[[0.36667529]\n",
      " [0.35997763]\n",
      " [0.36072002]]\n",
      "[[0.36905855]\n",
      " [0.36553359]\n",
      " [0.35399137]]\n",
      "[[0.37089422]\n",
      " [0.36976458]\n",
      " [0.34936507]]\n",
      "[[0.37233749]\n",
      " [0.37304663]\n",
      " [0.34624424]]\n",
      "[[0.37349949]\n",
      " [0.37564903]\n",
      " [0.34420142]]\n",
      "[[0.37445979]\n",
      " [0.37776465]\n",
      " [0.3429305 ]]\n",
      "[[0.37527541]\n",
      " [0.37953158]\n",
      " [0.34221226]]\n",
      "[[0.37598716]\n",
      " [0.38104873]\n",
      " [0.3418897 ]]\n",
      "[[0.37662427]\n",
      " [0.38238693]\n",
      " [0.3418504 ]]\n",
      "[[0.37720766]\n",
      " [0.38359691]\n",
      " [0.34201384]]\n",
      "[[0.37775235]\n",
      " [0.38471499]\n",
      " [0.34232237]]\n",
      "[[0.37826905]\n",
      " [0.38576719]\n",
      " [0.34273467]]\n",
      "[[0.37876547]\n",
      " [0.38677214]\n",
      " [0.3432212 ]]\n",
      "[[0.37924711]\n",
      " [0.38774317]\n",
      " [0.34376076]]\n",
      "[[0.3797179 ]\n",
      " [0.38868985]\n",
      " [0.34433819]]\n",
      "[[0.38018069]\n",
      " [0.38961902]\n",
      " [0.34494264]]\n",
      "[[0.38063748]\n",
      " [0.39053558]\n",
      " [0.34556632]]\n",
      "[[0.38108973]\n",
      " [0.39144303]\n",
      " [0.34620367]]\n",
      "[[0.38153848]\n",
      " [0.39234389]\n",
      " [0.3468507 ]]\n",
      "[[0.38198448]\n",
      " [0.39323997]\n",
      " [0.34750454]]\n",
      "[[0.38242824]\n",
      " [0.39413254]\n",
      " [0.34816316]]\n",
      "[[0.38287016]\n",
      " [0.39502254]\n",
      " [0.34882509]]\n",
      "[[0.38331051]\n",
      " [0.39591062]\n",
      " [0.34948928]]\n",
      "[[0.38374949]\n",
      " [0.39679726]\n",
      " [0.35015498]]\n",
      "[[0.38418723]\n",
      " [0.39768279]\n",
      " [0.35082165]]\n",
      "[[0.38462385]\n",
      " [0.39856747]\n",
      " [0.35148891]]\n",
      "[[0.3850594 ]\n",
      " [0.39945146]\n",
      " [0.35215649]]\n",
      "[[0.38549395]\n",
      " [0.40033488]\n",
      " [0.35282418]]\n",
      "[[0.38592752]\n",
      " [0.40121784]\n",
      " [0.35349184]]\n",
      "[[0.38636016]\n",
      " [0.40210039]\n",
      " [0.35415938]]\n",
      "[[0.38679187]\n",
      " [0.40298258]\n",
      " [0.35482671]]\n",
      "[[0.38722268]\n",
      " [0.40386444]\n",
      " [0.3554938 ]]\n",
      "[[0.38765259]\n",
      " [0.404746  ]\n",
      " [0.3561606 ]]\n",
      "[[0.38808161]\n",
      " [0.40562726]\n",
      " [0.35682708]]\n",
      "[[0.38850975]\n",
      " [0.40650826]\n",
      " [0.35749324]]\n",
      "[[0.38893701]\n",
      " [0.40738898]\n",
      " [0.35815904]]\n",
      "[[0.3893634 ]\n",
      " [0.40826945]\n",
      " [0.35882449]]\n",
      "[[0.38978891]\n",
      " [0.40914966]\n",
      " [0.35948959]]\n",
      "[[0.39021356]\n",
      " [0.41002962]\n",
      " [0.36015431]]\n",
      "[[0.39063734]\n",
      " [0.41090933]\n",
      " [0.36081867]]\n",
      "[[0.39106025]\n",
      " [0.4117888 ]\n",
      " [0.36148265]]\n",
      "[[0.39148229]\n",
      " [0.41266802]\n",
      " [0.36214626]]\n",
      "[[0.39190348]\n",
      " [0.41354699]\n",
      " [0.3628095 ]]\n",
      "[[0.3923238 ]\n",
      " [0.41442572]\n",
      " [0.36347236]]\n",
      "[[0.39274326]\n",
      " [0.41530421]\n",
      " [0.36413485]]\n",
      "[[0.39316187]\n",
      " [0.41618245]\n",
      " [0.36479697]]\n",
      "[[0.39357961]\n",
      " [0.41706045]\n",
      " [0.36545871]]\n",
      "[[0.3939965 ]\n",
      " [0.41793821]\n",
      " [0.36612007]]\n",
      "[[0.39441253]\n",
      " [0.41881573]\n",
      " [0.36678107]]\n",
      "[[0.3948277 ]\n",
      " [0.41969301]\n",
      " [0.36744169]]\n",
      "[[0.39524202]\n",
      " [0.42057005]\n",
      " [0.36810193]]\n",
      "[[0.39565549]\n",
      " [0.42144684]\n",
      " [0.3687618 ]]\n",
      "[[0.3960681]\n",
      " [0.4223234]\n",
      " [0.3694213]]\n",
      "[[0.39647987]\n",
      " [0.42319972]\n",
      " [0.37008043]]\n",
      "[[0.39689078]\n",
      " [0.4240758 ]\n",
      " [0.37073918]]\n",
      "[[0.39730084]\n",
      " [0.42495164]\n",
      " [0.37139757]]\n",
      "[[0.39771005]\n",
      " [0.42582724]\n",
      " [0.37205558]]\n",
      "[[0.39811842]\n",
      " [0.4267026 ]\n",
      " [0.37271322]]\n",
      "[[0.39852594]\n",
      " [0.42757772]\n",
      " [0.3733705 ]]\n",
      "[[0.39893262]\n",
      " [0.42845261]\n",
      " [0.3740274 ]]\n",
      "[[0.39933845]\n",
      " [0.42932726]\n",
      " [0.37468393]]\n",
      "[[0.39974343]\n",
      " [0.43020167]\n",
      " [0.3753401 ]]\n",
      "[[0.40014758]\n",
      " [0.43107584]\n",
      " [0.37599589]]\n",
      "[[0.40055088]\n",
      " [0.43194978]\n",
      " [0.37665132]]\n",
      "[[0.40095334]\n",
      " [0.43282348]\n",
      " [0.37730638]]\n",
      "[[0.40135496]\n",
      " [0.43369694]\n",
      " [0.37796108]]\n",
      "[[0.40175574]\n",
      " [0.43457017]\n",
      " [0.3786154 ]]\n",
      "[[0.40215569]\n",
      " [0.43544316]\n",
      " [0.37926936]]\n",
      "[[0.40255479]\n",
      " [0.43631592]\n",
      " [0.37992296]]\n",
      "[[0.40295306]\n",
      " [0.43718844]\n",
      " [0.38057618]]\n",
      "[[0.4033505 ]\n",
      " [0.43806073]\n",
      " [0.38122905]]\n",
      "[[0.4037471 ]\n",
      " [0.43893278]\n",
      " [0.38188155]]\n",
      "[[0.40414287]\n",
      " [0.4398046 ]\n",
      " [0.38253368]]\n",
      "[[0.40453781]\n",
      " [0.44067618]\n",
      " [0.38318545]]\n",
      "[[0.40493191]\n",
      " [0.44154753]\n",
      " [0.38383686]]\n",
      "[[0.40532519]\n",
      " [0.44241864]\n",
      " [0.3844879 ]]\n",
      "[[0.40571764]\n",
      " [0.44328953]\n",
      " [0.38513858]]\n",
      "[[0.40610925]\n",
      " [0.44416018]\n",
      " [0.3857889 ]]\n",
      "[[0.40650004]\n",
      " [0.44503059]\n",
      " [0.38643886]]\n",
      "[[0.40689001]\n",
      " [0.44590078]\n",
      " [0.38708845]]\n",
      "[[0.40727914]\n",
      " [0.44677073]\n",
      " [0.38773769]]\n",
      "[[0.40766746]\n",
      " [0.44764045]\n",
      " [0.38838656]]\n",
      "[[0.40805495]\n",
      " [0.44850993]\n",
      " [0.38903508]]\n",
      "[[0.40844161]\n",
      " [0.44937919]\n",
      " [0.38968323]]\n",
      "[[0.40882746]\n",
      " [0.45024822]\n",
      " [0.39033103]]\n",
      "[[0.40921248]\n",
      " [0.45111701]\n",
      " [0.39097846]]\n",
      "[[0.40959669]\n",
      " [0.45198557]\n",
      " [0.39162554]]\n",
      "[[0.40998007]\n",
      " [0.45285391]\n",
      " [0.39227226]]\n",
      "[[0.41036264]\n",
      " [0.45372201]\n",
      " [0.39291862]]\n",
      "[[0.41074439]\n",
      " [0.45458988]\n",
      " [0.39356463]]\n",
      "[[0.41112532]\n",
      " [0.45545752]\n",
      " [0.39421027]]\n",
      "[[0.41150544]\n",
      " [0.45632494]\n",
      " [0.39485556]]\n",
      "[[0.41188474]\n",
      " [0.45719212]\n",
      " [0.3955005 ]]\n",
      "[[0.41226323]\n",
      " [0.45805908]\n",
      " [0.39614508]]\n",
      "number of support_vector is 3\n"
     ]
    }
   ],
   "source": [
    "## Creating a test data and making predictions\n",
    "num_iter = 100\n",
    "lr = 0.001\n",
    "\n",
    "X = np.array([[1, 2, 3],[4, 5, 6],[7, 8, 9]])\n",
    "y = np.array([-1, -1, 1])\n",
    "\n",
    "svm = ScratchSVMClassifier(num_iter=num_iter, lr=lr, verbose=True, debug=True)\n",
    "svm.fit(X, y)"
   ]
  },
  {
   "cell_type": "code",
   "execution_count": 19,
   "metadata": {},
   "outputs": [
    {
     "data": {
      "text/plain": [
       "array([[-1],\n",
       "       [-1],\n",
       "       [ 1]])"
      ]
     },
     "execution_count": 19,
     "metadata": {},
     "output_type": "execute_result"
    }
   ],
   "source": [
    "X_test = np.array([[1, 2, 3],[4, 5, 6],[7, 8, 9]])\n",
    "svm.predict(X_test)"
   ]
  },
  {
   "cell_type": "markdown",
   "metadata": {},
   "source": [
    "# Problem 4\n",
    "## Learning and Estimation"
   ]
  },
  {
   "cell_type": "markdown",
   "metadata": {},
   "source": [
    "Learn and estimate the scratch implementation for the binary classification of Simple Dataset 1 prepared in Sprint, an introduction to machine learning scratch.\n",
    "\n",
    "Please check if it works properly compared to the implementation by scikit-learn.\n",
    "\n",
    "Use scikit-learn for index values such as Accuracy, Precision, and Recall."
   ]
  },
  {
   "cell_type": "code",
   "execution_count": 20,
   "metadata": {},
   "outputs": [],
   "source": [
    "np.random.seed(seed=0)\n",
    "n_samples = 500\n",
    "f0 = [-1, 2]\n",
    "f1 = [2, -1]\n",
    "cov = [[1.0,0.8], [0.8, 1.0]]\n",
    "f0 = np.random.multivariate_normal(f0, cov, int(n_samples/2))\n",
    "f1 = np.random.multivariate_normal(f1, cov, int(n_samples/2))\n",
    "X = np.concatenate((f0, f1))\n",
    "y = np.concatenate((np.ones((int(n_samples/2))), np.ones((int(n_samples/2))) *(-1))).astype(np.int)\n",
    "random_index = np.random.permutation(np.arange(n_samples))\n",
    "X = X[random_index]\n",
    "y = y[random_index]"
   ]
  },
  {
   "cell_type": "code",
   "execution_count": 21,
   "metadata": {},
   "outputs": [
    {
     "name": "stdout",
     "output_type": "stream",
     "text": [
      "number of support_vector is 10\n"
     ]
    },
    {
     "data": {
      "text/html": [
       "<div>\n",
       "<style scoped>\n",
       "    .dataframe tbody tr th:only-of-type {\n",
       "        vertical-align: middle;\n",
       "    }\n",
       "\n",
       "    .dataframe tbody tr th {\n",
       "        vertical-align: top;\n",
       "    }\n",
       "\n",
       "    .dataframe thead th {\n",
       "        text-align: right;\n",
       "    }\n",
       "</style>\n",
       "<table border=\"1\" class=\"dataframe\">\n",
       "  <thead>\n",
       "    <tr style=\"text-align: right;\">\n",
       "      <th></th>\n",
       "      <th>model_name</th>\n",
       "      <th>accuracy</th>\n",
       "    </tr>\n",
       "  </thead>\n",
       "  <tbody>\n",
       "    <tr>\n",
       "      <th>0</th>\n",
       "      <td>sklearn</td>\n",
       "      <td>1</td>\n",
       "    </tr>\n",
       "    <tr>\n",
       "      <th>1</th>\n",
       "      <td>scratch</td>\n",
       "      <td>1</td>\n",
       "    </tr>\n",
       "  </tbody>\n",
       "</table>\n",
       "</div>"
      ],
      "text/plain": [
       "  model_name accuracy\n",
       "0    sklearn        1\n",
       "1    scratch        1"
      ]
     },
     "execution_count": 21,
     "metadata": {},
     "output_type": "execute_result"
    }
   ],
   "source": [
    "## Hyperparameters\n",
    "num_iter = 500\n",
    "lr = 0.001\n",
    "threshold = 1e-5\n",
    "\n",
    "## Modeling\n",
    "sklearn_svc = SVC(kernel=\"linear\")\n",
    "scracth_svc = ScratchSVMClassifier(num_iter=num_iter, threshold=threshold, lr=lr, kernel=\"linear\")\n",
    "\n",
    "model_dict = {\"sklearn\": sklearn_svc, \"scratch\": scracth_svc}\n",
    "\n",
    "## Test data split\n",
    "X_train, X_test, y_train, y_test = train_test_split(X, y, random_state=0)\n",
    "\n",
    "results = pd.DataFrame(index=range(len(model_dict)) ,columns=[\"model_name\", \"accuracy\"])\n",
    "i = 0\n",
    "\n",
    "for name, model in model_dict.items():\n",
    "    model.fit(X_train, y_train)\n",
    "    y_pred = model.predict(X_test)\n",
    "    accuracy = accuracy_score(y_test, y_pred)\n",
    "    \n",
    "    results.loc[i, :] = [name, accuracy]\n",
    "    i += 1\n",
    "    \n",
    "results"
   ]
  },
  {
   "cell_type": "markdown",
   "metadata": {},
   "source": [
    "Same result as sklearn"
   ]
  },
  {
   "cell_type": "markdown",
   "metadata": {},
   "source": [
    "# Problem 5\n",
    "## Visualization of Decision Area"
   ]
  },
  {
   "cell_type": "code",
   "execution_count": 24,
   "metadata": {},
   "outputs": [],
   "source": [
    "def decision_region(X, y, model, step=0.01, title='Decision Region', xlabel='xlabel', ylabel='ylabel', target_names=['versicolor', 'virginica']):\n",
    "    \"\"\"\n",
    "    Draw the determination area of the model that learned binary classification with two-dimensional features.\n",
    "    The background color is drawn from the estimated values from the trained model.\n",
    "    The points on the scatter plot are training or validation data.\n",
    "\n",
    "    Parameters\n",
    "    ----------------\n",
    "    X : ndarray, shape(n_samples, 2)\n",
    "        Feature value\n",
    "    y : ndarray, shape(n_samples,)\n",
    "        label\n",
    "    model : object\n",
    "        Insert the installed model of the learned model\n",
    "    step : float, (default : 0.1)\n",
    "        Set the interval to calculate the estimate\n",
    "    title : str\n",
    "        Give the text of the graph title\n",
    "    xlabel, ylabel : str\n",
    "        Give the text of the axis label\n",
    "    target_names= : list of str\n",
    "        Give a list of legends\n",
    "    \"\"\"\n",
    "    # setting\n",
    "    scatter_color = ['red', 'blue']\n",
    "    contourf_color = ['pink', 'skyblue']\n",
    "    n_class = 2\n",
    "    # pred\n",
    "    mesh_f0, mesh_f1  = np.meshgrid(np.arange(np.min(X[:,0])-0.5, np.max(X[:,0])+0.5, step), np.arange(np.min(X[:,1])-0.5, np.max(X[:,1])+0.5, step))\n",
    "    mesh = np.c_[np.ravel(mesh_f0),np.ravel(mesh_f1)]\n",
    "    y_pred = model.predict(mesh).reshape(mesh_f0.shape)\n",
    "    # plot\n",
    "    plt.title(title)\n",
    "    plt.xlabel(xlabel)\n",
    "    plt.ylabel(ylabel)\n",
    "    plt.contourf(mesh_f0, mesh_f1, y_pred, n_class-1, cmap=ListedColormap(contourf_color))\n",
    "    plt.contour(mesh_f0, mesh_f1, y_pred, n_class-1, colors='y', linewidths=3, alpha=0.5)\n",
    "    for i, target in enumerate(set(y)):\n",
    "        plt.scatter(X[y==target][:, 0], X[y==target][:, 1], s=80, color=scatter_color[i], label=target_names[i], marker='o')\n",
    "    \n",
    "    plt.scatter(model.X_sv[:, 0], model.X_sv[:, 1], s=80, c=\"yellow\", marker=\"o\")\n",
    "    \n",
    "    patches = [mpatches.Patch(color=scatter_color[i], label=target_names[i]) for i in range(n_class)]\n",
    "    plt.legend(handles=patches)\n",
    "    plt.legend()\n",
    "    plt.show()"
   ]
  },
  {
   "cell_type": "code",
   "execution_count": 25,
   "metadata": {},
   "outputs": [
    {
     "data": {
      "image/png": "[encoded data removed]",
      "text/plain": [
       "<Figure size 432x288 with 1 Axes>"
      ]
     },
     "metadata": {
      "needs_background": "light"
     },
     "output_type": "display_data"
    }
   ],
   "source": [
    "decision_region(X, y, scracth_svc, target_names=[1, -1])"
   ]
  },
  {
   "cell_type": "markdown",
   "metadata": {},
   "source": [
    "# Problem 6\n",
    "## (Advance Task) Creation of Polynomial Kernel Function"
   ]
  },
  {
   "cell_type": "markdown",
   "metadata": {},
   "source": [
    "The first implementation I created used a linear kernel. Let's also switch to the polynomial kernel."
   ]
  },
  {
   "cell_type": "code",
   "execution_count": 26,
   "metadata": {},
   "outputs": [
    {
     "data": {
      "text/plain": [
       "<matplotlib.collections.PathCollection at 0x21cd8feebe0>"
      ]
     },
     "execution_count": 26,
     "metadata": {},
     "output_type": "execute_result"
    },
    {
     "data": {
      "image/png": "[encoded data removed]",
      "text/plain": [
       "<Figure size 432x288 with 1 Axes>"
      ]
     },
     "metadata": {
      "needs_background": "light"
     },
     "output_type": "display_data"
    }
   ],
   "source": [
    "moons = make_moons(n_samples=300, noise=0.1, random_state=0)\n",
    "X = moons[0]\n",
    "y = moons[1].reshape(-1, 1)\n",
    "data = np.concatenate([X, y], axis=1)\n",
    "plt.scatter(data[data[:, 2] == 0][:,0], data[data[:, 2] == 0][:,1], marker=\"^\", color=\"r\")\n",
    "plt.scatter(data[data[:, 2] == 1][:,0], data[data[:, 2] == 1][:,1], marker=\"o\", color=\"b\")"
   ]
  },
  {
   "cell_type": "markdown",
   "metadata": {},
   "source": [
    "Let's train with a polynomial kernel using a dataset with curved boundaries as shown above."
   ]
  },
  {
   "cell_type": "code",
   "execution_count": 27,
   "metadata": {},
   "outputs": [
    {
     "name": "stdout",
     "output_type": "stream",
     "text": [
      "number of support_vector is 133\n"
     ]
    }
   ],
   "source": [
    "## Hyperparameters\n",
    "num_iter = 2000\n",
    "lr = 1e-4\n",
    "\n",
    "X_train, X_test, y_train, y_test = train_test_split(X, y, random_state=0)\n",
    "\n",
    "svc_poly = ScratchSVMClassifier(num_iter=num_iter, lr=lr ,kernel='poly', d=3, gamma=0.5, theta=1)\n",
    "\n",
    "svc_poly.fit(X_train, y_train)"
   ]
  },
  {
   "cell_type": "code",
   "execution_count": 28,
   "metadata": {},
   "outputs": [
    {
     "data": {
      "image/png": "[encoded data removed]",
      "text/plain": [
       "<Figure size 432x288 with 1 Axes>"
      ]
     },
     "metadata": {
      "needs_background": "light"
     },
     "output_type": "display_data"
    }
   ],
   "source": [
    "decision_region(X, y.flatten(), svc_poly, target_names=[1, -1])"
   ]
  },
  {
   "cell_type": "markdown",
   "metadata": {},
   "source": [
    "Try drawing a border using the mlxtend module"
   ]
  },
  {
   "cell_type": "code",
   "execution_count": 34,
   "metadata": {},
   "outputs": [
    {
     "data": {
      "text/plain": [
       "<AxesSubplot:>"
      ]
     },
     "execution_count": 34,
     "metadata": {},
     "output_type": "execute_result"
    },
    {
     "data": {
      "image/png": "[encoded data removed]",
      "text/plain": [
       "<Figure size 432x288 with 1 Axes>"
      ]
     },
     "metadata": {
      "needs_background": "light"
     },
     "output_type": "display_data"
    }
   ],
   "source": [
    "plot_decision_regions(X, y.flatten(), svc_poly)"
   ]
  },
  {
   "cell_type": "code",
   "execution_count": null,
   "metadata": {},
   "outputs": [],
   "source": []
  }
 ],
 "metadata": {
  "kernelspec": {
   "display_name": "Python 3",
   "language": "python",
   "name": "python3"
  },
  "language_info": {
   "codemirror_mode": {
    "name": "ipython",
    "version": 3
   },
   "file_extension": ".py",
   "mimetype": "text/x-python",
   "name": "python",
   "nbconvert_exporter": "python",
   "pygments_lexer": "ipython3",
   "version": "3.8.5"
  }
 },
 "nbformat": 4,
 "nbformat_minor": 4
}
