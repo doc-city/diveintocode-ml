{
 "cells": [
  {
   "cell_type": "code",
   "execution_count": 44,
   "metadata": {},
   "outputs": [],
   "source": [
    "## Importing Liberies\n",
    "import numpy as np\n",
    "import pandas as pd\n",
    "import matplotlib.pyplot as plt\n",
    "import matplotlib.patches as mpatches\n",
    "%matplotlib inline\n",
    "import seaborn as sns\n",
    "from sklearn.model_selection import train_test_split\n",
    "from sklearn.datasets import load_iris\n",
    "from sklearn.linear_model import SGDClassifier\n",
    "from sklearn.svm import SVC\n",
    "from sklearn.tree import DecisionTreeClassifier\n",
    "from sklearn.metrics import confusion_matrix\n",
    "from sklearn.metrics import accuracy_score\n",
    "from matplotlib.colors import ListedColormap"
   ]
  },
  {
   "cell_type": "markdown",
   "metadata": {},
   "source": [
    "# PROBLEM 1\n",
    "\n",
    "Scratch of train_test_split"
   ]
  },
  {
   "cell_type": "code",
   "execution_count": 45,
   "metadata": {},
   "outputs": [],
   "source": [
    "def scratch_train_test_split(X, y, random_state=0, train_size=0.75):\n",
    "    \"\"\"\n",
    "    検証データを分割する。\n",
    "\n",
    "    Parameters\n",
    "    ----------\n",
    "    X : 次の形のndarray, shape (n_samples, n_features)\n",
    "      訓練データ\n",
    "    y : 次の形のndarray, shape (n_samples, )\n",
    "      正解値\n",
    "    train_size : float (0<train_size<1)\n",
    "      何割をtrainとするか指定\n",
    "\n",
    "    Returns\n",
    "    ----------\n",
    "    X_train : 次の形のndarray, shape (n_samples, n_features)\n",
    "      訓練データ\n",
    "    X_test : 次の形のndarray, shape (n_samples, n_features)\n",
    "      検証データ\n",
    "    y_train : 次の形のndarray, shape (n_samples, )\n",
    "      訓練データの正解値\n",
    "    y_test : 次の形のndarray, shape (n_samples, )\n",
    "      検証データの正解値\n",
    "    \"\"\"\n",
    "    \n",
    "   ## Input variable integrity check\n",
    "   ## Line mismatch check\n",
    "    if len(X) != len(y):\n",
    "        raise ValueError(\"Found input variables with inconsistent numbers of samples: {}\".format((len(X), len(y))))\n",
    "    \n",
    "    ## Type conversion for dataframe type\n",
    "    if type(X) is pd.core.frame.DataFrame:\n",
    "        X = X.values\n",
    "    \n",
    "    if type(y) is  pd.core.frame.DataFrame:\n",
    "        y = y.values\n",
    "    \n",
    "    ## Get the number of rows of training data and validation data\n",
    "    num_all   = X.shape[0]\n",
    "    num_train = int(num_all * train_size)\n",
    "    num_test  = num_all - num_train\n",
    "    \n",
    "    ## Random distribution\n",
    "    np.random.seed(random_state)\n",
    "    id_all = np.random.choice(num_all, num_all, replace=False)\n",
    "    id_train = id_all[:num_train]\n",
    "    id_test  = id_all[num_train:]\n",
    "    \n",
    "    ## Spliting\n",
    "    X_train = X[id_train, :]\n",
    "    X_test  = X[id_test, :]\n",
    "    y_train = y[id_train]\n",
    "    y_test  = y[id_test]\n",
    "    \n",
    "    return X_train, X_test, y_train, y_test\n"
   ]
  },
  {
   "cell_type": "markdown",
   "metadata": {},
   "source": [
    "## Verification"
   ]
  },
  {
   "cell_type": "code",
   "execution_count": 46,
   "metadata": {},
   "outputs": [
    {
     "name": "stdout",
     "output_type": "stream",
     "text": [
      "sklearn.function \n",
      "\n",
      "\n",
      " [[ 8.6159003  13.07275411]\n",
      " [ 9.77891869 12.04034542]\n",
      " [ 9.37822766 10.19480033]\n",
      " [ 8.69518284  9.21809325]\n",
      " [ 5.93863106 14.12898572]\n",
      " [13.91182462 10.78018665]\n",
      " [10.98748355  9.76779212]] \n",
      "\n",
      " [[10.79809269  4.45481449]\n",
      " [ 6.12744039 10.37755719]\n",
      " [11.04778205 10.17684417]] \n",
      "\n",
      " [[0.81552382 0.15941446]\n",
      " [0.82076712 0.90884372]\n",
      " [0.75677864 0.63606106]\n",
      " [0.45813883 0.59098417]\n",
      " [0.95187448 0.57575116]\n",
      " [0.79639147 0.9591666 ]\n",
      " [0.85772264 0.45722345]] \n",
      "\n",
      " [[0.24002027 0.16053882]\n",
      " [0.90404439 0.69002502]\n",
      " [0.69962205 0.3277204 ]]\n",
      "****************************************\n",
      "scratch.function \n",
      "\n",
      "\n",
      " [[ 9.37822766 10.19480033]\n",
      " [ 9.77891869 12.04034542]\n",
      " [13.91182462 10.78018665]\n",
      " [ 8.6159003  13.07275411]\n",
      " [11.04778205 10.17684417]\n",
      " [10.98748355  9.76779212]\n",
      " [ 5.93863106 14.12898572]] \n",
      "\n",
      " [[10.79809269  4.45481449]\n",
      " [ 6.12744039 10.37755719]\n",
      " [ 8.69518284  9.21809325]] \n",
      "\n",
      " [[0.75677864 0.63606106]\n",
      " [0.82076712 0.90884372]\n",
      " [0.79639147 0.9591666 ]\n",
      " [0.81552382 0.15941446]\n",
      " [0.69962205 0.3277204 ]\n",
      " [0.85772264 0.45722345]\n",
      " [0.95187448 0.57575116]] \n",
      "\n",
      " [[0.24002027 0.16053882]\n",
      " [0.90404439 0.69002502]\n",
      " [0.45813883 0.59098417]]\n"
     ]
    }
   ],
   "source": [
    "X = np.random.normal(10, 2, (10, 2))\n",
    "y = np.random.rand(10,2)\n",
    "\n",
    "df_X = pd.DataFrame(data=X)\n",
    "df_y = pd.DataFrame(data=y)\n",
    "\n",
    "X_train, X_test, y_train, y_test = train_test_split(X, y)\n",
    "X_train_scratch, X_test_scratch, y_train_scratch, y_test_scratch = scratch_train_test_split(X, y)\n",
    "\n",
    "print(\"sklearn.function\", \"\\n\\n\\n\", X_train,\"\\n\\n\", X_test,\"\\n\\n\", y_train,\"\\n\\n\", y_test)\n",
    "print(\"*\"*40)\n",
    "print(\"scratch.function\", \"\\n\\n\\n\", X_train_scratch,\"\\n\\n\", X_test_scratch,\"\\n\\n\", y_train_scratch,\"\\n\\n\", y_test_scratch)"
   ]
  },
  {
   "cell_type": "markdown",
   "metadata": {},
   "source": [
    "# PROBLEM 2\n",
    "\n",
    "Creating a code to solve the classification problem"
   ]
  },
  {
   "cell_type": "code",
   "execution_count": 47,
   "metadata": {},
   "outputs": [],
   "source": [
    "## loading and preparing of the iris dataset\n",
    "iris_data = load_iris()\n",
    "X = iris_data.data[50:]\n",
    "y = iris_data.target[50:]"
   ]
  },
  {
   "cell_type": "code",
   "execution_count": 48,
   "metadata": {},
   "outputs": [
    {
     "name": "stdout",
     "output_type": "stream",
     "text": [
      "============ LogisticRegression ============\n",
      "confusion matrix: \n",
      " [[10  1]\n",
      " [ 0 14]]\n",
      "\n",
      "accuracy score; \n",
      " 0.96\n",
      "\n",
      "============ SVM ============\n",
      "confusion matrix: \n",
      " [[11  0]\n",
      " [ 4 10]]\n",
      "\n",
      "accuracy score; \n",
      " 0.84\n",
      "\n",
      "============ DecisionTree ============\n",
      "confusion matrix: \n",
      " [[10  1]\n",
      " [ 2 12]]\n",
      "\n",
      "accuracy score; \n",
      " 0.88\n",
      "\n"
     ]
    }
   ],
   "source": [
    "## Spliting by holdout method\n",
    "X_train, X_test, y_train, y_test = scratch_train_test_split(X, y)\n",
    "\n",
    "## Logistic Regression\n",
    "lr = SGDClassifier(loss=\"log\")\n",
    "lr.fit(X_train, y_train)\n",
    "pred = lr.predict(X_test)\n",
    "\n",
    "print(\"============ LogisticRegression ============\")\n",
    "print(\"confusion matrix:\",\"\\n\", confusion_matrix(y_test, pred))\n",
    "print()\n",
    "print(\"accuracy score;\",\"\\n\", accuracy_score(y_test, pred))\n",
    "print()\n",
    "\n",
    "## SVM\n",
    "svc = SVC()\n",
    "svc.fit(X_train, y_train)\n",
    "pred = svc.predict(X_test)\n",
    "\n",
    "print(\"============ SVM ============\")\n",
    "print(\"confusion matrix:\",\"\\n\", confusion_matrix(y_test, pred))\n",
    "print()\n",
    "print(\"accuracy score;\",\"\\n\", accuracy_score(y_test, pred))\n",
    "print()\n",
    "\n",
    "## Decision Tree\n",
    "print(\"============ DecisionTree ============\")\n",
    "tree = DecisionTreeClassifier()\n",
    "tree.fit(X_train, y_train)\n",
    "pred = tree.predict(X_test)\n",
    "\n",
    "print(\"confusion matrix:\",\"\\n\", confusion_matrix(y_test, pred))\n",
    "print()\n",
    "print(\"accuracy score;\",\"\\n\", accuracy_score(y_test, pred))\n",
    "print()\n"
   ]
  },
  {
   "cell_type": "code",
   "execution_count": 49,
   "metadata": {},
   "outputs": [],
   "source": [
    "## Simple data set 1 creation code\n",
    "np.random.seed(seed=0)\n",
    "n_samples = 500\n",
    "f0 = [-1, 2]\n",
    "f1 = [2, -1]\n",
    "cov = [[1.0,0.8], [0.8, 1.0]]\n",
    "f0 = np.random.multivariate_normal(f0, cov, int(n_samples/2))\n",
    "f1 = np.random.multivariate_normal(f1, cov, int(n_samples/2))\n",
    "X = np.concatenate((f0, f1))\n",
    "y = np.concatenate((np.ones((int(n_samples/2))), np.ones((int(n_samples/2))) *(-1))).astype(np.int)\n",
    "random_index = np.random.permutation(np.arange(n_samples))\n",
    "X = X[random_index]\n",
    "y = y[random_index]"
   ]
  },
  {
   "cell_type": "code",
   "execution_count": 50,
   "metadata": {},
   "outputs": [
    {
     "name": "stdout",
     "output_type": "stream",
     "text": [
      "============ LogisticRegression ============\n",
      "confusion matrix: \n",
      " [[65  0]\n",
      " [ 0 60]]\n",
      "\n",
      "accuracy score; \n",
      " 1.0\n",
      "\n",
      "============ SVM ============\n",
      "confusion matrix: \n",
      " [[65  0]\n",
      " [ 0 60]]\n",
      "\n",
      "accuracy score; \n",
      " 1.0\n",
      "\n",
      "============ DecisionTree ============\n",
      "confusion matrix: \n",
      " [[65  0]\n",
      " [ 0 60]]\n",
      "\n",
      "accuracy score; \n",
      " 1.0\n",
      "\n"
     ]
    }
   ],
   "source": [
    "## Spliting by holdout method\n",
    "X_train, X_test, y_train, y_test = scratch_train_test_split(X, y)\n",
    "\n",
    "## Logistic Regression\n",
    "lr = SGDClassifier(loss=\"log\")\n",
    "lr.fit(X_train, y_train)\n",
    "pred = lr.predict(X_test)\n",
    "\n",
    "print(\"============ LogisticRegression ============\")\n",
    "print(\"confusion matrix:\",\"\\n\", confusion_matrix(y_test, pred))\n",
    "print()\n",
    "print(\"accuracy score;\",\"\\n\", accuracy_score(y_test, pred))\n",
    "print()\n",
    "\n",
    "## SVM\n",
    "svc = SVC()\n",
    "svc.fit(X_train, y_train)\n",
    "pred = svc.predict(X_test)\n",
    "\n",
    "print(\"============ SVM ============\")\n",
    "print(\"confusion matrix:\",\"\\n\", confusion_matrix(y_test, pred))\n",
    "print()\n",
    "print(\"accuracy score;\",\"\\n\", accuracy_score(y_test, pred))\n",
    "print()\n",
    "\n",
    "## Decision Tree\n",
    "print(\"============ DecisionTree ============\")\n",
    "tree = DecisionTreeClassifier()\n",
    "tree.fit(X_train, y_train)\n",
    "pred = tree.predict(X_test)\n",
    "\n",
    "print(\"confusion matrix:\",\"\\n\", confusion_matrix(y_test, pred))\n",
    "print()\n",
    "print(\"accuracy score;\",\"\\n\", accuracy_score(y_test, pred))\n",
    "print()\n"
   ]
  },
  {
   "cell_type": "markdown",
   "metadata": {},
   "source": [
    "Draw the determination area of the model that learned binary classification with two-dimensional features. The background color is drawn from the estimated values of the trained model. The points on the scatter plot are training or validation data.\n",
    "\n",
    "Parameters\n",
    "---------------- ----------------\n",
    "X: ndarray, shape (n_samples, 2)\n",
    "Feature value\n",
    "y: ndarray, shape (n_samples,)\n",
    "label\n",
    "model: object\n",
    "Insert the installed model of the learned model\n",
    "step: float, (default: 0.1)\n",
    "Set the interval to calculate the estimate\n",
    "title: str\n",
    "Give the text of the graph title\n",
    "xlabel, ylabel: str\n",
    "Give the text of the axis label\n",
    "target_names =: list of str\n",
    "Give a list of legends  "
   ]
  },
  {
   "cell_type": "code",
   "execution_count": 51,
   "metadata": {},
   "outputs": [],
   "source": [
    "def decision_region(X, y, model, step=0.01, title='decision region', xlabel='xlabel', ylabel='ylabel', target_names=['0', '1']):\n",
    "   \n",
    "    ## setting\n",
    "    scatter_color = ['red', 'blue']\n",
    "    contourf_color = ['pink', 'skyblue']\n",
    "    n_class = 2\n",
    "    ## predecting\n",
    "    mesh_f0, mesh_f1  = np.meshgrid(np.arange(np.min(X[:,0])-0.5, np.max(X[:,0])+0.5, step), np.arange(np.min(X[:,1])-0.5, np.max(X[:,1])+0.5, step))\n",
    "    mesh = np.c_[np.ravel(mesh_f0),np.ravel(mesh_f1)]\n",
    "    y_pred = model.predict(mesh).reshape(mesh_f0.shape)\n",
    "    ## ploting\n",
    "    plt.title(title)\n",
    "    plt.xlabel(xlabel)\n",
    "    plt.ylabel(ylabel)\n",
    "    plt.contourf(mesh_f0, mesh_f1, y_pred, n_class-1, cmap=ListedColormap(contourf_color))\n",
    "    plt.contour(mesh_f0, mesh_f1, y_pred, n_class-1, colors='y', linewidths=3, alpha=0.5)\n",
    "    for i, target in enumerate(set(y)):\n",
    "        plt.scatter(X[y==target][:, 0], X[y==target][:, 1], s=80, color=scatter_color[i], label=target_names[i], marker='o')\n",
    "    patches = [mpatches.Patch(color=scatter_color[i], label=target_names[i]) for i in range(n_class)]\n",
    "    plt.legend(handles=patches)\n",
    "    plt.legend()\n",
    "    plt.show()\n",
    "  "
   ]
  },
  {
   "cell_type": "code",
   "execution_count": 52,
   "metadata": {},
   "outputs": [
    {
     "data": {
      "image/png": "[encoded data removed]",
      "text/plain": [
       "<Figure size 432x288 with 1 Axes>"
      ]
     },
     "metadata": {
      "needs_background": "light"
     },
     "output_type": "display_data"
    },
    {
     "data": {
      "image/png": "[encoded data removed]",
      "text/plain": [
       "<Figure size 432x288 with 1 Axes>"
      ]
     },
     "metadata": {
      "needs_background": "light"
     },
     "output_type": "display_data"
    },
    {
     "data": {
      "image/png": "[encoded data removed]",
      "text/plain": [
       "<Figure size 432x288 with 1 Axes>"
      ]
     },
     "metadata": {
      "needs_background": "light"
     },
     "output_type": "display_data"
    }
   ],
   "source": [
    "decision_region(X_test, y_test, lr, title=\"Linear Legression\")\n",
    "decision_region(X_test, y_test, svc, title=\"SVM\")\n",
    "decision_region(X_test, y_test, tree, title=\"DecisionTree\")"
   ]
  },
  {
   "cell_type": "code",
   "execution_count": 53,
   "metadata": {},
   "outputs": [],
   "source": [
    "## Simple data set 2 creation code\n",
    "X = np.array([[-0.44699 , -2.8073  ],[-1.4621  , -2.4586  ],\n",
    "       [ 0.10645 ,  1.9242  ],[-3.5944  , -4.0112  ],\n",
    "       [-0.9888  ,  4.5718  ],[-3.1625  , -3.9606  ],\n",
    "       [ 0.56421 ,  0.72888 ],[-0.60216 ,  8.4636  ],\n",
    "       [-0.61251 , -0.75345 ],[-0.73535 , -2.2718  ],\n",
    "       [-0.80647 , -2.2135  ],[ 0.86291 ,  2.3946  ],\n",
    "       [-3.1108  ,  0.15394 ],[-2.9362  ,  2.5462  ],\n",
    "       [-0.57242 , -2.9915  ],[ 1.4771  ,  3.4896  ],\n",
    "       [ 0.58619 ,  0.37158 ],[ 0.6017  ,  4.3439  ],\n",
    "       [-2.1086  ,  8.3428  ],[-4.1013  , -4.353   ],\n",
    "       [-1.9948  , -1.3927  ],[ 0.35084 , -0.031994],\n",
    "       [ 0.96765 ,  7.8929  ],[-1.281   , 15.6824  ],\n",
    "       [ 0.96765 , 10.083   ],[ 1.3763  ,  1.3347  ],\n",
    "       [-2.234   , -2.5323  ],[-2.9452  , -1.8219  ],\n",
    "       [ 0.14654 , -0.28733 ],[ 0.5461  ,  5.8245  ],\n",
    "       [-0.65259 ,  9.3444  ],[ 0.59912 ,  5.3524  ],\n",
    "       [ 0.50214 , -0.31818 ],[-3.0603  , -3.6461  ],\n",
    "       [-6.6797  ,  0.67661 ],[-2.353   , -0.72261 ],\n",
    "       [ 1.1319  ,  2.4023  ],[-0.12243 ,  9.0162  ],\n",
    "       [-2.5677  , 13.1779  ],[ 0.057313,  5.4681  ]])\n",
    "y = np.array([0, 0, 0, 0, 0, 0, 0, 0, 0, 0, 0, 0, 0, 0, 0, 0, 0, 0, 0, 0, 1, 1,\n",
    "       1, 1, 1, 1, 1, 1, 1, 1, 1, 1, 1, 1, 1, 1, 1, 1, 1, 1])\n"
   ]
  },
  {
   "cell_type": "code",
   "execution_count": 54,
   "metadata": {},
   "outputs": [
    {
     "name": "stdout",
     "output_type": "stream",
     "text": [
      "============ LogisticRegression ============\n",
      "confusion matrix: \n",
      " [[1 4]\n",
      " [3 2]]\n",
      "\n",
      "accuracy score; \n",
      " 0.3\n",
      "\n",
      "============ SVM ============\n",
      "confusion matrix: \n",
      " [[3 2]\n",
      " [2 3]]\n",
      "\n",
      "accuracy score; \n",
      " 0.6\n",
      "\n",
      "============ DecisionTree ============\n",
      "confusion matrix: \n",
      " [[5 0]\n",
      " [0 5]]\n",
      "\n",
      "accuracy score; \n",
      " 1.0\n",
      "\n"
     ]
    }
   ],
   "source": [
    "## Spliting by holdout method\n",
    "X_train, X_test, y_train, y_test = scratch_train_test_split(X, y)\n",
    "\n",
    "## Logistic Regression\n",
    "lr = SGDClassifier(loss=\"log\")\n",
    "lr.fit(X_train, y_train)\n",
    "pred = lr.predict(X_test)\n",
    "\n",
    "print(\"============ LogisticRegression ============\")\n",
    "print(\"confusion matrix:\",\"\\n\", confusion_matrix(y_test, pred))\n",
    "print()\n",
    "print(\"accuracy score;\",\"\\n\", accuracy_score(y_test, pred))\n",
    "print()\n",
    "\n",
    "## SVM\n",
    "svc = SVC()\n",
    "svc.fit(X_train, y_train)\n",
    "pred = svc.predict(X_test)\n",
    "\n",
    "print(\"============ SVM ============\")\n",
    "print(\"confusion matrix:\",\"\\n\", confusion_matrix(y_test, pred))\n",
    "print()\n",
    "print(\"accuracy score;\",\"\\n\", accuracy_score(y_test, pred))\n",
    "print()\n",
    "\n",
    "## Decision Tree\n",
    "print(\"============ DecisionTree ============\")\n",
    "tree = DecisionTreeClassifier()\n",
    "tree.fit(X_train, y_train)\n",
    "pred = tree.predict(X_test)\n",
    "\n",
    "print(\"confusion matrix:\",\"\\n\", confusion_matrix(y_test, pred))\n",
    "print()\n",
    "print(\"accuracy score;\",\"\\n\", accuracy_score(y_test, pred))\n",
    "print()\n"
   ]
  },
  {
   "cell_type": "code",
   "execution_count": 28,
   "metadata": {},
   "outputs": [
    {
     "data": {
      "image/png": "[encoded data removed]",
      "text/plain": [
       "<Figure size 432x288 with 1 Axes>"
      ]
     },
     "metadata": {
      "needs_background": "light"
     },
     "output_type": "display_data"
    },
    {
     "data": {
      "image/png": "[encoded data removed]",
      "text/plain": [
       "<Figure size 432x288 with 1 Axes>"
      ]
     },
     "metadata": {
      "needs_background": "light"
     },
     "output_type": "display_data"
    },
    {
     "data": {
      "image/png": "[encoded data removed]",
      "text/plain": [
       "<Figure size 432x288 with 1 Axes>"
      ]
     },
     "metadata": {
      "needs_background": "light"
     },
     "output_type": "display_data"
    }
   ],
   "source": [
    "decision_region(X_test, y_test, lr, title=\"Linear Legression\")\n",
    "decision_region(X_test, y_test, svc, title=\"SVM\")\n",
    "decision_region(X_test, y_test, tree, title=\"DecisionTree\")\n"
   ]
  },
  {
   "cell_type": "markdown",
   "metadata": {},
   "source": [
    "# PROBLEM 3\n",
    "\n",
    "Create code to train and estimate the House Prices data set with linear regression."
   ]
  },
  {
   "cell_type": "code",
   "execution_count": 32,
   "metadata": {},
   "outputs": [],
   "source": [
    "## Loading the house price dataset and spliting it into x and y train\n",
    "train = pd.read_csv(\"train.csv\")\n",
    "X = train[[\"GrLivArea\", \"YearBuilt\"]]\n",
    "y = train[\"SalePrice\"]\n",
    "\n",
    "X_train, X_test, y_train, y_test = scratch_train_test_split(X, y)"
   ]
  },
  {
   "cell_type": "code",
   "execution_count": 34,
   "metadata": {},
   "outputs": [
    {
     "name": "stdout",
     "output_type": "stream",
     "text": [
      "========== LinearRegression ==========\n",
      "RMSE: \n",
      " 817166471991700.6\n"
     ]
    }
   ],
   "source": [
    "from sklearn.linear_model import SGDRegressor\n",
    "from sklearn.metrics import mean_squared_error\n",
    "\n",
    "lrg = SGDRegressor()\n",
    "lrg.fit(X_train, y_train)\n",
    "pred = lrg.predict(X_test)\n",
    "\n",
    "rmse = np.sqrt(mean_squared_error(y_test, pred))\n",
    "print(\"========== LinearRegression ==========\")\n",
    "print(\"RMSE:\", \"\\n\", rmse)"
   ]
  },
  {
   "cell_type": "code",
   "execution_count": null,
   "metadata": {},
   "outputs": [],
   "source": []
  }
 ],
 "metadata": {
  "kernelspec": {
   "display_name": "Python 3",
   "language": "python",
   "name": "python3"
  },
  "language_info": {
   "codemirror_mode": {
    "name": "ipython",
    "version": 3
   },
   "file_extension": ".py",
   "mimetype": "text/x-python",
   "name": "python",
   "nbconvert_exporter": "python",
   "pygments_lexer": "ipython3",
   "version": "3.8.5"
  }
 },
 "nbformat": 4,
 "nbformat_minor": 4
}
