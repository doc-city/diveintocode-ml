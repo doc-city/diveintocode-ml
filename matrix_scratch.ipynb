{
 "cells": [
  {
   "cell_type": "code",
   "execution_count": 1,
   "metadata": {},
   "outputs": [],
   "source": [
    "import numpy as np\n",
    "a_ndarray = np.array([[-1, 2, 3], [4, -5, 6], [7, 8, -9]])\n",
    "b_ndarray = np.array([[0, 2, 1], [0, 2, -8], [2, 9, -1]])"
   ]
  },
  {
   "cell_type": "markdown",
   "metadata": {},
   "source": [
    "# PROBLEM 1\n",
    "Matrix product is calculated manually"
   ]
  },
  {
   "cell_type": "markdown",
   "metadata": {},
   "source": [
    "**Question:**\n",
    "$$A=\\begin{bmatrix}-1&2&3\\\\\n",
    "4&-5&6\\\\\n",
    "7&8&-9\\\\\n",
    "\\end{bmatrix},B=\\begin{bmatrix}0&2&1\\\\\n",
    "0&2&-8\\\\\n",
    "2&9&-1\n",
    "\\end{bmatrix}$$\n",
    "\n",
    "\n",
    "**Answer:**\n",
    "$$\n",
    "\\begin{bmatrix}(-1*0)+(2*0)+(3*2)&(-1*2)+(2*2)+(3*9)&(-1*1)+(2*-8)+(3*-1)\\\\\n",
    "(4*0)+(-5*0)+(6*2)&(4*2)+(-5*2)+(6*9)&(4*1)+(-5*-8)+(6*-1)\\\\\n",
    "(7*0)+(8*0)+(-9*2)&(7*2)+(8*2)+(-9*9)&(7*1)+(8*-8)+(-9*-1)\n",
    "\\end{bmatrix}\n",
    "$$\n",
    "\n",
    "\n",
    "**Final Answer**\n",
    "$$\n",
    "AB=\\begin{bmatrix}\n",
    "6&29&-20\\\\\n",
    "12&52&38\\\\\n",
    "-18&-51&-48\n",
    "\\end{bmatrix}\n",
    "$$"
   ]
  },
  {
   "cell_type": "markdown",
   "metadata": {},
   "source": [
    "# PROBLEM 2\n",
    "Calculation by NumPy function"
   ]
  },
  {
   "cell_type": "code",
   "execution_count": 2,
   "metadata": {},
   "outputs": [
    {
     "name": "stdout",
     "output_type": "stream",
     "text": [
      "np.matmul()：\n",
      "[[  6  29 -20]\n",
      " [ 12  52  38]\n",
      " [-18 -51 -48]]\n"
     ]
    }
   ],
   "source": [
    "# np.matmul()\n",
    "print(\"np.matmul()：\\n{}\".format(np.matmul(a_ndarray, b_ndarray)))"
   ]
  },
  {
   "cell_type": "code",
   "execution_count": 3,
   "metadata": {},
   "outputs": [
    {
     "name": "stdout",
     "output_type": "stream",
     "text": [
      "\n",
      "np.dot()：\n",
      "[[  6  29 -20]\n",
      " [ 12  52  38]\n",
      " [-18 -51 -48]]\n"
     ]
    }
   ],
   "source": [
    "print()\n",
    "# np.dot()\n",
    "print(\"np.dot()：\\n{}\".format(np.dot(a_ndarray, b_ndarray)))"
   ]
  },
  {
   "cell_type": "code",
   "execution_count": 4,
   "metadata": {},
   "outputs": [
    {
     "name": "stdout",
     "output_type": "stream",
     "text": [
      "\n",
      "np.dot()：\n",
      "[[  6  29 -20]\n",
      " [ 12  52  38]\n",
      " [-18 -51 -48]]\n"
     ]
    }
   ],
   "source": [
    "print()\n",
    "print(\"np.dot()：\\n{}\".format(a_ndarray @ b_ndarray))"
   ]
  },
  {
   "cell_type": "markdown",
   "metadata": {},
   "source": [
    "# PROBLEM 3\n",
    "Implementation of calculation of a certain element"
   ]
  },
  {
   "cell_type": "code",
   "execution_count": 5,
   "metadata": {},
   "outputs": [
    {
     "name": "stdout",
     "output_type": "stream",
     "text": [
      "10\n"
     ]
    }
   ],
   "source": [
    "answer_2 = (a_ndarray[0][0]*b_ndarray[0][0])+(a_ndarray[0][1]*b_ndarray[0][1])+(a_ndarray[0][2]*b_ndarray[0][2])\n",
    "print(answer_2)"
   ]
  },
  {
   "cell_type": "markdown",
   "metadata": {},
   "source": [
    "# PROBLEM 4\n",
    "Creating a function that performs matrix multiplication"
   ]
  },
  {
   "cell_type": "code",
   "execution_count": 8,
   "metadata": {},
   "outputs": [
    {
     "name": "stdout",
     "output_type": "stream",
     "text": [
      "[[  6.  29. -20.]\n",
      " [ 12.  52.  38.]\n",
      " [-18. -51. -48.]]\n"
     ]
    }
   ],
   "source": [
    "def cal_matrix (a,b):\n",
    "    answer_2_1 = np.empty([3,3])\n",
    "    for row_1 in range(a.shape[0]):\n",
    "        for column_1 in range(b.shape[1]):\n",
    "            answer_2_1[row_1][column_1] = sum(a[row_1,:]*b[:,column_1])\n",
    "    return answer_2_1\n",
    "print(cal_matrix(a_ndarray, b_ndarray))"
   ]
  },
  {
   "cell_type": "markdown",
   "metadata": {},
   "source": [
    "### PROBLEM 4A\n",
    "Matrix of combinations with undefined matrix product\n",
    "$$D=\\begin{bmatrix}-1&2&3\\\\\n",
    "4&-5&6\\\\\n",
    "\\end{bmatrix},E=\\begin{bmatrix}-9&8&76&-5&4\\\\\n",
    "\\end{bmatrix}$$\n",
    "\n",
    "###\n",
    "The matrix product DE is defined when the number of columns in D and the number of rows in E are equal, so it cannot be calculated in this example.\n",
    "###"
   ]
  },
  {
   "cell_type": "markdown",
   "metadata": {},
   "source": [
    "## PROBLEM 5\n",
    "Judge the input whose calculation is not defined"
   ]
  },
  {
   "cell_type": "code",
   "execution_count": 10,
   "metadata": {},
   "outputs": [
    {
     "name": "stdout",
     "output_type": "stream",
     "text": [
      "This matrix cannot be calculated\n"
     ]
    }
   ],
   "source": [
    "d_ndarray = np.array([[-1, 2, 3], [4, -5, 6]])\n",
    "e_ndarray = np.array([[-9, 8, 7], [6, -5, 4]])\n",
    "if(d_ndarray.shape[0]==e_ndarray.shape[1]):\n",
    "    print(cal_matrix(d_ndarray,e_ndarray))\n",
    "else:\n",
    "    print(\"This matrix cannot be calculated\")"
   ]
  },
  {
   "cell_type": "markdown",
   "metadata": {},
   "source": [
    "# PROBLEM 6\n",
    "Transposition\n"
   ]
  },
  {
   "cell_type": "code",
   "execution_count": 11,
   "metadata": {},
   "outputs": [
    {
     "name": "stdout",
     "output_type": "stream",
     "text": [
      "This matrix cannot be calculated\n",
      "after transpose (2, 3), (3, 2)\n",
      "----------------------------------------------------\n",
      "solution [[ 46  -4]\n",
      " [-34  73]]\n"
     ]
    }
   ],
   "source": [
    "def cal_matrix_2(a,b):\n",
    "    if(a.shape[0]==b.shape[1]):\n",
    "        results=np.matmul(a,b)\n",
    "        return results\n",
    "    else:\n",
    "        return \"This matrix cannot be calculated\"\n",
    "print(cal_matrix_2(d_ndarray,e_ndarray))\n",
    "transposed_ndarray = np.transpose(e_ndarray)\n",
    "print(\"after transpose {}, {}\".format(d_ndarray.shape,transposed_ndarray.shape))\n",
    "print(\"----------------------------------------------------\")\n",
    "print(\"solution {}\".format(cal_matrix_2(d_ndarray,transposed_ndarray)))\n",
    "    "
   ]
  },
  {
   "cell_type": "code",
   "execution_count": 15,
   "metadata": {},
   "outputs": [],
   "source": [
    "## USING THE LIST COMPREHENSION METHOD "
   ]
  },
  {
   "cell_type": "code",
   "execution_count": 14,
   "metadata": {},
   "outputs": [
    {
     "name": "stdout",
     "output_type": "stream",
     "text": [
      "[[ 46  -4]\n",
      " [-34  73]]\n",
      "\n",
      "[[ 46  -4]\n",
      " [-34  73]]\n"
     ]
    }
   ],
   "source": [
    "#np.transpose() \n",
    "print(d_ndarray @ np.transpose(e_ndarray))\n",
    "\n",
    "print()\n",
    "\n",
    "# .T ()\n",
    "print(d_ndarray @ e_ndarray.T)"
   ]
  },
  {
   "cell_type": "code",
   "execution_count": null,
   "metadata": {},
   "outputs": [],
   "source": []
  }
 ],
 "metadata": {
  "kernelspec": {
   "display_name": "Python 3",
   "language": "python",
   "name": "python3"
  },
  "language_info": {
   "codemirror_mode": {
    "name": "ipython",
    "version": 3
   },
   "file_extension": ".py",
   "mimetype": "text/x-python",
   "name": "python",
   "nbconvert_exporter": "python",
   "pygments_lexer": "ipython3",
   "version": "3.8.5"
  }
 },
 "nbformat": 4,
 "nbformat_minor": 4
}
