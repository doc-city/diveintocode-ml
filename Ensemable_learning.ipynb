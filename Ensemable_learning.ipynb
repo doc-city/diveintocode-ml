{
 "cells": [
  {
   "cell_type": "code",
   "execution_count": 1,
   "id": "23a90335",
   "metadata": {},
   "outputs": [],
   "source": [
    "import numpy as np\n",
    "import pandas as pd\n",
    "import matplotlib.pyplot as plt\n",
    "%matplotlib inline\n",
    "import seaborn as sns\n",
    "\n",
    "from sklearn.linear_model import LinearRegression\n",
    "from sklearn.svm import SVR\n",
    "from sklearn.tree import DecisionTreeRegressor\n",
    "from sklearn.model_selection import train_test_split\n",
    "from sklearn.preprocessing import StandardScaler\n",
    "from sklearn.metrics import mean_squared_error\n",
    "from sklearn.compose import TransformedTargetRegressor\n",
    "from sklearn.preprocessing import MinMaxScaler\n",
    "from sklearn.model_selection import KFold"
   ]
  },
  {
   "cell_type": "code",
   "execution_count": 2,
   "id": "76e4a10d",
   "metadata": {},
   "outputs": [],
   "source": [
    "train = pd.read_csv(\"train.csv\")[[\"GrLivArea\", \"YearBuilt\"]]\n",
    "target = pd.read_csv(\"train.csv\")[\"SalePrice\"]\n",
    "\n",
    "X_train, X_val, y_train, y_val = train_test_split(train, target, test_size=0.2, random_state=0)"
   ]
  },
  {
   "cell_type": "markdown",
   "id": "50c0a6ff",
   "metadata": {},
   "source": [
    "## Introduction Easy data confirmation"
   ]
  },
  {
   "cell_type": "code",
   "execution_count": 3,
   "id": "274eba90",
   "metadata": {},
   "outputs": [
    {
     "data": {
      "image/png": "[encoded data removed]",
      "text/plain": [
       "<Figure size 864x288 with 2 Axes>"
      ]
     },
     "metadata": {
      "needs_background": "light"
     },
     "output_type": "display_data"
    }
   ],
   "source": [
    "fig, axes = plt.subplots(1,2, figsize=(12,4))\n",
    "axes[0].scatter(train[\"GrLivArea\"], target)\n",
    "axes[0].set_title(\"GrLivArea\")\n",
    "axes[1].scatter(train[\"YearBuilt\"], target)\n",
    "axes[1].set_title(\"YearBuilt\")\n",
    "plt.show()"
   ]
  },
  {
   "cell_type": "markdown",
   "id": "1299c253",
   "metadata": {},
   "source": [
    "# Problem 1 \n",
    "## scratch mounting"
   ]
  },
  {
   "cell_type": "code",
   "execution_count": 5,
   "id": "97c139d6",
   "metadata": {},
   "outputs": [
    {
     "data": {
      "text/html": [
       "<div>\n",
       "<style scoped>\n",
       "    .dataframe tbody tr th:only-of-type {\n",
       "        vertical-align: middle;\n",
       "    }\n",
       "\n",
       "    .dataframe tbody tr th {\n",
       "        vertical-align: top;\n",
       "    }\n",
       "\n",
       "    .dataframe thead th {\n",
       "        text-align: right;\n",
       "    }\n",
       "</style>\n",
       "<table border=\"1\" class=\"dataframe\">\n",
       "  <thead>\n",
       "    <tr style=\"text-align: right;\">\n",
       "      <th></th>\n",
       "      <th>mean_squared_error</th>\n",
       "    </tr>\n",
       "  </thead>\n",
       "  <tbody>\n",
       "    <tr>\n",
       "      <th>blending_lr_and_tree</th>\n",
       "      <td>2.589777e+09</td>\n",
       "    </tr>\n",
       "    <tr>\n",
       "      <th>blending_all</th>\n",
       "      <td>2.842546e+09</td>\n",
       "    </tr>\n",
       "    <tr>\n",
       "      <th>LinearRegression</th>\n",
       "      <td>2.942067e+09</td>\n",
       "    </tr>\n",
       "    <tr>\n",
       "      <th>tree</th>\n",
       "      <td>3.320593e+09</td>\n",
       "    </tr>\n",
       "    <tr>\n",
       "      <th>svr</th>\n",
       "      <td>7.221523e+09</td>\n",
       "    </tr>\n",
       "  </tbody>\n",
       "</table>\n",
       "</div>"
      ],
      "text/plain": [
       "                      mean_squared_error\n",
       "blending_lr_and_tree        2.589777e+09\n",
       "blending_all                2.842546e+09\n",
       "LinearRegression            2.942067e+09\n",
       "tree                        3.320593e+09\n",
       "svr                         7.221523e+09"
      ]
     },
     "metadata": {},
     "output_type": "display_data"
    }
   ],
   "source": [
    "np.random.seed(0)\n",
    "\n",
    "## Data standardization\n",
    "sc = StandardScaler()\n",
    "sc.fit(np.concatenate([X_train, X_val]))\n",
    "X_train = sc.transform(X_train)\n",
    "X_val = sc.transform(X_val)\n",
    "\n",
    "## Learning (Linear Regression & SVM & Decision Tree)\n",
    "lr = LinearRegression().fit(X_train, y_train)\n",
    "svr = SVR().fit(X_train, y_train)\n",
    "tree = DecisionTreeRegressor().fit(X_train, y_train)\n",
    "\n",
    "## Forecast\n",
    "lr_pred  = lr.predict(X_val)\n",
    "svr_pred = svr.predict(X_val)\n",
    "tree_pred = tree.predict(X_val)\n",
    "\n",
    "## Blending\n",
    "blending_all_pred = np.array([lr_pred, svr_pred, tree_pred]).mean(axis=0) ## Mix all\n",
    "blending_lr_and_tree_pred = np.array([lr_pred, tree_pred]).mean(axis=0)#Linear regression & decision tree\n",
    "## Rating\n",
    "lr_score = mean_squared_error(y_val, lr_pred)\n",
    "svr_score = mean_squared_error(y_val, svr_pred)\n",
    "tree_score = mean_squared_error(y_val, tree_pred)\n",
    "\n",
    "blending_all_score = mean_squared_error(y_val, blending_all_pred)\n",
    "blending_lr_and_tree_score = mean_squared_error(y_val, blending_lr_and_tree_pred)\n",
    "\n",
    "results = pd.DataFrame(data=[lr_score, svr_score, tree_score, blending_all_score, blending_lr_and_tree_score],\n",
    "                       index=[\"LinearRegression\", \"svr\", \"tree\", \"blending_all\", \"blending_lr_and_tree\"],\n",
    "                       columns=[\"mean_squared_error\"])\n",
    "\n",
    "display(results.sort_values(by=\"mean_squared_error\"))\n"
   ]
  },
  {
   "cell_type": "markdown",
   "id": "baca4c71",
   "metadata": {},
   "source": [
    ". The best score was when the linear regression & decision tree model predictions were blended.\n",
    "\n",
    ". Try changing the blending ratio of linear regression & decision tree predictions"
   ]
  },
  {
   "cell_type": "code",
   "execution_count": 6,
   "id": "f0f81831",
   "metadata": {},
   "outputs": [
    {
     "data": {
      "image/png": "[encoded data removed]",
      "text/plain": [
       "<Figure size 432x288 with 1 Axes>"
      ]
     },
     "metadata": {
      "needs_background": "light"
     },
     "output_type": "display_data"
    },
    {
     "name": "stdout",
     "output_type": "stream",
     "text": [
      "best mse score: 2.573e+09\n",
      "lr ratio: 0.586\n",
      "tree ratio: 0.414\n"
     ]
    }
   ],
   "source": [
    "lr_ratio = np.linspace(0,1,100)\n",
    "scores = []\n",
    "for p in lr_ratio:\n",
    "    y_blending = p * lr_pred  + (1-p) * tree_pred\n",
    "    score = mean_squared_error(y_val, y_blending)\n",
    "    scores.append(score)\n",
    "\n",
    "plt.scatter(lr_ratio, scores)\n",
    "plt.ylabel(\"mse\")\n",
    "plt.xlabel(\"lr_ratio\")\n",
    "plt.title(\"scores by blending ratio\")\n",
    "plt.show()\n",
    "\n",
    "min_value = min(scores)\n",
    "min_index = scores.index(min_value)\n",
    "min_ratio = lr_ratio[min_index]\n",
    "\n",
    "print(\"best mse score: {:.3e}\\nlr ratio: {:.3f}\\ntree ratio: {:.3f}\".format(min_value, min_ratio, 1-min_ratio))"
   ]
  },
  {
   "cell_type": "markdown",
   "id": "402aac48",
   "metadata": {},
   "source": [
    "### Blending by hyperparameters"
   ]
  },
  {
   "cell_type": "code",
   "execution_count": null,
   "id": "5dcb92e4",
   "metadata": {},
   "outputs": [],
   "source": [
    "# Data standardization\n",
    "sc = StandardScaler()\n",
    "sc.fit(np.concatenate([X_train, X_val]))\n",
    "X_train = sc.transform(X_train)\n",
    "X_val = sc.transform(X_val)\n",
    "\n",
    "## Learning\n",
    "svr1 = SVR(kernel=\"linear\", C=1, epsilon=0.1, coef0=0.0).fit(X_train, y_train)\n",
    "svr2 = SVR(kernel=\"poly\", C=10, epsilon=0.1, coef0=0.0).fit(X_train, y_train)\n",
    "svr3 = SVR(kernel=\"rbf\", C=1, epsilon=0.1, coef0=0.0).fit(X_train, y_train)\n",
    "\n",
    "## Forecast\n",
    "svr1_pred  = svr1.predict(X_val)\n",
    "svr2_pred = svr2.predict(X_val)\n",
    "svr3_pred = svr3.predict(X_val)\n",
    "blending_pred = np.array([svr1_pred, svr2_pred, svr3_pred]).mean(axis=0)\n",
    "\n",
    "## Rating\n",
    "svr1_score = mean_squared_error(y_val, svr1_pred)\n",
    "svr2_score = mean_squared_error(y_val, svr2_pred)\n",
    "svr3_score = mean_squared_error(y_val, svr3_pred)\n",
    "blending_score = mean_squared_error(y_val, blending_pred)\n",
    "\n",
    "results = pd.DataFrame(data=[svr1_score, svr2_score, svr3_score, blending_score],\n",
    "                       index=[\"svr1\", \"svr2\", \"svr3\", \"blending_pred\"],\n",
    "                       columns=[\"params changed mse\"])\n",
    "\n",
    "display(results.sort_values(by=\"params changed mse\"))"
   ]
  },
  {
   "cell_type": "markdown",
   "id": "24786204",
   "metadata": {},
   "source": [
    "### Blending by preprocessing method of input data"
   ]
  },
  {
   "cell_type": "code",
   "execution_count": 9,
   "id": "a8c37d39",
   "metadata": {},
   "outputs": [],
   "source": [
    "## Data reload\n",
    "train = pd.read_csv(\"train.csv\")[[\"GrLivArea\", \"YearBuilt\"]]\n",
    "target = pd.read_csv(\"train.csv\")[\"SalePrice\"]\n",
    "\n",
    "X_train, X_val, y_train, y_val = train_test_split(train, target, test_size=0.2, random_state=0)"
   ]
  },
  {
   "cell_type": "code",
   "execution_count": 11,
   "id": "ea0ab4f8",
   "metadata": {},
   "outputs": [
    {
     "data": {
      "text/html": [
       "<div>\n",
       "<style scoped>\n",
       "    .dataframe tbody tr th:only-of-type {\n",
       "        vertical-align: middle;\n",
       "    }\n",
       "\n",
       "    .dataframe tbody tr th {\n",
       "        vertical-align: top;\n",
       "    }\n",
       "\n",
       "    .dataframe thead th {\n",
       "        text-align: right;\n",
       "    }\n",
       "</style>\n",
       "<table border=\"1\" class=\"dataframe\">\n",
       "  <thead>\n",
       "    <tr style=\"text-align: right;\">\n",
       "      <th></th>\n",
       "      <th>data changed mse</th>\n",
       "    </tr>\n",
       "  </thead>\n",
       "  <tbody>\n",
       "    <tr>\n",
       "      <th>blending_pred</th>\n",
       "      <td>2.843176e+09</td>\n",
       "    </tr>\n",
       "    <tr>\n",
       "      <th>LR log-scaler data</th>\n",
       "      <td>2.900008e+09</td>\n",
       "    </tr>\n",
       "    <tr>\n",
       "      <th>LR standard data</th>\n",
       "      <td>2.942067e+09</td>\n",
       "    </tr>\n",
       "  </tbody>\n",
       "</table>\n",
       "</div>"
      ],
      "text/plain": [
       "                    data changed mse\n",
       "blending_pred           2.843176e+09\n",
       "LR log-scaler data      2.900008e+09\n",
       "LR standard data        2.942067e+09"
      ]
     },
     "metadata": {},
     "output_type": "display_data"
    }
   ],
   "source": [
    "## Standardization\n",
    "sc = StandardScaler()\n",
    "sc.fit(np.concatenate([X_train, X_val]))\n",
    "X_train_std = sc.transform(X_train)\n",
    "X_val_std = sc.transform(X_val)\n",
    "\n",
    "##vLogarithmic transformation\n",
    "X_train_log = X_train.apply(np.log1p)\n",
    "X_val_log = X_val.apply(np.log1p)\n",
    "\n",
    "## clipping\n",
    "p01 = X_train.quantile(0.01)\n",
    "p99 = X_val.quantile(0.99)\n",
    "X_train_clip = X_train.clip(p01, p99, axis=1)\n",
    "X_val_clip = X_val.clip(p01, p99, axis=1)\n",
    "\n",
    "## Learning (Linear Regression)\n",
    "lr_std = LinearRegression().fit(X_train_std, y_train)\n",
    "lr_log = LinearRegression().fit(X_train_log, y_train)\n",
    "## lr_clip = LinearRegression().fit(X_train_clip, y_train)\n",
    "\n",
    "## Forecast\n",
    "lr_std_pred  = lr_std.predict(X_val_std)\n",
    "lr_log_pred  = lr_log.predict(X_val_log)\n",
    "#lr_clip_pred = lr_clip.predict(X_val_clip)\n",
    "blending_pred = np.array([lr_std_pred, lr_log_pred]).mean(axis=0)\n",
    "\n",
    "## Rating\n",
    "lr_std_score = mean_squared_error(y_val, lr_std_pred)\n",
    "lr_log_score = mean_squared_error(y_val, lr_log_pred)\n",
    "#lr_clip_score = mean_squared_error(y_val, lr_clip_pred)\n",
    "blending_score = mean_squared_error(y_val, blending_pred)\n",
    "\n",
    "results = pd.DataFrame(data=[lr_std_score, lr_log_score,  blending_score],\n",
    "                       index=[\"LR standard data\", \"LR log-scaler data\",  \"blending_pred\"],\n",
    "                       columns=[\"data changed mse\"])\n",
    "\n",
    "display(results.sort_values(by=\"data changed mse\"))"
   ]
  },
  {
   "cell_type": "markdown",
   "id": "44a718d9",
   "metadata": {},
   "source": [
    "# Problem 2 \n",
    "## Scratch mounting of bagging"
   ]
  },
  {
   "cell_type": "code",
   "execution_count": 13,
   "id": "1e381c67",
   "metadata": {},
   "outputs": [
    {
     "name": "stdout",
     "output_type": "stream",
     "text": [
      "LinearRegression-model single learning score is 1.873e+09\n"
     ]
    }
   ],
   "source": [
    "## Measure the score when learning alone\n",
    "X_train, X_val, y_train ,y_val = train_test_split(train, target, test_size=0.2, random_state=2)\n",
    "lr = LinearRegression().fit(X_train, y_train)\n",
    "y_pred = lr.predict(X_val)\n",
    "score = mean_squared_error(y_val, y_pred)\n",
    "print(\"LinearRegression-model single learning score is {:.3e}\".format(score))"
   ]
  },
  {
   "cell_type": "code",
   "execution_count": 15,
   "id": "3e416991",
   "metadata": {},
   "outputs": [
    {
     "name": "stdout",
     "output_type": "stream",
     "text": [
      "baggin mse score is: 1.873e+09\n"
     ]
    }
   ],
   "source": [
    "## Learn with bagging\n",
    "num_iter = 200\n",
    "X_train, X_val, y_train ,y_val = train_test_split(train, target, test_size=0.2, random_state=2)\n",
    "\n",
    "bagging_pred = np.zeros([num_iter, len(X_val)])\n",
    "\n",
    "for i in range(num_iter):\n",
    "    X_train_bag, _, y_train_bag ,_ = train_test_split(X_train, y_train, test_size=0.2, shuffle=True)\n",
    "    lr = LinearRegression().fit(X_train_bag, y_train_bag)\n",
    "    y_pred = lr.predict(X_val)\n",
    "    bagging_pred[i, :] = y_pred\n",
    "\n",
    "mean_bagging_pred = bagging_pred.mean(axis=0)\n",
    "score = mean_squared_error(y_val, mean_bagging_pred)\n",
    "print(\"baggin mse score is: {:.3e}\".format(score))"
   ]
  },
  {
   "cell_type": "markdown",
   "id": "9a24c549",
   "metadata": {},
   "source": [
    "# Problem 3\n",
    "## Stacking scratch mounting"
   ]
  },
  {
   "cell_type": "code",
   "execution_count": 17,
   "id": "540c862a",
   "metadata": {},
   "outputs": [],
   "source": [
    "## Data read\n",
    "train = pd.read_csv(\"train.csv\")[[\"GrLivArea\", \"YearBuilt\"]]\n",
    "target = pd.read_csv(\"train.csv\")[\"SalePrice\"]\n",
    "\n",
    "X_train, X_test, y_train, y_test = train_test_split(train, target, test_size=0.2, random_state=0)"
   ]
  },
  {
   "cell_type": "code",
   "execution_count": 18,
   "id": "9e69ffe5",
   "metadata": {},
   "outputs": [
    {
     "name": "stdout",
     "output_type": "stream",
     "text": [
      "mse: 2.942e+09\n"
     ]
    }
   ],
   "source": [
    "lr = LinearRegression()\n",
    "lr.fit(X_train, y_train)\n",
    "print(\"mse: {:.3e}\".format(mean_squared_error(y_test, lr.predict(X_test))))"
   ]
  },
  {
   "cell_type": "code",
   "execution_count": 21,
   "id": "fa920c05",
   "metadata": {},
   "outputs": [
    {
     "data": {
      "text/plain": [
       "LinearRegression()"
      ]
     },
     "execution_count": 21,
     "metadata": {},
     "output_type": "execute_result"
    }
   ],
   "source": [
    "## Define learning model\n",
    "model_list = [LinearRegression, SVR, DecisionTreeRegressor]\n",
    "\n",
    "## Cross-validation\n",
    "K = 4\n",
    "kf = KFold(n_splits=K, shuffle=True, random_state=0)\n",
    "\n",
    "## Dictionary type definition to save an instance\n",
    "instance_dict = {i:[] for i in range(len(model_list))}\n",
    "scores = np.zeros([len(model_list), K])\n",
    "\n",
    "## Define the shape of blending data\n",
    "blend_data = np.zeros([len(model_list), len(y_train)])\n",
    "\n",
    "#Stacking\n",
    "for i, model in enumerate(model_list):\n",
    "    for j, (tr_idx, va_idx) in enumerate(kf.split(X_train)):\n",
    "        tr_x, va_x = X_train.iloc[tr_idx], X_train.iloc[va_idx]\n",
    "        tr_y, va_y = y_train.iloc[tr_idx], y_train.iloc[va_idx]\n",
    "        \n",
    "        ins = model().fit(tr_x, tr_y)\n",
    "        y_pred = ins.predict(va_x)\n",
    "        \n",
    "        blend_data[i, va_idx] = y_pred\n",
    "        instance_dict[i].append(ins)\n",
    "        scores[i, j] = mean_squared_error(va_y, y_pred)\n",
    "\n",
    "## Learning using blended data (select the model with the best score)\n",
    "best_model_idx = np.argmin(scores.mean(axis=1))\n",
    "last_model = model_list[best_model_idx]()\n",
    "last_model.fit(blend_data.T, y_train)"
   ]
  },
  {
   "cell_type": "code",
   "execution_count": 22,
   "id": "220be1bd",
   "metadata": {},
   "outputs": [
    {
     "name": "stdout",
     "output_type": "stream",
     "text": [
      "stacking mse: 2.604e+09\n"
     ]
    }
   ],
   "source": [
    "blend_data = np.zeros([len(model_list), len(X_test)])\n",
    "\n",
    "for i, models in enumerate(instance_dict.values()):\n",
    "    mean_pred = np.zeros([K, len(X_test)])\n",
    "    for j, week_model in enumerate(models):\n",
    "        pred = week_model.predict(X_test)\n",
    "        mean_pred[j, :] = pred\n",
    "    blend_data[i,:] = mean_pred.mean(axis=0)\n",
    "\n",
    "last_predict = last_model.predict(blend_data.T)\n",
    "print(\"stacking mse: {:.3e}\".format(mean_squared_error(y_test, last_predict)))"
   ]
  },
  {
   "cell_type": "code",
   "execution_count": null,
   "id": "70fe359d",
   "metadata": {},
   "outputs": [],
   "source": []
  }
 ],
 "metadata": {
  "kernelspec": {
   "display_name": "Python 3",
   "language": "python",
   "name": "python3"
  },
  "language_info": {
   "codemirror_mode": {
    "name": "ipython",
    "version": 3
   },
   "file_extension": ".py",
   "mimetype": "text/x-python",
   "name": "python",
   "nbconvert_exporter": "python",
   "pygments_lexer": "ipython3",
   "version": "3.8.8"
  }
 },
 "nbformat": 4,
 "nbformat_minor": 5
}
