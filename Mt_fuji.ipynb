{
  "nbformat": 4,
  "nbformat_minor": 0,
  "metadata": {
    "colab": {
      "name": "Mt fuji.ipynb",
      "provenance": [],
      "authorship_tag": "ABX9TyMnUK/10Dl7v8l+QWm4lUnB",
      "include_colab_link": true
    },
    "kernelspec": {
      "name": "python3",
      "display_name": "Python 3"
    }
  },
  "cells": [
    {
      "cell_type": "markdown",
      "metadata": {
        "id": "view-in-github",
        "colab_type": "text"
      },
      "source": [
        "<a href=\"https://colab.research.google.com/github/doc-city/diveintocode-ml/blob/main/Mt_fuji.ipynb\" target=\"_parent\"><img src=\"https://colab.research.google.com/assets/colab-badge.svg\" alt=\"Open In Colab\"/></a>"
      ]
    },
    {
      "cell_type": "markdown",
      "metadata": {
        "id": "gZNcUM_KbBW4"
      },
      "source": [
        "PROBLEM 1\r\n",
        "\r\n",
        "Minimum number of folds over Mt. Fuji"
      ]
    },
    {
      "cell_type": "code",
      "metadata": {
        "colab": {
          "base_uri": "https://localhost:8080/"
        },
        "id": "QqtTsEOOcaga",
        "outputId": "e31ab1a7-593a-473a-a0fe-5522037daec1"
      },
      "source": [
        "## using a while loop statement\r\n",
        "thickness = 0.00008\r\n",
        "fuji = 3776\r\n",
        "num = 0\r\n",
        "while True:\r\n",
        "  if thickness > fuji:\r\n",
        "    print(\"The number times a paper folds whem its thickness exceeds Mt. fuji is : {}\".format(num))\r\n",
        "    break\r\n",
        "  else:\r\n",
        "    thickness *= 2\r\n",
        "    num += 1"
      ],
      "execution_count": 6,
      "outputs": [
        {
          "output_type": "stream",
          "text": [
            "The number times a paper folds whem its thickness exceeds Mt. fuji is : 26\n"
          ],
          "name": "stdout"
        }
      ]
    },
    {
      "cell_type": "code",
      "metadata": {
        "colab": {
          "base_uri": "https://localhost:8080/"
        },
        "id": "LI36XJxpe_ZS",
        "outputId": "9454756e-32b1-4e0a-d993-064f287ea81b"
      },
      "source": [
        "## using the for loop statement\r\n",
        "thickness = 0.00008\r\n",
        "fuji = 3776\r\n",
        "for i in range(100):\r\n",
        "  folded_thickness = thickness *2**i\r\n",
        "  if folded_thickness > fuji:\r\n",
        "    print(\"The number of times a paper foldes when its exceeds Mt. Fuji : {}\", i)\r\n",
        "    break "
      ],
      "execution_count": 8,
      "outputs": [
        {
          "output_type": "stream",
          "text": [
            "The number of times a paper foldes when its exceeds Mt. Fuji : {} 26\n"
          ],
          "name": "stdout"
        }
      ]
    },
    {
      "cell_type": "markdown",
      "metadata": {
        "id": "IzhNFn9xkGMa"
      },
      "source": [
        "PROBLEM 2\r\n",
        "\r\n",
        "Creating a function corresponding to an arbitrary thickness"
      ]
    },
    {
      "cell_type": "code",
      "metadata": {
        "id": "U_s7Ig1xlJjE"
      },
      "source": [
        "def arbitrary_thickness(distance):\r\n",
        "    paper_thickness = 0.00008\r\n",
        "    num = 0\r\n",
        "    while paper_thickness <= distance:\r\n",
        "      paper_thickness *= 2\r\n",
        "      num += 1\r\n",
        "    return num"
      ],
      "execution_count": 46,
      "outputs": []
    },
    {
      "cell_type": "code",
      "metadata": {
        "colab": {
          "base_uri": "https://localhost:8080/"
        },
        "id": "BiCvFXKMuWQR",
        "outputId": "a443c4ca-a8ad-4521-eec8-e57d55b31352"
      },
      "source": [
        "## The number of times to bend a paper to reach Mt. Fuji\r\n",
        "arbitrary_thickness(fuji)"
      ],
      "execution_count": 47,
      "outputs": [
        {
          "output_type": "execute_result",
          "data": {
            "text/plain": [
              "26"
            ]
          },
          "metadata": {
            "tags": []
          },
          "execution_count": 47
        }
      ]
    },
    {
      "cell_type": "code",
      "metadata": {
        "colab": {
          "base_uri": "https://localhost:8080/"
        },
        "id": "FP-mxA3gu-8M",
        "outputId": "fad7a05d-cfd7-44cd-ac98-cb713db3bd12"
      },
      "source": [
        "## The number of times to bend a paper to reach proxima centauri, the closest non-sun star.\r\n",
        "arbitrary_thickness( 4.2465)"
      ],
      "execution_count": 48,
      "outputs": [
        {
          "output_type": "execute_result",
          "data": {
            "text/plain": [
              "16"
            ]
          },
          "metadata": {
            "tags": []
          },
          "execution_count": 48
        }
      ]
    },
    {
      "cell_type": "markdown",
      "metadata": {
        "id": "5BErYYWH3Kb3"
      },
      "source": [
        "PROBLEM 3\r\n",
        "\r\n",
        "Required paper length"
      ]
    },
    {
      "cell_type": "code",
      "metadata": {
        "id": "mf8p_6gs3Elb"
      },
      "source": [
        "import numpy as np\r\n",
        "def paper_length(distance):\r\n",
        "  t0 = 0.00008\r\n",
        "  n = arbitrary_thickness(distance)\r\n",
        "  L = (t0*np.pi) / 6 *(2**n + 4)*(2**n - 1)\r\n",
        "  return f\"The length of the paper necessary to reach a thickness of {distance}m is: {round(L):2e}m\""
      ],
      "execution_count": 53,
      "outputs": []
    },
    {
      "cell_type": "code",
      "metadata": {
        "colab": {
          "base_uri": "https://localhost:8080/",
          "height": 35
        },
        "id": "DUTU1W76-PLM",
        "outputId": "0f2d84e7-12fa-4e2b-826a-67504f379d1f"
      },
      "source": [
        "## Length of paper needed to reach Mt. Fuji\r\n",
        "paper_length(fuji)"
      ],
      "execution_count": 54,
      "outputs": [
        {
          "output_type": "execute_result",
          "data": {
            "application/vnd.google.colaboratory.intrinsic+json": {
              "type": "string"
            },
            "text/plain": [
              "'The length of the paper necessary to reach a thickness of 3776m is: 1.886463e+11m'"
            ]
          },
          "metadata": {
            "tags": []
          },
          "execution_count": 54
        }
      ]
    },
    {
      "cell_type": "code",
      "metadata": {
        "colab": {
          "base_uri": "https://localhost:8080/",
          "height": 35
        },
        "id": "kDmnimB8-TeJ",
        "outputId": "334baf5b-b983-4e64-8ca4-3dcd4d74fd8b"
      },
      "source": [
        "## Length of paper needed to reach alpha centauri, closest star to the sun\r\n",
        "\r\n",
        "paper_length( 4.243)"
      ],
      "execution_count": 56,
      "outputs": [
        {
          "output_type": "execute_result",
          "data": {
            "application/vnd.google.colaboratory.intrinsic+json": {
              "type": "string"
            },
            "text/plain": [
              "'The length of the paper necessary to reach a thickness of 4.243m is: 1.799150e+05m'"
            ]
          },
          "metadata": {
            "tags": []
          },
          "execution_count": 56
        }
      ]
    },
    {
      "cell_type": "code",
      "metadata": {
        "colab": {
          "base_uri": "https://localhost:8080/",
          "height": 35
        },
        "id": "7WgwGVIb-qVe",
        "outputId": "cb2238f9-ee06-4c62-b876-ed59aba8a2cb"
      },
      "source": [
        "## The length of paper needed to reach the moon\r\n",
        "paper_length(150000000 )"
      ],
      "execution_count": 59,
      "outputs": [
        {
          "output_type": "execute_result",
          "data": {
            "application/vnd.google.colaboratory.intrinsic+json": {
              "type": "string"
            },
            "text/plain": [
              "'The length of the paper necessary to reach a thickness of 150000000m is: 2.025575e+20m'"
            ]
          },
          "metadata": {
            "tags": []
          },
          "execution_count": 59
        }
      ]
    },
    {
      "cell_type": "code",
      "metadata": {
        "id": "z1EOAqIW__8D"
      },
      "source": [
        ""
      ],
      "execution_count": null,
      "outputs": []
    }
  ]
}