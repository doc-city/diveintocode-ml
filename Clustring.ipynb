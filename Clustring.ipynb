{
 "cells": [
  {
   "cell_type": "code",
   "execution_count": 52,
   "id": "f23d5a8d",
   "metadata": {},
   "outputs": [],
   "source": [
    "import numpy as np\n",
    "import pandas as pd\n",
    "import matplotlib.pyplot as plt\n",
    "import seaborn as sns\n",
    "%matplotlib inline\n",
    "from sklearn.datasets import make_blobs\n",
    "from sklearn.model_selection import train_test_split\n",
    "from sklearn.preprocessing import StandardScaler\n",
    "from sklearn.decomposition import PCA\n",
    "from sklearn.decomposition import PCA\n",
    "from sklearn.cluster import KMeans\n",
    "from matplotlib import cm\n",
    "from sklearn.metrics import silhouette_samples\n",
    "from sklearn.cluster import KMeans\n",
    "from sklearn.preprocessing import StandardScaler\n",
    "from sklearn.cluster import DBSCAN\n",
    "from sklearn.manifold import TSNE\n",
    "import warnings\n",
    "warnings.filterwarnings('ignore')"
   ]
  },
  {
   "cell_type": "markdown",
   "id": "76dab2af",
   "metadata": {},
   "source": [
    "# K-means Scratch"
   ]
  },
  {
   "cell_type": "code",
   "execution_count": 53,
   "id": "42191b5c",
   "metadata": {},
   "outputs": [],
   "source": [
    "class ScratchKMeans():\n",
    "    \"\"\"\n",
    "    K-means scratch implementation\n",
    "\n",
    "    Parameters\n",
    "    ----------\n",
    "    n_clusters : int\n",
    "      Number of clusters\n",
    "    n_init : int\n",
    "      How many times to change the initial value of the center point for calculation\n",
    "    max_iter : int\n",
    "      Maximum number of iterations in one calculation\n",
    "    tol : float\n",
    "      Margin of error between the center point and the center of gravity, which is the reference for ending the iteration\n",
    "    verbose : bool\n",
    "      True to output the learning process\n",
    "    \"\"\"\n",
    "    def __init__(self, n_clusters, n_init, max_iter, tol, verbose=False):\n",
    "        ## Record hyperparameters as attributes\n",
    "        self.n_clusters = n_clusters\n",
    "        self.n_init = n_init\n",
    "        self.max_iter = max_iter\n",
    "        self.tol = tol\n",
    "        self.verbose = verbose\n",
    "        \n",
    "        self.best_sse_score = None\n",
    "        self.best_center = None\n",
    "        \n",
    "    def fit(self, X):\n",
    "        \"\"\"\n",
    "       Calculate clustering by K-means\n",
    "        Parameters\n",
    "        ----------\n",
    "        X : The following form ndarray, shape (n_samples, n_features)\n",
    "           Features of training data\n",
    "        \"\"\"\n",
    "        \n",
    "        ## Set the number of samples\n",
    "        self.num_samples = len(X)\n",
    "        \n",
    "       ## Specified number of times Change the initial value and calculate\n",
    "        for i in range(self.n_init):\n",
    "            \n",
    "            ## Create the initial value of the center point according to the number of clusters\n",
    "            default_center_idx   = np.random.randint(0, self.num_samples, self.n_clusters)\n",
    "            self.center_clusters = np.array([X[i] for i in default_center_idx])\n",
    "            \n",
    "            ## Label initialization\n",
    "            ## self.labels = np.zeros(self.num_samples)\n",
    "            self.labels = np.random.randint(0, self.n_clusters, self.num_samples)\n",
    "\n",
    "            ## Update center point\n",
    "            for _ in range(self.max_iter):\n",
    "                new_center_clusters = np.array([np.average(X[self.labels == k], axis=0) \n",
    "                                                for k in range(self.n_clusters)])\n",
    "                \n",
    "               ## Reassign the center point to a random point if there are empty clusters\n",
    "                for n in range(self.n_clusters):\n",
    "                    if not np.any(new_center_clusters == n):\n",
    "                        self.center_clusters[n] = X[np.random.choice(X.shape[0], 1), :]\n",
    "\n",
    "                if np.allclose(self.center_clusters, new_center_clusters, atol=self.tol):\n",
    "                    break\n",
    "                \n",
    "                self.center_clusters = new_center_clusters\n",
    "                \n",
    "                dist = np.array([np.linalg.norm(X- self.center_clusters[k], axis=1)\n",
    "                                 for k in range(self.n_clusters)])\n",
    "            \n",
    "                self.labels = np.argmin(dist, axis=0)\n",
    "                \n",
    "\n",
    "            ## Calculate sse and update if it is the best score\n",
    "            new_sse_score = self._sum_squared_errors(X)\n",
    "            \n",
    "            if self.best_sse_score is None or self.best_sse_score > new_sse_score:\n",
    "                self.best_sse_score = new_sse_score\n",
    "                self.best_center = self.center_clusters\n",
    "        \n",
    "          ## Output the learning process when verbose is set to True\n",
    "            if self.verbose:\n",
    "                print(f\"iter{i}: sse score:\", self.best_sse_score)\n",
    "            \n",
    "    def predict(self, X):\n",
    "        \"\"\"\n",
    "        Calculate which cluster the entered data belongs to\n",
    "        \"\"\"\n",
    "        dist = np.array([np.linalg.norm(X - self.best_center[k], axis=1)\n",
    "                         for k in range(self.n_clusters)])\n",
    "        \n",
    "        pred = np.argmin(dist, axis=0)\n",
    "        \n",
    "        return pred\n",
    "    \n",
    "    def _sum_squared_errors(self, X):\n",
    "        \"\"\"\n",
    "        Calculate SSE\n",
    "        \"\"\"\n",
    "        sse = 0\n",
    "        for k in range(self.n_clusters):\n",
    "            diff = X[self.labels == k] - self.center_clusters[k]\n",
    "            sse += np.linalg.norm(diff)**2\n",
    "\n",
    "        return sse\n",
    "    \n",
    "    def _update_centers(self, X):\n",
    "        \"\"\"\n",
    "       Update center point\n",
    "        \"\"\"\n",
    "        new_center_clusters = np.array([np.average(X[self.labels == k], axis=0)\n",
    "                                         for k in range(self.n_clusters)])\n",
    "        \n",
    "        dist = np.array([np.linalg.norm(X- self.center_clusters[k], axis=1)\n",
    "                         for k in range(self.n_clusters)])\n",
    "        labels = np.argmin(dist, axis=0)\n",
    "        return labels"
   ]
  },
  {
   "cell_type": "code",
   "execution_count": 54,
   "id": "3ba4cf8c",
   "metadata": {},
   "outputs": [],
   "source": [
    "## Artificial dataset for clustering\n",
    "X, _ = make_blobs(n_samples=100, n_features=2, centers=4, cluster_std=0.5, shuffle=True, random_state=0)"
   ]
  },
  {
   "cell_type": "markdown",
   "id": "dd676676",
   "metadata": {},
   "source": [
    "# Problem 1\n",
    "## Determine the initial value of the center point"
   ]
  },
  {
   "cell_type": "code",
   "execution_count": 55,
   "id": "83e0be40",
   "metadata": {},
   "outputs": [
    {
     "data": {
      "text/plain": [
       "array([[1.00952869, 4.45502328],\n",
       "       [1.42002502, 1.38236201]])"
      ]
     },
     "execution_count": 55,
     "metadata": {},
     "output_type": "execute_result"
    }
   ],
   "source": [
    "n_clusters = 2\n",
    "\n",
    "default_center_idx = np.random.randint(0, len(X), n_clusters)\n",
    "center_clusters = np.array([X[i] for i in default_center_idx])\n",
    "center_clusters"
   ]
  },
  {
   "cell_type": "markdown",
   "id": "af8bd2db",
   "metadata": {},
   "source": [
    "# Problem 2 \n",
    "## Creation of a function to obtain SSE"
   ]
  },
  {
   "cell_type": "code",
   "execution_count": 56,
   "id": "530d9777",
   "metadata": {},
   "outputs": [],
   "source": [
    "def sum_squared_errors(X, labels, center_clusters):\n",
    "    num_cluster = len(center_clusters)\n",
    "    ## sse = np.array([np.linalg.norm(X[labels == k] - clusters_mu[k])**2 for k in range(num_cluster)]).sum()\n",
    "    sse = 0\n",
    "    for k in range(num_cluster):\n",
    "        norm = X[labels == k] - center_clusters[k]\n",
    "        sse += np.linalg.norm(norm)**2\n",
    "    return sse"
   ]
  },
  {
   "cell_type": "code",
   "execution_count": 57,
   "id": "a26c3ace",
   "metadata": {},
   "outputs": [
    {
     "name": "stdout",
     "output_type": "stream",
     "text": [
      "X [[ 1 10]\n",
      " [ 2  9]\n",
      " [ 3  8]\n",
      " [ 4  7]\n",
      " [ 5  6]\n",
      " [ 6  5]\n",
      " [ 7  4]\n",
      " [ 8  3]\n",
      " [ 9  2]\n",
      " [10  1]]\n",
      "labels [0 0 0 0 0 1 1 1 1 1]\n",
      "mu [[3 8]\n",
      " [8 3]]\n"
     ]
    }
   ],
   "source": [
    "x1 = np.arange(1, 11).reshape(-1, 1)\n",
    "x2 = np.arange(10, 0, -1).reshape(-1, 1)\n",
    "X_test = np.concatenate([x1, x2], axis=1)\n",
    "\n",
    "labels_test = np.array([0, 0, 0, 0, 0, 1, 1, 1, 1, 1])\n",
    "cluster_centers_test = np.array([[3, 8], [8, 3]]).reshape(-1, 2)\n",
    "\n",
    "print(\"X\", X_test)\n",
    "print(\"labels\", labels_test)\n",
    "print(\"mu\", cluster_centers_test)"
   ]
  },
  {
   "cell_type": "code",
   "execution_count": 58,
   "id": "e8dfc729",
   "metadata": {},
   "outputs": [
    {
     "data": {
      "text/plain": [
       "40.00000000000001"
      ]
     },
     "execution_count": 58,
     "metadata": {},
     "output_type": "execute_result"
    }
   ],
   "source": [
    "sum_squared_errors (X_test, labels_test, cluster_centers_test)"
   ]
  },
  {
   "cell_type": "markdown",
   "id": "a21de532",
   "metadata": {},
   "source": [
    "\n",
    "# Problem 7\n",
    "## Estimate"
   ]
  },
  {
   "cell_type": "code",
   "execution_count": 59,
   "id": "3e25adea",
   "metadata": {},
   "outputs": [
    {
     "data": {
      "image/png": "[encoded data removed]",
      "text/plain": [
       "<Figure size 432x432 with 1 Axes>"
      ]
     },
     "metadata": {
      "needs_background": "light"
     },
     "output_type": "display_data"
    },
    {
     "name": "stdout",
     "output_type": "stream",
     "text": [
      "predict: [0 1 1 3 0 2 2 0 2 3 2 3 1 0 3 2 1 1 3 0 2 0 3 0 0]\n"
     ]
    }
   ],
   "source": [
    "## Standardization\n",
    "sc = StandardScaler()\n",
    "X = sc.fit_transform(X)\n",
    "\n",
    "## Data partition\n",
    "X_train, X_test = train_test_split(X)\n",
    "\n",
    "#ハイパーパラメーター\n",
    "max_iter = 50\n",
    "n_init = 100\n",
    "tol = 0\n",
    "\n",
    "## Learning\n",
    "km = ScratchKMeans(n_clusters=4, max_iter=max_iter, n_init=n_init, tol=tol)\n",
    "km.fit(X_train)\n",
    "\n",
    "## Visualization\n",
    "df_train = pd.DataFrame(data=np.concatenate([X_train, km.labels.reshape(-1,1)], axis=1), columns=[\"x1\", \"x2\", \"label\"])\n",
    "g = sns.FacetGrid(data=df_train, hue=\"label\", height=6)\n",
    "g.map(plt.scatter, \"x1\", \"x2\")\n",
    "plt.legend()\n",
    "plt.scatter(km.best_center[:,0], km.best_center[:,1], marker=\"*\", c=\"black\", s=100)\n",
    "plt.show()\n",
    "\n",
    "## Forecast\n",
    "print(\"predict:\", km.predict(X_test))\n"
   ]
  },
  {
   "cell_type": "markdown",
   "id": "6d00e95e",
   "metadata": {},
   "source": [
    "# Problem 8\n",
    "## Implementation of Elbow Method"
   ]
  },
  {
   "cell_type": "code",
   "execution_count": 60,
   "id": "46d3ac96",
   "metadata": {},
   "outputs": [
    {
     "data": {
      "image/png": "[encoded data removed]",
      "text/plain": [
       "<Figure size 432x288 with 1 Axes>"
      ]
     },
     "metadata": {
      "needs_background": "light"
     },
     "output_type": "display_data"
    }
   ],
   "source": [
    "## Hyperparameters\n",
    "max_iter = 50\n",
    "n_init = 100\n",
    "tol = 0\n",
    "\n",
    "## initial value\n",
    "sse = []\n",
    "n_cluster = list(range(2, 11))\n",
    "\n",
    "for k in n_cluster:\n",
    "    km = ScratchKMeans(n_clusters=k, max_iter=max_iter, n_init=n_init, tol=tol)\n",
    "    km.fit(X)\n",
    "    sse.append(km.best_sse_score)\n",
    "\n",
    "plt.plot(n_cluster, sse, marker=\"o\")\n",
    "plt.xlabel(\"number of clusters\")\n",
    "plt.ylabel(\"SSE\")\n",
    "plt.title(\"Transition of SSE by number of clusters\")\n",
    "plt.show()\n"
   ]
  },
  {
   "cell_type": "markdown",
   "id": "b0131a47",
   "metadata": {},
   "source": [
    "# Problem 9 (Advance task) \n",
    "## Silhouette diagram"
   ]
  },
  {
   "cell_type": "code",
   "execution_count": 61,
   "id": "bc774fee",
   "metadata": {},
   "outputs": [
    {
     "data": {
      "text/html": [
       "<div>\n",
       "<style scoped>\n",
       "    .dataframe tbody tr th:only-of-type {\n",
       "        vertical-align: middle;\n",
       "    }\n",
       "\n",
       "    .dataframe tbody tr th {\n",
       "        vertical-align: top;\n",
       "    }\n",
       "\n",
       "    .dataframe thead th {\n",
       "        text-align: right;\n",
       "    }\n",
       "</style>\n",
       "<table border=\"1\" class=\"dataframe\">\n",
       "  <thead>\n",
       "    <tr style=\"text-align: right;\">\n",
       "      <th></th>\n",
       "      <th>Channel</th>\n",
       "      <th>Region</th>\n",
       "      <th>Fresh</th>\n",
       "      <th>Milk</th>\n",
       "      <th>Grocery</th>\n",
       "      <th>Frozen</th>\n",
       "      <th>Detergents_Paper</th>\n",
       "      <th>Delicassen</th>\n",
       "    </tr>\n",
       "  </thead>\n",
       "  <tbody>\n",
       "    <tr>\n",
       "      <th>0</th>\n",
       "      <td>2</td>\n",
       "      <td>3</td>\n",
       "      <td>12669</td>\n",
       "      <td>9656</td>\n",
       "      <td>7561</td>\n",
       "      <td>214</td>\n",
       "      <td>2674</td>\n",
       "      <td>1338</td>\n",
       "    </tr>\n",
       "    <tr>\n",
       "      <th>1</th>\n",
       "      <td>2</td>\n",
       "      <td>3</td>\n",
       "      <td>7057</td>\n",
       "      <td>9810</td>\n",
       "      <td>9568</td>\n",
       "      <td>1762</td>\n",
       "      <td>3293</td>\n",
       "      <td>1776</td>\n",
       "    </tr>\n",
       "    <tr>\n",
       "      <th>2</th>\n",
       "      <td>2</td>\n",
       "      <td>3</td>\n",
       "      <td>6353</td>\n",
       "      <td>8808</td>\n",
       "      <td>7684</td>\n",
       "      <td>2405</td>\n",
       "      <td>3516</td>\n",
       "      <td>7844</td>\n",
       "    </tr>\n",
       "    <tr>\n",
       "      <th>3</th>\n",
       "      <td>1</td>\n",
       "      <td>3</td>\n",
       "      <td>13265</td>\n",
       "      <td>1196</td>\n",
       "      <td>4221</td>\n",
       "      <td>6404</td>\n",
       "      <td>507</td>\n",
       "      <td>1788</td>\n",
       "    </tr>\n",
       "    <tr>\n",
       "      <th>4</th>\n",
       "      <td>2</td>\n",
       "      <td>3</td>\n",
       "      <td>22615</td>\n",
       "      <td>5410</td>\n",
       "      <td>7198</td>\n",
       "      <td>3915</td>\n",
       "      <td>1777</td>\n",
       "      <td>5185</td>\n",
       "    </tr>\n",
       "  </tbody>\n",
       "</table>\n",
       "</div>"
      ],
      "text/plain": [
       "   Channel  Region  Fresh  Milk  Grocery  Frozen  Detergents_Paper  Delicassen\n",
       "0        2       3  12669  9656     7561     214              2674        1338\n",
       "1        2       3   7057  9810     9568    1762              3293        1776\n",
       "2        2       3   6353  8808     7684    2405              3516        7844\n",
       "3        1       3  13265  1196     4221    6404               507        1788\n",
       "4        2       3  22615  5410     7198    3915              1777        5185"
      ]
     },
     "execution_count": 61,
     "metadata": {},
     "output_type": "execute_result"
    }
   ],
   "source": [
    "data_all = pd.read_csv(\"Wholesale customers data.csv\")\n",
    "data_all.head()"
   ]
  },
  {
   "cell_type": "code",
   "execution_count": 62,
   "id": "ff4cca55",
   "metadata": {},
   "outputs": [],
   "source": [
    "data = data_all.drop(columns=[\"Channel\", \"Region\"])"
   ]
  },
  {
   "cell_type": "code",
   "execution_count": 63,
   "id": "2ab6a1b6",
   "metadata": {},
   "outputs": [],
   "source": [
    "pca = PCA(n_components = 2)\n",
    "pca = pca.fit(data)\n",
    "data_pca = pca.transform(data)"
   ]
  },
  {
   "cell_type": "code",
   "execution_count": 64,
   "id": "7bed84b3",
   "metadata": {},
   "outputs": [
    {
     "name": "stdout",
     "output_type": "stream",
     "text": [
      "[0.45961362 0.86478588 0.93481597 0.97883941 0.99386152 1.        ]\n"
     ]
    },
    {
     "data": {
      "image/png": "[encoded data removed]",
      "text/plain": [
       "<Figure size 432x288 with 1 Axes>"
      ]
     },
     "metadata": {
      "needs_background": "light"
     },
     "output_type": "display_data"
    }
   ],
   "source": [
    "pca = PCA(n_components=None)\n",
    "pca = pca.fit(data)\n",
    "var_exp = pca.explained_variance_ratio_\n",
    "cum_var_exp = np.cumsum(var_exp)\n",
    "print(cum_var_exp)\n",
    "plt.bar(range(1,7), var_exp, alpha=0.5, align='center', label='individual explained variance')\n",
    "plt.step(range(1,7), cum_var_exp, where='mid', label='cumulative expalined variance')\n",
    "plt.ylabel('Explained variance ratio')\n",
    "plt.xlabel('Principal components')\n",
    "plt.hlines(0.7, 0, 6,  \"blue\", linestyles='dashed')\n",
    "plt.legend(loc='best')\n",
    "plt.grid()\n",
    "plt.show()\n"
   ]
  },
  {
   "cell_type": "markdown",
   "id": "6ab74da6",
   "metadata": {},
   "source": [
    "# Problem 10\n",
    "## Selection of the number of clusters k"
   ]
  },
  {
   "cell_type": "code",
   "execution_count": 65,
   "id": "c380184e",
   "metadata": {},
   "outputs": [
    {
     "data": {
      "image/png": "[encoded data removed]",
      "text/plain": [
       "<Figure size 432x288 with 1 Axes>"
      ]
     },
     "metadata": {
      "needs_background": "light"
     },
     "output_type": "display_data"
    }
   ],
   "source": [
    "distortions = []\n",
    "for i in range(1,12):\n",
    "    km = KMeans(n_clusters=i,\n",
    "                n_init=10,\n",
    "                max_iter=350,\n",
    "                random_state=0)\n",
    "    y_km = km.fit_predict(data_pca)\n",
    "    km.fit(data_pca)\n",
    "    distortions.append(km.inertia_)\n",
    "plt.plot(range(1, 12), distortions, marker='o')\n",
    "plt.xlabel('Number of clusters')\n",
    "plt.ylabel('Distortion')\n",
    "plt.tight_layout()\n",
    "plt.show()\n"
   ]
  },
  {
   "cell_type": "code",
   "execution_count": 66,
   "id": "4932f830",
   "metadata": {},
   "outputs": [
    {
     "data": {
      "image/png": "[encoded data removed]",
      "text/plain": [
       "<Figure size 432x288 with 1 Axes>"
      ]
     },
     "metadata": {
      "needs_background": "light"
     },
     "output_type": "display_data"
    }
   ],
   "source": [
    "km = KMeans(n_clusters=3, \n",
    "            init='k-means++', \n",
    "            n_init=10, \n",
    "            max_iter=350,\n",
    "            tol=1e-04,\n",
    "            random_state=0)\n",
    "y_km = km.fit_predict(data_pca)\n",
    "\n",
    "cluster_labels = np.unique(y_km)\n",
    "n_clusters = cluster_labels.shape[0]\n",
    "silhouette_vals = silhouette_samples(data_pca, y_km, metric='euclidean')\n",
    "y_ax_lower, y_ax_upper = 0, 0\n",
    "yticks = []\n",
    "for i, c in enumerate(cluster_labels):\n",
    "    c_silhouette_vals = silhouette_vals[y_km == c]\n",
    "    c_silhouette_vals.sort()\n",
    "    y_ax_upper += len(c_silhouette_vals)\n",
    "    color = cm.jet(float(i) / n_clusters)\n",
    "    plt.barh(range(y_ax_lower, y_ax_upper), c_silhouette_vals, height=1.0, \n",
    "             edgecolor='none', color=color)\n",
    "\n",
    "    yticks.append((y_ax_lower + y_ax_upper) / 2.)\n",
    "    y_ax_lower += len(c_silhouette_vals)\n",
    "\n",
    "silhouette_avg = np.mean(silhouette_vals)\n",
    "plt.axvline(silhouette_avg, color=\"red\", linestyle=\"--\")\n",
    "\n",
    "plt.yticks(yticks, cluster_labels + 1)\n",
    "plt.ylabel('Cluster')\n",
    "plt.xlabel('Silhouette coefficient')\n",
    "plt.tight_layout()\n",
    "plt.show()\n"
   ]
  },
  {
   "cell_type": "markdown",
   "id": "a11aad3d",
   "metadata": {},
   "source": [
    "# Problem 11 \n",
    "## Comparison with known groups"
   ]
  },
  {
   "cell_type": "code",
   "execution_count": 67,
   "id": "89422b4c",
   "metadata": {},
   "outputs": [
    {
     "data": {
      "text/html": [
       "<div>\n",
       "<style scoped>\n",
       "    .dataframe tbody tr th:only-of-type {\n",
       "        vertical-align: middle;\n",
       "    }\n",
       "\n",
       "    .dataframe tbody tr th {\n",
       "        vertical-align: top;\n",
       "    }\n",
       "\n",
       "    .dataframe thead th {\n",
       "        text-align: right;\n",
       "    }\n",
       "</style>\n",
       "<table border=\"1\" class=\"dataframe\">\n",
       "  <thead>\n",
       "    <tr style=\"text-align: right;\">\n",
       "      <th></th>\n",
       "      <th>Channel</th>\n",
       "      <th>Region</th>\n",
       "      <th>x1</th>\n",
       "      <th>x2</th>\n",
       "      <th>cluster</th>\n",
       "    </tr>\n",
       "  </thead>\n",
       "  <tbody>\n",
       "    <tr>\n",
       "      <th>0</th>\n",
       "      <td>2.0</td>\n",
       "      <td>3.0</td>\n",
       "      <td>650.02</td>\n",
       "      <td>1585.52</td>\n",
       "      <td>1.0</td>\n",
       "    </tr>\n",
       "    <tr>\n",
       "      <th>1</th>\n",
       "      <td>2.0</td>\n",
       "      <td>3.0</td>\n",
       "      <td>-4426.80</td>\n",
       "      <td>4042.45</td>\n",
       "      <td>1.0</td>\n",
       "    </tr>\n",
       "    <tr>\n",
       "      <th>2</th>\n",
       "      <td>2.0</td>\n",
       "      <td>3.0</td>\n",
       "      <td>-4842.00</td>\n",
       "      <td>2578.76</td>\n",
       "      <td>1.0</td>\n",
       "    </tr>\n",
       "    <tr>\n",
       "      <th>3</th>\n",
       "      <td>1.0</td>\n",
       "      <td>3.0</td>\n",
       "      <td>990.35</td>\n",
       "      <td>-6279.81</td>\n",
       "      <td>1.0</td>\n",
       "    </tr>\n",
       "    <tr>\n",
       "      <th>4</th>\n",
       "      <td>2.0</td>\n",
       "      <td>3.0</td>\n",
       "      <td>10658.00</td>\n",
       "      <td>-2159.73</td>\n",
       "      <td>2.0</td>\n",
       "    </tr>\n",
       "  </tbody>\n",
       "</table>\n",
       "</div>"
      ],
      "text/plain": [
       "   Channel  Region        x1       x2  cluster\n",
       "0      2.0     3.0    650.02  1585.52      1.0\n",
       "1      2.0     3.0  -4426.80  4042.45      1.0\n",
       "2      2.0     3.0  -4842.00  2578.76      1.0\n",
       "3      1.0     3.0    990.35 -6279.81      1.0\n",
       "4      2.0     3.0  10658.00 -2159.73      2.0"
      ]
     },
     "execution_count": 67,
     "metadata": {},
     "output_type": "execute_result"
    }
   ],
   "source": [
    "## Collect data into one\n",
    "df_pca = pd.DataFrame(np.concatenate([data_all[[\"Channel\",\"Region\"]] ,data_pca, y_km[:, np.newaxis]], axis=1),\n",
    "                      columns=[\"Channel\", \"Region\", \"x1\", \"x2\", \"cluster\"])\n",
    "df_pca.head()"
   ]
  },
  {
   "cell_type": "code",
   "execution_count": 68,
   "id": "d4ea996b",
   "metadata": {},
   "outputs": [
    {
     "data": {
      "image/png": "[encoded data removed]",
      "text/plain": [
       "<Figure size 216x216 with 1 Axes>"
      ]
     },
     "metadata": {
      "needs_background": "light"
     },
     "output_type": "display_data"
    }
   ],
   "source": [
    "## Visualize clusters\n",
    "g = sns.FacetGrid(df_pca, hue=\"cluster\")\n",
    "g.map(plt.scatter, \"x1\", \"x2\")\n",
    "plt.legend()\n",
    "plt.show()"
   ]
  },
  {
   "cell_type": "code",
   "execution_count": 69,
   "id": "aef99175",
   "metadata": {},
   "outputs": [
    {
     "data": {
      "image/png": "[encoded data removed]",
      "text/plain": [
       "<Figure size 216x216 with 1 Axes>"
      ]
     },
     "metadata": {
      "needs_background": "light"
     },
     "output_type": "display_data"
    }
   ],
   "source": [
    "## Visualize the distribution of Channel\n",
    "g = sns.FacetGrid(df_pca, hue=\"Channel\")\n",
    "g.map(plt.scatter, \"x1\", \"x2\")\n",
    "plt.legend()\n",
    "plt.show()"
   ]
  },
  {
   "cell_type": "code",
   "execution_count": 70,
   "id": "757b41b2",
   "metadata": {},
   "outputs": [
    {
     "data": {
      "image/png": "[encoded data removed]",
      "text/plain": [
       "<Figure size 216x216 with 1 Axes>"
      ]
     },
     "metadata": {
      "needs_background": "light"
     },
     "output_type": "display_data"
    }
   ],
   "source": [
    "## Visualize the distribution of Region\n",
    "g = sns.FacetGrid(df_pca, hue=\"Region\")\n",
    "g.map(plt.scatter, \"x1\", \"x2\")\n",
    "plt.legend()\n",
    "plt.show()"
   ]
  },
  {
   "cell_type": "markdown",
   "id": "fafbb140",
   "metadata": {},
   "source": [
    "# Problem 12 \n",
    "## Useful information for wholesalers"
   ]
  },
  {
   "cell_type": "code",
   "execution_count": 71,
   "id": "14bd905d",
   "metadata": {},
   "outputs": [],
   "source": [
    " ## Add column for total sales\n",
    "data_all[\"Total_Sales\"] = data_all[['Fresh', 'Milk', 'Grocery', 'Frozen',\n",
    "       'Detergents_Paper', 'Delicassen']].sum(axis=1)"
   ]
  },
  {
   "cell_type": "code",
   "execution_count": 72,
   "id": "df653338",
   "metadata": {},
   "outputs": [
    {
     "data": {
      "text/html": [
       "<div>\n",
       "<style scoped>\n",
       "    .dataframe tbody tr th:only-of-type {\n",
       "        vertical-align: middle;\n",
       "    }\n",
       "\n",
       "    .dataframe tbody tr th {\n",
       "        vertical-align: top;\n",
       "    }\n",
       "\n",
       "    .dataframe thead th {\n",
       "        text-align: right;\n",
       "    }\n",
       "</style>\n",
       "<table border=\"1\" class=\"dataframe\">\n",
       "  <thead>\n",
       "    <tr style=\"text-align: right;\">\n",
       "      <th></th>\n",
       "      <th>Channel</th>\n",
       "      <th>Region</th>\n",
       "      <th>Fresh</th>\n",
       "      <th>Milk</th>\n",
       "      <th>Grocery</th>\n",
       "      <th>Frozen</th>\n",
       "      <th>Detergents_Paper</th>\n",
       "      <th>Delicassen</th>\n",
       "      <th>Total_Sales</th>\n",
       "    </tr>\n",
       "  </thead>\n",
       "  <tbody>\n",
       "    <tr>\n",
       "      <th>count</th>\n",
       "      <td>440.00</td>\n",
       "      <td>440.00</td>\n",
       "      <td>440.00</td>\n",
       "      <td>440.00</td>\n",
       "      <td>440.00</td>\n",
       "      <td>440.00</td>\n",
       "      <td>440.00</td>\n",
       "      <td>440.00</td>\n",
       "      <td>440.00</td>\n",
       "    </tr>\n",
       "    <tr>\n",
       "      <th>mean</th>\n",
       "      <td>1.32</td>\n",
       "      <td>2.54</td>\n",
       "      <td>12000.30</td>\n",
       "      <td>5796.27</td>\n",
       "      <td>7951.28</td>\n",
       "      <td>3071.93</td>\n",
       "      <td>2881.49</td>\n",
       "      <td>1524.87</td>\n",
       "      <td>33226.14</td>\n",
       "    </tr>\n",
       "    <tr>\n",
       "      <th>std</th>\n",
       "      <td>0.47</td>\n",
       "      <td>0.77</td>\n",
       "      <td>12647.33</td>\n",
       "      <td>7380.38</td>\n",
       "      <td>9503.16</td>\n",
       "      <td>4854.67</td>\n",
       "      <td>4767.85</td>\n",
       "      <td>2820.11</td>\n",
       "      <td>26356.30</td>\n",
       "    </tr>\n",
       "    <tr>\n",
       "      <th>min</th>\n",
       "      <td>1.00</td>\n",
       "      <td>1.00</td>\n",
       "      <td>3.00</td>\n",
       "      <td>55.00</td>\n",
       "      <td>3.00</td>\n",
       "      <td>25.00</td>\n",
       "      <td>3.00</td>\n",
       "      <td>3.00</td>\n",
       "      <td>904.00</td>\n",
       "    </tr>\n",
       "    <tr>\n",
       "      <th>25%</th>\n",
       "      <td>1.00</td>\n",
       "      <td>2.00</td>\n",
       "      <td>3127.75</td>\n",
       "      <td>1533.00</td>\n",
       "      <td>2153.00</td>\n",
       "      <td>742.25</td>\n",
       "      <td>256.75</td>\n",
       "      <td>408.25</td>\n",
       "      <td>17448.75</td>\n",
       "    </tr>\n",
       "    <tr>\n",
       "      <th>50%</th>\n",
       "      <td>1.00</td>\n",
       "      <td>3.00</td>\n",
       "      <td>8504.00</td>\n",
       "      <td>3627.00</td>\n",
       "      <td>4755.50</td>\n",
       "      <td>1526.00</td>\n",
       "      <td>816.50</td>\n",
       "      <td>965.50</td>\n",
       "      <td>27492.00</td>\n",
       "    </tr>\n",
       "    <tr>\n",
       "      <th>75%</th>\n",
       "      <td>2.00</td>\n",
       "      <td>3.00</td>\n",
       "      <td>16933.75</td>\n",
       "      <td>7190.25</td>\n",
       "      <td>10655.75</td>\n",
       "      <td>3554.25</td>\n",
       "      <td>3922.00</td>\n",
       "      <td>1820.25</td>\n",
       "      <td>41307.50</td>\n",
       "    </tr>\n",
       "    <tr>\n",
       "      <th>max</th>\n",
       "      <td>2.00</td>\n",
       "      <td>3.00</td>\n",
       "      <td>112151.00</td>\n",
       "      <td>73498.00</td>\n",
       "      <td>92780.00</td>\n",
       "      <td>60869.00</td>\n",
       "      <td>40827.00</td>\n",
       "      <td>47943.00</td>\n",
       "      <td>199891.00</td>\n",
       "    </tr>\n",
       "  </tbody>\n",
       "</table>\n",
       "</div>"
      ],
      "text/plain": [
       "       Channel  Region      Fresh      Milk   Grocery    Frozen  \\\n",
       "count   440.00  440.00     440.00    440.00    440.00    440.00   \n",
       "mean      1.32    2.54   12000.30   5796.27   7951.28   3071.93   \n",
       "std       0.47    0.77   12647.33   7380.38   9503.16   4854.67   \n",
       "min       1.00    1.00       3.00     55.00      3.00     25.00   \n",
       "25%       1.00    2.00    3127.75   1533.00   2153.00    742.25   \n",
       "50%       1.00    3.00    8504.00   3627.00   4755.50   1526.00   \n",
       "75%       2.00    3.00   16933.75   7190.25  10655.75   3554.25   \n",
       "max       2.00    3.00  112151.00  73498.00  92780.00  60869.00   \n",
       "\n",
       "       Detergents_Paper  Delicassen  Total_Sales  \n",
       "count            440.00      440.00       440.00  \n",
       "mean            2881.49     1524.87     33226.14  \n",
       "std             4767.85     2820.11     26356.30  \n",
       "min                3.00        3.00       904.00  \n",
       "25%              256.75      408.25     17448.75  \n",
       "50%              816.50      965.50     27492.00  \n",
       "75%             3922.00     1820.25     41307.50  \n",
       "max            40827.00    47943.00    199891.00  "
      ]
     },
     "execution_count": 72,
     "metadata": {},
     "output_type": "execute_result"
    }
   ],
   "source": [
    "data_all.describe()"
   ]
  },
  {
   "cell_type": "markdown",
   "id": "decba775",
   "metadata": {},
   "source": [
    "What you can see from the basic statistics\n",
    "\n",
    ". More than half of the sales channels are for vendors such as Horeca (restaurants, cafes, hotels).\n",
    "\n",
    ". Region accounts for more than half of data from regions other than Lisbon and Porto.\n",
    "\n",
    ". Since there is a large discrepancy between the average value and the maximum value for each product for sale, it is expected that there are some large transactions and the distribution is biased to the left.\n",
    "\n",
    ". Fresh food ＞ Food ＞ Frozen food ＞ Dairy products ＞ Side dishes ＞ Sanitary goods sales order.\n",
    "\n",
    ". Since the accumulated sales of each product and the minimum value of the total sales are different, many customers make large transactions for a specific product."
   ]
  },
  {
   "cell_type": "code",
   "execution_count": 73,
   "id": "7e56a789",
   "metadata": {},
   "outputs": [
    {
     "data": {
      "image/png": "[encoded data removed]",
      "text/plain": [
       "<Figure size 720x288 with 2 Axes>"
      ]
     },
     "metadata": {
      "needs_background": "light"
     },
     "output_type": "display_data"
    }
   ],
   "source": [
    "fig, axes = plt.subplots(1, 2, figsize=(10,4))\n",
    "sns.countplot(x=\"Channel\", data=data_all, ax=axes[0])\n",
    "sns.countplot(x=\"Region\", data=data_all, ax=axes[1])\n",
    "axes[0].set_title(\"number of Channel\")\n",
    "axes[1].set_title(\"number of Region\")\n",
    "plt.show()"
   ]
  },
  {
   "cell_type": "markdown",
   "id": "d2b38a24",
   "metadata": {},
   "source": [
    "# Analysis 1 \n",
    "## Survey of total sales by region and sales channel"
   ]
  },
  {
   "cell_type": "code",
   "execution_count": 74,
   "id": "a297fee6",
   "metadata": {},
   "outputs": [
    {
     "data": {
      "image/png": "[encoded data removed]",
      "text/plain": [
       "<Figure size 648x216 with 3 Axes>"
      ]
     },
     "metadata": {
      "needs_background": "light"
     },
     "output_type": "display_data"
    }
   ],
   "source": [
    "g = sns.FacetGrid(data_all, hue=\"Channel\", col=\"Region\" )\n",
    "g.map(sns.distplot,\"Total_Sales\")\n",
    "plt.legend()\n",
    "plt.show()"
   ]
  },
  {
   "cell_type": "markdown",
   "id": "48e8b3cc",
   "metadata": {},
   "source": [
    ". The city of Porto has a high sales ratio of Holeka. Other areas are about the same.\n",
    "\n",
    ". Retailers tend to have higher sales channels in all regions."
   ]
  },
  {
   "cell_type": "markdown",
   "id": "e8f627b0",
   "metadata": {},
   "source": [
    "# Analysis 2 \n",
    "## Sales by region / product"
   ]
  },
  {
   "cell_type": "code",
   "execution_count": 75,
   "id": "243b53c3",
   "metadata": {},
   "outputs": [
    {
     "data": {
      "image/png": "[encoded data removed]",
      "text/plain": [
       "<Figure size 864x576 with 6 Axes>"
      ]
     },
     "metadata": {
      "needs_background": "light"
     },
     "output_type": "display_data"
    }
   ],
   "source": [
    "col = [\"Fresh\", \"Milk\", \"Grocery\" ,\"Frozen\", \"Detergents_Paper\", \"Delicassen\"]\n",
    "\n",
    "fig, axes = plt.subplots(2, 3, figsize=(12,8))\n",
    "\n",
    "for i, c in enumerate(col):\n",
    "    sns.boxplot(x=\"Region\", y=c, data=data_all, ax=axes[int(i/3), i%3])\n",
    "    \n",
    "plt.tight_layout()\n",
    "plt.show()"
   ]
  },
  {
   "cell_type": "markdown",
   "id": "02dd3703",
   "metadata": {},
   "source": [
    "・ There is almost no difference in sales for each product by region."
   ]
  },
  {
   "cell_type": "markdown",
   "id": "fcda7cf4",
   "metadata": {},
   "source": [
    "# Analysis 3\n",
    "## Sales by sales channel / product"
   ]
  },
  {
   "cell_type": "code",
   "execution_count": 76,
   "id": "c198e4a2",
   "metadata": {},
   "outputs": [
    {
     "data": {
      "image/png": "[encoded data removed]",
      "text/plain": [
       "<Figure size 864x576 with 6 Axes>"
      ]
     },
     "metadata": {
      "needs_background": "light"
     },
     "output_type": "display_data"
    }
   ],
   "source": [
    "col = [\"Fresh\", \"Milk\", \"Grocery\" ,\"Frozen\", \"Detergents_Paper\", \"Delicassen\"]\n",
    "\n",
    "fig, axes = plt.subplots(2, 3, figsize=(12,8))\n",
    "\n",
    "for i, c in enumerate(col):\n",
    "    sns.boxplot(x=\"Channel\", y=c, data=data_all, ax=axes[int(i/3), i%3])\n",
    "    \n",
    "plt.tight_layout()\n",
    "plt.show()"
   ]
  },
  {
   "cell_type": "markdown",
   "id": "c114bf29",
   "metadata": {},
   "source": [
    ". Dairy products, grocery products, hygiene products, etc. have high sales to retail stores\n",
    "\n",
    ". Holeka has higher sales of fresh and frozen foods"
   ]
  },
  {
   "cell_type": "markdown",
   "id": "76b1ab30",
   "metadata": {},
   "source": [
    "# Analysis 4 \n",
    "## Cluster analysis"
   ]
  },
  {
   "cell_type": "code",
   "execution_count": 77,
   "id": "ce222ae8",
   "metadata": {},
   "outputs": [
    {
     "data": {
      "image/png": "[encoded data removed]",
      "text/plain": [
       "<Figure size 432x288 with 1 Axes>"
      ]
     },
     "metadata": {
      "needs_background": "light"
     },
     "output_type": "display_data"
    }
   ],
   "source": [
    "data_c = data_all.copy()\n",
    "\n",
    "num_cols = ['Fresh', 'Milk', 'Grocery', 'Frozen','Detergents_Paper', 'Delicassen']\n",
    "\n",
    "## Standardization\n",
    "sc = StandardScaler()\n",
    "data_c[num_cols] = sc.fit_transform(data_c[num_cols])\n",
    "\n",
    "## Clustering\n",
    "objective_vals = []\n",
    "K = range(1, 12)\n",
    "for k in range(1, 12):\n",
    "    km = KMeans(n_clusters=k, n_init=30, max_iter=200, tol=1e-4, random_state=0)\n",
    "    km = km.fit(data_c)\n",
    "    objective_vals.append(km.inertia_)\n",
    "\n",
    "plt.plot(K, objective_vals, marker=\"o\")\n",
    "plt.xlabel(\"K\")\n",
    "plt.ylabel(\"SSE\")\n",
    "plt.show()"
   ]
  },
  {
   "cell_type": "markdown",
   "id": "82b80b91",
   "metadata": {},
   "source": [
    "K = 3 seems appropriate"
   ]
  },
  {
   "cell_type": "code",
   "execution_count": 78,
   "id": "9bf2f1df",
   "metadata": {},
   "outputs": [
    {
     "data": {
      "text/html": [
       "<div>\n",
       "<style scoped>\n",
       "    .dataframe tbody tr th:only-of-type {\n",
       "        vertical-align: middle;\n",
       "    }\n",
       "\n",
       "    .dataframe tbody tr th {\n",
       "        vertical-align: top;\n",
       "    }\n",
       "\n",
       "    .dataframe thead th {\n",
       "        text-align: right;\n",
       "    }\n",
       "</style>\n",
       "<table border=\"1\" class=\"dataframe\">\n",
       "  <thead>\n",
       "    <tr style=\"text-align: right;\">\n",
       "      <th></th>\n",
       "      <th>Channel</th>\n",
       "      <th>Region</th>\n",
       "      <th>Fresh</th>\n",
       "      <th>Milk</th>\n",
       "      <th>Grocery</th>\n",
       "      <th>Frozen</th>\n",
       "      <th>Detergents_Paper</th>\n",
       "      <th>Delicassen</th>\n",
       "      <th>Total_Sales</th>\n",
       "      <th>cluster</th>\n",
       "    </tr>\n",
       "  </thead>\n",
       "  <tbody>\n",
       "    <tr>\n",
       "      <th>0</th>\n",
       "      <td>2</td>\n",
       "      <td>3</td>\n",
       "      <td>12669</td>\n",
       "      <td>9656</td>\n",
       "      <td>7561</td>\n",
       "      <td>214</td>\n",
       "      <td>2674</td>\n",
       "      <td>1338</td>\n",
       "      <td>34112</td>\n",
       "      <td>0</td>\n",
       "    </tr>\n",
       "    <tr>\n",
       "      <th>1</th>\n",
       "      <td>2</td>\n",
       "      <td>3</td>\n",
       "      <td>7057</td>\n",
       "      <td>9810</td>\n",
       "      <td>9568</td>\n",
       "      <td>1762</td>\n",
       "      <td>3293</td>\n",
       "      <td>1776</td>\n",
       "      <td>33266</td>\n",
       "      <td>0</td>\n",
       "    </tr>\n",
       "    <tr>\n",
       "      <th>2</th>\n",
       "      <td>2</td>\n",
       "      <td>3</td>\n",
       "      <td>6353</td>\n",
       "      <td>8808</td>\n",
       "      <td>7684</td>\n",
       "      <td>2405</td>\n",
       "      <td>3516</td>\n",
       "      <td>7844</td>\n",
       "      <td>36610</td>\n",
       "      <td>0</td>\n",
       "    </tr>\n",
       "    <tr>\n",
       "      <th>3</th>\n",
       "      <td>1</td>\n",
       "      <td>3</td>\n",
       "      <td>13265</td>\n",
       "      <td>1196</td>\n",
       "      <td>4221</td>\n",
       "      <td>6404</td>\n",
       "      <td>507</td>\n",
       "      <td>1788</td>\n",
       "      <td>27381</td>\n",
       "      <td>0</td>\n",
       "    </tr>\n",
       "    <tr>\n",
       "      <th>4</th>\n",
       "      <td>2</td>\n",
       "      <td>3</td>\n",
       "      <td>22615</td>\n",
       "      <td>5410</td>\n",
       "      <td>7198</td>\n",
       "      <td>3915</td>\n",
       "      <td>1777</td>\n",
       "      <td>5185</td>\n",
       "      <td>46100</td>\n",
       "      <td>2</td>\n",
       "    </tr>\n",
       "  </tbody>\n",
       "</table>\n",
       "</div>"
      ],
      "text/plain": [
       "   Channel  Region  Fresh  Milk  Grocery  Frozen  Detergents_Paper  \\\n",
       "0        2       3  12669  9656     7561     214              2674   \n",
       "1        2       3   7057  9810     9568    1762              3293   \n",
       "2        2       3   6353  8808     7684    2405              3516   \n",
       "3        1       3  13265  1196     4221    6404               507   \n",
       "4        2       3  22615  5410     7198    3915              1777   \n",
       "\n",
       "   Delicassen  Total_Sales  cluster  \n",
       "0        1338        34112        0  \n",
       "1        1776        33266        0  \n",
       "2        7844        36610        0  \n",
       "3        1788        27381        0  \n",
       "4        5185        46100        2  "
      ]
     },
     "execution_count": 78,
     "metadata": {},
     "output_type": "execute_result"
    }
   ],
   "source": [
    "pred = KMeans(n_clusters=3, n_init=50, max_iter=200, tol=1e-4, random_state=0).fit_predict(data_c)\n",
    "data_all[\"cluster\"] = pred\n",
    "data_all.head()"
   ]
  },
  {
   "cell_type": "code",
   "execution_count": 79,
   "id": "4bad28d3",
   "metadata": {},
   "outputs": [
    {
     "data": {
      "image/png": "[encoded data removed]",
      "text/plain": [
       "<Figure size 1152x288 with 3 Axes>"
      ]
     },
     "metadata": {
      "needs_background": "light"
     },
     "output_type": "display_data"
    }
   ],
   "source": [
    "fig, axes = plt.subplots(1,3, figsize=(16,4))\n",
    "\n",
    "data_all.groupby([\"cluster\"]).mean().drop(columns=[\"Channel\", \"Region\", \"Total_Sales\"]).plot.bar(ax=axes[0], legend=True)\n",
    "data_all.groupby([\"Region\"]).mean().drop(columns=[\"Channel\", \"cluster\", \"Total_Sales\"]).plot.bar(ax=axes[1], legend=False)\n",
    "data_all.groupby([\"Channel\"]).mean().drop(columns=[\"Region\", \"cluster\", \"Total_Sales\"]).plot.bar(ax=axes[2], legend=False)\n",
    "axes[0].legend(loc=\"upper left\")\n",
    "axes[0].set_title(\"Sales by cluster\")\n",
    "axes[1].set_title(\"Sales by Region\")\n",
    "axes[2].set_title(\"Sales by Channel\")\n",
    "plt.show()"
   ]
  },
  {
   "cell_type": "markdown",
   "id": "24501188",
   "metadata": {},
   "source": [
    "From the above figure, it can be expected that the cluster grouped customers according to the sales scale (0: small scale, 2: medium scale, 1: large scale).\n",
    "\n",
    "Finally, let's check the sales composition of each cluster"
   ]
  },
  {
   "cell_type": "code",
   "execution_count": 80,
   "id": "564ca620",
   "metadata": {},
   "outputs": [
    {
     "data": {
      "text/html": [
       "<div>\n",
       "<style scoped>\n",
       "    .dataframe tbody tr th:only-of-type {\n",
       "        vertical-align: middle;\n",
       "    }\n",
       "\n",
       "    .dataframe tbody tr th {\n",
       "        vertical-align: top;\n",
       "    }\n",
       "\n",
       "    .dataframe thead th {\n",
       "        text-align: right;\n",
       "    }\n",
       "</style>\n",
       "<table border=\"1\" class=\"dataframe\">\n",
       "  <thead>\n",
       "    <tr style=\"text-align: right;\">\n",
       "      <th></th>\n",
       "      <th>Fresh</th>\n",
       "      <th>Milk</th>\n",
       "      <th>Grocery</th>\n",
       "      <th>Frozen</th>\n",
       "      <th>Detergents_Paper</th>\n",
       "      <th>Delicassen</th>\n",
       "    </tr>\n",
       "    <tr>\n",
       "      <th>cluster</th>\n",
       "      <th></th>\n",
       "      <th></th>\n",
       "      <th></th>\n",
       "      <th></th>\n",
       "      <th></th>\n",
       "      <th></th>\n",
       "    </tr>\n",
       "  </thead>\n",
       "  <tbody>\n",
       "    <tr>\n",
       "      <th>0</th>\n",
       "      <td>0.38</td>\n",
       "      <td>0.16</td>\n",
       "      <td>0.22</td>\n",
       "      <td>0.11</td>\n",
       "      <td>0.07</td>\n",
       "      <td>0.05</td>\n",
       "    </tr>\n",
       "    <tr>\n",
       "      <th>1</th>\n",
       "      <td>0.26</td>\n",
       "      <td>0.23</td>\n",
       "      <td>0.26</td>\n",
       "      <td>0.09</td>\n",
       "      <td>0.11</td>\n",
       "      <td>0.06</td>\n",
       "    </tr>\n",
       "    <tr>\n",
       "      <th>2</th>\n",
       "      <td>0.37</td>\n",
       "      <td>0.17</td>\n",
       "      <td>0.25</td>\n",
       "      <td>0.07</td>\n",
       "      <td>0.10</td>\n",
       "      <td>0.04</td>\n",
       "    </tr>\n",
       "  </tbody>\n",
       "</table>\n",
       "</div>"
      ],
      "text/plain": [
       "         Fresh  Milk  Grocery  Frozen  Detergents_Paper  Delicassen\n",
       "cluster                                                            \n",
       "0         0.38  0.16     0.22    0.11              0.07        0.05\n",
       "1         0.26  0.23     0.26    0.09              0.11        0.06\n",
       "2         0.37  0.17     0.25    0.07              0.10        0.04"
      ]
     },
     "execution_count": 80,
     "metadata": {},
     "output_type": "execute_result"
    }
   ],
   "source": [
    "pd.set_option('precision', 2)\n",
    "\n",
    "sales_ratio = data_all.groupby(\"cluster\").sum()[num_cols].apply(lambda x:x / data_all.groupby(\"cluster\").sum()[\"Total_Sales\"])\n",
    "sales_ratio"
   ]
  },
  {
   "cell_type": "markdown",
   "id": "665c75bd",
   "metadata": {},
   "source": [
    "# Problem 13 (Advance task) \n",
    "## Investigation of other methods"
   ]
  },
  {
   "cell_type": "markdown",
   "id": "9c8f1d26",
   "metadata": {},
   "source": [
    "In addition to K-means dealt with this time, DBSCAN is a well-known method for non-hierarchical clustering.\n",
    "\n",
    "In addition to PCA, t-SNE and LLE are well-known methods for dimensionality reduction.\n",
    "\n",
    "\n",
    "What is DBSCAN\n",
    "DBSCAN (Density-based spatial clustering of applications with noise) is a density-based clustering algorithm proposed by Martin Ester, Hans-Peter Kriegel, Jörg Sander and Xiaowei Xu in 1996. The area is judged as a cluster based on how many points are within the radius. As long as the density of the neighborhood exceeds a certain threshold, the cluster will continue to grow. Points that are not close within a radius are noise.\n",
    "\n",
    "Advantages\n",
    "\n",
    "Unlike k-means, you can create a cluster without first deciding the number of clusters.\n",
    "You can even classify sharp clusters. It does not assume that the cluster is spherical.\n",
    "Determine the cluster by the density of the neighborhood.\n",
    "Disadvantages\n",
    "\n",
    "The concept of border points is subtle, and the data may change which cluster it belongs to.\n",
    "It is difficult to determine the parameters without knowing the data.\n",
    "Important parameters\n",
    "\n",
    "eps: Radial distance when searching for a nearby point from a certain point\n",
    "min_samples: Number of points included in the radius range when judging as a cluster\n",
    "\n",
    "\n",
    "What is t-SNE?\n",
    "A method that can reduce the dimension of data that holds a non-linear structure in a high-dimensional space without impairing the similarity.\n",
    "\n",
    "Key points for understanding t-SNE\n",
    "\n",
    "Dimensionality reduction concept in t-SNE: Non-linear transformation to maintain the relationship with nearby points as much as possible.\n",
    "Representation method of relationships between data: Represents relationships between points using a probability distribution.\n",
    "Distribution optimization: Use KL divergence between the same points corresponding to the cost function in high and low dimensions.\n",
    "Important parameters\n",
    "\n",
    "perplecity: Contributes to determining how close points are considered when assessing relationships between data\n",
    "\n",
    "Advantages\n",
    "\n",
    "Very well captures high-dimensional local structures\n",
    "Disadvantages\n",
    "\n",
    "Perplexity makes the cluster completely different\n",
    "It is faithful to local information, but cannot retain global information at all. It cannot retain positional relationships in feature space.\n",
    "Usage scene\n",
    "\n",
    "For example, when you want to visualize the relationships between classes by dropping fairly high-dimensional data into 2D or 3D.\n",
    "What is LLE\n",
    "A method that takes an approach called manifold learning.\n",
    "A method to locally find a figure that can be regarded as a low-dimensional hyperplane and reduce it to a lower dimension.\n",
    "\n",
    "merit\n",
    "\n",
    "It is possible to reduce the dimension of non-linear data without impairing the similarity.\n",
    "Demerit\n",
    "\n",
    "When there are multiple manifolds, the positional relationship cannot be saved well with each other.\n",
    "It is difficult to apply to large-scale data because the amount of calculation to reconstruct the data position after compression is proportional to the square of the number of data.\n",
    "\n",
    "\n",
    "\n",
    "\n"
   ]
  },
  {
   "cell_type": "markdown",
   "id": "1963e589",
   "metadata": {},
   "source": [
    "# Problem 14 (Advance issue) \n",
    "## Use of t-SNE and DBSCAN"
   ]
  },
  {
   "cell_type": "code",
   "execution_count": 81,
   "id": "6463359b",
   "metadata": {},
   "outputs": [
    {
     "data": {
      "text/plain": [
       "(array([-1,  0,  1,  2,  3,  4,  5,  6], dtype=int64),\n",
       " array([ 32, 120,  67,   7, 178,  27,   4,   5], dtype=int64))"
      ]
     },
     "execution_count": 81,
     "metadata": {},
     "output_type": "execute_result"
    }
   ],
   "source": [
    "\n",
    "\n",
    "data_all = pd.read_csv(\"Wholesale customers data.csv\")\n",
    "\n",
    "#カテゴリ列は除く\n",
    "data = data_all.drop(columns=[\"Channel\", \"Region\"])\n",
    "\n",
    "sc = StandardScaler()\n",
    "data = sc.fit_transform(data)\n",
    "\n",
    "data_embedded = TSNE(n_components=2, perplexity=50).fit_transform(data)\n",
    "\n",
    "clustering = DBSCAN(eps=1.5, min_samples=5)\n",
    "clustering.fit(data_embedded)\n",
    "\n",
    "cluster_labels = clustering.labels_.reshape(-1, 1)\n",
    "data_embedded = np.concatenate([data_embedded, cluster_labels], axis=1)\n",
    "cluster, _ = np.unique(cluster_labels, return_counts=True)\n",
    "cluster, _\n"
   ]
  },
  {
   "cell_type": "code",
   "execution_count": 82,
   "id": "a6c01f3b",
   "metadata": {},
   "outputs": [
    {
     "data": {
      "image/png": "[encoded data removed]",
      "text/plain": [
       "<Figure size 432x288 with 1 Axes>"
      ]
     },
     "metadata": {
      "needs_background": "light"
     },
     "output_type": "display_data"
    }
   ],
   "source": [
    "for y in cluster:\n",
    "    y_filter = data_embedded[:, 2] == y\n",
    "    plt.scatter(data_embedded[y_filter, 0], data_embedded[y_filter, 1], label=str(y))\n",
    "\n",
    "plt.legend()\n",
    "plt.show()"
   ]
  },
  {
   "cell_type": "code",
   "execution_count": null,
   "id": "19f31802",
   "metadata": {},
   "outputs": [],
   "source": []
  }
 ],
 "metadata": {
  "kernelspec": {
   "display_name": "Python 3",
   "language": "python",
   "name": "python3"
  },
  "language_info": {
   "codemirror_mode": {
    "name": "ipython",
    "version": 3
   },
   "file_extension": ".py",
   "mimetype": "text/x-python",
   "name": "python",
   "nbconvert_exporter": "python",
   "pygments_lexer": "ipython3",
   "version": "3.8.8"
  }
 },
 "nbformat": 4,
 "nbformat_minor": 5
}
