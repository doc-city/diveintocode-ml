{
  "nbformat": 4,
  "nbformat_minor": 0,
  "metadata": {
    "colab": {
      "name": "wheat_chessboard.ipynb",
      "provenance": [],
      "authorship_tag": "ABX9TyPAMVSxz4jtr9DZ0fXk1cfe",
      "include_colab_link": true
    },
    "kernelspec": {
      "name": "python3",
      "display_name": "Python 3"
    }
  },
  "cells": [
    {
      "cell_type": "markdown",
      "metadata": {
        "id": "view-in-github",
        "colab_type": "text"
      },
      "source": [
        "<a href=\"https://colab.research.google.com/github/doc-city/diveintocode-ml/blob/main/wheat_chessboard.ipynb\" target=\"_parent\"><img src=\"https://colab.research.google.com/assets/colab-badge.svg\" alt=\"Open In Colab\"/></a>"
      ]
    },
    {
      "cell_type": "code",
      "metadata": {
        "colab": {
          "base_uri": "https://localhost:8080/"
        },
        "id": "ecSeCgolQqpG",
        "outputId": "cbf82a4f-7c1b-4d28-e6a5-7c8ce4e6e9e8"
      },
      "source": [
        "n_squares = 4\r\n",
        "small_board_list = [1]\r\n",
        "for _ in range(n_squares - 1):\r\n",
        "    small_board_list.append(2*small_board_list[-1])\r\n",
        "print(\"Arrange wheat on a plate of 4 squares (list)：{}\".format(small_board_list))"
      ],
      "execution_count": 1,
      "outputs": [
        {
          "output_type": "stream",
          "text": [
            "Arrange wheat on a plate of 4 squares (list)：[1, 2, 4, 8]\n"
          ],
          "name": "stdout"
        }
      ]
    },
    {
      "cell_type": "code",
      "metadata": {
        "colab": {
          "base_uri": "https://localhost:8080/"
        },
        "id": "rJPz50-gSwhf",
        "outputId": "f36acaec-e2a7-4247-f523-e93066e12d17"
      },
      "source": [
        "import numpy as np\r\n",
        "small_board_ndarray = np.array(small_board_list)\r\n",
        "print(\"Arrange wheat on a plate of 4 squares (ndarray)：{}\".format(small_board_ndarray))"
      ],
      "execution_count": 2,
      "outputs": [
        {
          "output_type": "stream",
          "text": [
            "Arrange wheat on a plate of 4 squares (ndarray)：[1 2 4 8]\n"
          ],
          "name": "stdout"
        }
      ]
    },
    {
      "cell_type": "markdown",
      "metadata": {
        "id": "ZGxsbHzRVrVU"
      },
      "source": [
        "PROBLEM 1\r\n",
        "\r\n",
        "Number of wheat on a 2 x 2 square chess board"
      ]
    },
    {
      "cell_type": "code",
      "metadata": {
        "colab": {
          "base_uri": "https://localhost:8080/"
        },
        "id": "wav4Tb8oUhAX",
        "outputId": "568102c1-d2ef-4d84-b637-6e2caa7544c6"
      },
      "source": [
        "n_squares = 4\r\n",
        "chess_board_list = [1]\r\n",
        "for square in range(n_squares - 1):\r\n",
        "  chess_board_list.append(2*chess_board_list[square])\r\n",
        "  chess_board_ndarray = np.array(chess_board_list)\r\n",
        "print(\"The chess board with rice\",chess_board_ndarray)"
      ],
      "execution_count": 7,
      "outputs": [
        {
          "output_type": "stream",
          "text": [
            "The chess board with rice [1 2 4 8]\n"
          ],
          "name": "stdout"
        }
      ]
    },
    {
      "cell_type": "code",
      "metadata": {
        "colab": {
          "base_uri": "https://localhost:8080/"
        },
        "id": "KHBtnXvvmbEm",
        "outputId": "50b6bb50-48fc-4a20-c1a8-4582534561e7"
      },
      "source": [
        "chess_board_ndarray = np.array(chess_board_list).reshape(2, 2)   \r\n",
        "print(\"Answer to [Problem 1]{}\".format(chess_board_ndarray))                                                       "
      ],
      "execution_count": 23,
      "outputs": [
        {
          "output_type": "stream",
          "text": [
            "Answer to [Problem 1][[1 2]\n",
            " [4 8]]\n"
          ],
          "name": "stdout"
        }
      ]
    },
    {
      "cell_type": "markdown",
      "metadata": {
        "id": "iNb-MvK5rkxi"
      },
      "source": [
        "PROBLEM 2\r\n",
        "\r\n",
        "Expansion to n × m mass"
      ]
    },
    {
      "cell_type": "code",
      "metadata": {
        "colab": {
          "base_uri": "https://localhost:8080/"
        },
        "id": "8WFvYlKFtgMJ",
        "outputId": "5668d3d4-da38-4394-b04b-b43ef56c22fd"
      },
      "source": [
        "def number_of_wheats(n, m):\r\n",
        "    chess_board_list = [1]\r\n",
        "    for _ in range(n*m - 1):\r\n",
        "        chess_board_list.append(2*chess_board_list[-1])\r\n",
        "        \r\n",
        "    chess_board_ndarray = np.array(chess_board_list).reshape(n, m)\r\n",
        "    return chess_board_ndarray\r\n",
        "n, m = 8, 8\r\n",
        "print(\"Answer to [Problem 2] {}\".format(number_of_wheats(n, m)))"
      ],
      "execution_count": 31,
      "outputs": [
        {
          "output_type": "stream",
          "text": [
            "Answer to [Problem 2] [[1.00000000e+00 2.00000000e+00 4.00000000e+00 8.00000000e+00\n",
            "  1.60000000e+01 3.20000000e+01 6.40000000e+01 1.28000000e+02]\n",
            " [2.56000000e+02 5.12000000e+02 1.02400000e+03 2.04800000e+03\n",
            "  4.09600000e+03 8.19200000e+03 1.63840000e+04 3.27680000e+04]\n",
            " [6.55360000e+04 1.31072000e+05 2.62144000e+05 5.24288000e+05\n",
            "  1.04857600e+06 2.09715200e+06 4.19430400e+06 8.38860800e+06]\n",
            " [1.67772160e+07 3.35544320e+07 6.71088640e+07 1.34217728e+08\n",
            "  2.68435456e+08 5.36870912e+08 1.07374182e+09 2.14748365e+09]\n",
            " [4.29496730e+09 8.58993459e+09 1.71798692e+10 3.43597384e+10\n",
            "  6.87194767e+10 1.37438953e+11 2.74877907e+11 5.49755814e+11]\n",
            " [1.09951163e+12 2.19902326e+12 4.39804651e+12 8.79609302e+12\n",
            "  1.75921860e+13 3.51843721e+13 7.03687442e+13 1.40737488e+14]\n",
            " [2.81474977e+14 5.62949953e+14 1.12589991e+15 2.25179981e+15\n",
            "  4.50359963e+15 9.00719925e+15 1.80143985e+16 3.60287970e+16]\n",
            " [7.20575940e+16 1.44115188e+17 2.88230376e+17 5.76460752e+17\n",
            "  1.15292150e+18 2.30584301e+18 4.61168602e+18 9.22337204e+18]]\n"
          ],
          "name": "stdout"
        }
      ]
    },
    {
      "cell_type": "markdown",
      "metadata": {
        "id": "J4YuUi2mwJ-h"
      },
      "source": [
        "PROBLEM 3\r\n",
        "\r\n",
        "Total number of wheat"
      ]
    },
    {
      "cell_type": "code",
      "metadata": {
        "colab": {
          "base_uri": "https://localhost:8080/"
        },
        "id": "wTHM6BxDx8j5",
        "outputId": "fc005397-9e22-4873-dffc-4f0affa537b5"
      },
      "source": [
        "chess_board_ndarray = cal_number_of_wheats(8,8)\r\n",
        "total = chess_board_ndarray.sum()\r\n",
        "print(\"The total number of wheats\",total)"
      ],
      "execution_count": 37,
      "outputs": [
        {
          "output_type": "stream",
          "text": [
            "The total number of wheats 1.8446744073709552e+19\n"
          ],
          "name": "stdout"
        }
      ]
    },
    {
      "cell_type": "code",
      "metadata": {
        "colab": {
          "base_uri": "https://localhost:8080/",
          "height": 294
        },
        "id": "1f83bxZY0k0p",
        "outputId": "083aaf17-b1c2-4e5a-b787-242a383beb5a"
      },
      "source": [
        "## Displaying on a bar chart graph\r\n",
        "import matplotlib.pyplot as plt\r\n",
        "%matplotlib inline\r\n",
        "plt.xlabel(\"Column\")\r\n",
        "plt.ylabel(\"Number\")\r\n",
        "plt.title(\"Number in each colunmn\")\r\n",
        "plt.bar(np.arange(1,9), chess_board_ndarray.mean(axis=0))\r\n",
        "plt.show()\r\n"
      ],
      "execution_count": 76,
      "outputs": [
        {
          "output_type": "display_data",
          "data": {
            "image/png": "[encoded data removed]",
            "text/plain": [
              "<Figure size 432x288 with 1 Axes>"
            ]
          },
          "metadata": {
            "tags": [],
            "needs_background": "light"
          }
        }
      ]
    },
    {
      "cell_type": "code",
      "metadata": {
        "colab": {
          "base_uri": "https://localhost:8080/"
        },
        "id": "hpfaIV0r2-Qa",
        "outputId": "dfe005ce-5beb-45ba-8b64-dfad86109438"
      },
      "source": [
        "print(\"mean of ndarray on 0 axis\",chess_board_ndarray.mean(axis=0))"
      ],
      "execution_count": 49,
      "outputs": [
        {
          "output_type": "stream",
          "text": [
            "mean of ndarray on 0 axis [9.04252160e+15 1.80850432e+16 3.61700864e+16 7.23401728e+16\n",
            " 1.44680346e+17 2.89360691e+17 5.78721383e+17 1.15744277e+18]\n"
          ],
          "name": "stdout"
        }
      ]
    },
    {
      "cell_type": "markdown",
      "metadata": {
        "id": "OxNhlYIE5ep1"
      },
      "source": [
        "PROBLEM 4\r\n",
        "\r\n",
        "Display the of wheat on a heat map."
      ]
    },
    {
      "cell_type": "code",
      "metadata": {
        "colab": {
          "base_uri": "https://localhost:8080/",
          "height": 294
        },
        "id": "c0A7Sijo4OoH",
        "outputId": "00cf0aec-b623-4b76-fc4f-8be56717d040"
      },
      "source": [
        "plt.xlabel(\"Column\")\r\n",
        "plt.ylabel(\"Row\")\r\n",
        "plt.title(\"Heatmap\")\r\n",
        "plt.pcolor(chess_board_ndarray, alpha=0.8)\r\n",
        "plt.colorbar()\r\n",
        "plt.show()"
      ],
      "execution_count": 77,
      "outputs": [
        {
          "output_type": "display_data",
          "data": {
            "image/png": "[encoded data removed]",
            "text/plain": [
              "<Figure size 432x288 with 2 Axes>"
            ]
          },
          "metadata": {
            "tags": [],
            "needs_background": "light"
          }
        }
      ]
    },
    {
      "cell_type": "markdown",
      "metadata": {
        "id": "nNmW2EPCIxFm"
      },
      "source": [
        "PROBLEM 5\r\n",
        "\r\n",
        "The second half of the chess board"
      ]
    },
    {
      "cell_type": "code",
      "metadata": {
        "colab": {
          "base_uri": "https://localhost:8080/"
        },
        "id": "x6kNg8qG6bkX",
        "outputId": "1ffac136-e14f-43e8-dda5-2c466721053b"
      },
      "source": [
        "## Create a variable for half of 8 by 8\r\n",
        "n = 8\r\n",
        "m = 8\r\n",
        "half = int(n/2)\r\n",
        "first_half = chess_board_ndarray[0:half]\r\n",
        "second_half = chess_board_ndarray[half:n]\r\n",
        "print(\"First half\")\r\n",
        "print(first_half)\r\n",
        "print(\"Second Half\")\r\n",
        "print(second_half)"
      ],
      "execution_count": 51,
      "outputs": [
        {
          "output_type": "stream",
          "text": [
            "First half\n",
            "[[1.00000000e+00 2.00000000e+00 4.00000000e+00 8.00000000e+00\n",
            "  1.60000000e+01 3.20000000e+01 6.40000000e+01 1.28000000e+02]\n",
            " [2.56000000e+02 5.12000000e+02 1.02400000e+03 2.04800000e+03\n",
            "  4.09600000e+03 8.19200000e+03 1.63840000e+04 3.27680000e+04]\n",
            " [6.55360000e+04 1.31072000e+05 2.62144000e+05 5.24288000e+05\n",
            "  1.04857600e+06 2.09715200e+06 4.19430400e+06 8.38860800e+06]\n",
            " [1.67772160e+07 3.35544320e+07 6.71088640e+07 1.34217728e+08\n",
            "  2.68435456e+08 5.36870912e+08 1.07374182e+09 2.14748365e+09]]\n",
            "Second Half\n",
            "[[4.29496730e+09 8.58993459e+09 1.71798692e+10 3.43597384e+10\n",
            "  6.87194767e+10 1.37438953e+11 2.74877907e+11 5.49755814e+11]\n",
            " [1.09951163e+12 2.19902326e+12 4.39804651e+12 8.79609302e+12\n",
            "  1.75921860e+13 3.51843721e+13 7.03687442e+13 1.40737488e+14]\n",
            " [2.81474977e+14 5.62949953e+14 1.12589991e+15 2.25179981e+15\n",
            "  4.50359963e+15 9.00719925e+15 1.80143985e+16 3.60287970e+16]\n",
            " [7.20575940e+16 1.44115188e+17 2.88230376e+17 5.76460752e+17\n",
            "  1.15292150e+18 2.30584301e+18 4.61168602e+18 9.22337204e+18]]\n"
          ],
          "name": "stdout"
        }
      ]
    },
    {
      "cell_type": "code",
      "metadata": {
        "colab": {
          "base_uri": "https://localhost:8080/"
        },
        "id": "701-Ko2e8WJC",
        "outputId": "a3d86f00-facc-4121-ac8e-03a749f5076f"
      },
      "source": [
        "## Calculate the sum\r\n",
        "sum_of_first_half = first_half.sum()\r\n",
        "sum_of_second_half = second_half.sum()\r\n",
        "\r\n",
        "n_times = sum_of_second_half/sum_of_first_half\r\n",
        "print(\"The second half is this {} times bigger than the first half\".format(n_times))"
      ],
      "execution_count": 54,
      "outputs": [
        {
          "output_type": "stream",
          "text": [
            "The second half is this 4294967296.0 times bigger than the first half\n"
          ],
          "name": "stdout"
        }
      ]
    },
    {
      "cell_type": "code",
      "metadata": {
        "colab": {
          "base_uri": "https://localhost:8080/"
        },
        "id": "s5We2Seg925Q",
        "outputId": "21669650-93ba-4a88-dcb5-73a43c0ca004"
      },
      "source": [
        "## Usinging ndarray np.append and a for statement\r\n",
        "n_squares = 4\r\n",
        "small_board_ndarray = np.array([1])\r\n",
        "for _ in range(n_squares - 1):\r\n",
        "    small_board_ndarray = np.append(small_board_ndarray, 2*small_board_ndarray[-1])\r\n",
        "print(\"Arrange wheat on a plate of 4 squares (ndarray)：{}\".format(small_board_ndarray))"
      ],
      "execution_count": 53,
      "outputs": [
        {
          "output_type": "stream",
          "text": [
            "Arrange wheat on a plate of 4 squares (ndarray)：[1 2 4 8]\n"
          ],
          "name": "stdout"
        }
      ]
    },
    {
      "cell_type": "code",
      "metadata": {
        "colab": {
          "base_uri": "https://localhost:8080/"
        },
        "id": "wgqNTQcf-odH",
        "outputId": "94527cc9-2754-414d-fc51-af5ce61050b9"
      },
      "source": [
        "## By utilizing broadcast, you can also create the following.\r\n",
        "n_squares = 4\r\n",
        "indices_of_squares = np.arange(n_squares)\r\n",
        "small_board_ndarray = 2**indices_of_squares\r\n",
        "print(\"Arrange wheat on a plate of 4 squares (ndarray)：{}\".format(small_board_ndarray))"
      ],
      "execution_count": 55,
      "outputs": [
        {
          "output_type": "stream",
          "text": [
            "Arrange wheat on a plate of 4 squares (ndarray)：[1 2 4 8]\n"
          ],
          "name": "stdout"
        }
      ]
    },
    {
      "cell_type": "code",
      "metadata": {
        "colab": {
          "base_uri": "https://localhost:8080/"
        },
        "id": "IwEguU7JBC8e",
        "outputId": "0287bf70-4f19-470c-929a-fbc96ee041cf"
      },
      "source": [
        "## The number of wheat of 64 trout \r\n",
        "n_squares = 64\r\n",
        "indices_of_squares = np.arange(n_squares)\r\n",
        "board_ndarray = 2**indices_of_squares\r\n",
        "print(\"Number of wheat in the last trout：{}\".format(board_ndarray[-1]))"
      ],
      "execution_count": 57,
      "outputs": [
        {
          "output_type": "stream",
          "text": [
            "Number of wheat in the last trout：-9223372036854775808\n"
          ],
          "name": "stdout"
        }
      ]
    },
    {
      "cell_type": "markdown",
      "metadata": {
        "id": "c28NaqSsB_ZC"
      },
      "source": [
        "PROBLEM 6\r\n",
        "\r\n",
        " Expansion to n × m mass by another calculation method"
      ]
    },
    {
      "cell_type": "code",
      "metadata": {
        "colab": {
          "base_uri": "https://localhost:8080/"
        },
        "id": "CfPZkqXxDRcL",
        "outputId": "1692600f-c35f-4415-932f-439752fb39f5"
      },
      "source": [
        "## Calculating the number of wheats on an 8 by 8 chess board using the append method with for loop statement\r\n",
        "def create_ndarray_npappend(n, m):\r\n",
        "    board_ndarray = np.array([1]).astype(np.uint64)\r\n",
        "    for _ in range(1, n * m):\r\n",
        "        board_ndarray = np.append(board_ndarray, 2 * board_ndarray[-1])\r\n",
        "    return board_ndarray.reshape(n, m)\r\n",
        "\r\n",
        "n, m = 8, 8\r\n",
        "sum_board_array = np.sum(create_ndarray_npappend(n, m))\r\n",
        "print(\"The number of wheat on a chess board of 8 × 8 squares {: .3e} \".format(sum_board_array))"
      ],
      "execution_count": 78,
      "outputs": [
        {
          "output_type": "stream",
          "text": [
            "The number of wheat on a chess board of 8 × 8 squares  1.845e+19 \n"
          ],
          "name": "stdout"
        }
      ]
    },
    {
      "cell_type": "code",
      "metadata": {
        "colab": {
          "base_uri": "https://localhost:8080/"
        },
        "id": "ZmuwhBe-Er1l",
        "outputId": "bee0d3ce-6a57-499f-fceb-ee452f940f6d"
      },
      "source": [
        "## Calculating the number of wheats on an 8 by 8 chess board using the broadcast method\r\n",
        "def create_ndarray_broadcast(n, m):\r\n",
        "    board_ndarray = np.arange(n*m).astype(np.uint64).reshape(n, m)\r\n",
        "    board_ndarray = 2**board_ndarray\r\n",
        "    \r\n",
        "    return board_ndarray\r\n",
        "\r\n",
        "n, m = 8, 8\r\n",
        "sum_board_array = np.sum(create_ndarray_broadcast(n, m))\r\n",
        "print(\"The result number of wheat on a chess board of 8 × 8 squares {: .3e}\".format(sum_board_array))"
      ],
      "execution_count": 79,
      "outputs": [
        {
          "output_type": "stream",
          "text": [
            "The result number of wheat on a chess board of 8 × 8 squares  1.845e+19\n"
          ],
          "name": "stdout"
        }
      ]
    },
    {
      "cell_type": "markdown",
      "metadata": {
        "id": "pPZ71azgFiD9"
      },
      "source": [
        "PROBLEM 7\r\n",
        "\r\n",
        "Comparing calculation times"
      ]
    },
    {
      "cell_type": "code",
      "metadata": {
        "colab": {
          "base_uri": "https://localhost:8080/"
        },
        "id": "W7eS7IRZFJKe",
        "outputId": "4b6ed059-902a-44e3-fac6-a7ef5b573e9d"
      },
      "source": [
        "%%timeit\r\n",
        "cal_number_of_wheats(8,8)"
      ],
      "execution_count": 69,
      "outputs": [
        {
          "output_type": "stream",
          "text": [
            "100000 loops, best of 3: 15.6 µs per loop\n"
          ],
          "name": "stdout"
        }
      ]
    },
    {
      "cell_type": "code",
      "metadata": {
        "colab": {
          "base_uri": "https://localhost:8080/"
        },
        "id": "yjk4FvjIGDuO",
        "outputId": "7a44c1b8-725c-48e5-bac5-9d587d2df6d3"
      },
      "source": [
        "%%timeit\r\n",
        "create_ndarray_npappend(8,8)"
      ],
      "execution_count": 71,
      "outputs": [
        {
          "output_type": "stream",
          "text": [
            "The slowest run took 5.49 times longer than the fastest. This could mean that an intermediate result is being cached.\n",
            "1000 loops, best of 3: 429 µs per loop\n"
          ],
          "name": "stdout"
        }
      ]
    },
    {
      "cell_type": "code",
      "metadata": {
        "colab": {
          "base_uri": "https://localhost:8080/"
        },
        "id": "17YeRJsaGYW_",
        "outputId": "1915c61e-2919-4ffe-dd0a-e8fd1ec7ed37"
      },
      "source": [
        "%%timeit\r\n",
        "create_ndarray_broadcast(8,8)"
      ],
      "execution_count": 75,
      "outputs": [
        {
          "output_type": "stream",
          "text": [
            "The slowest run took 49.00 times longer than the fastest. This could mean that an intermediate result is being cached.\n",
            "100000 loops, best of 3: 3.58 µs per loop\n"
          ],
          "name": "stdout"
        }
      ]
    },
    {
      "cell_type": "code",
      "metadata": {
        "id": "95x2opUVGmnE"
      },
      "source": [
        ""
      ],
      "execution_count": 74,
      "outputs": []
    }
  ]
}